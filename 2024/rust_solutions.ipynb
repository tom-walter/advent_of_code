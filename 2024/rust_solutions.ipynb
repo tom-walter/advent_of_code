{
 "cells": [
  {
   "cell_type": "markdown",
   "metadata": {},
   "source": [
    "# Advent of Code 2024\n",
    "\n",
    "## Day 01"
   ]
  },
  {
   "cell_type": "code",
   "execution_count": 2,
   "metadata": {
    "vscode": {
     "languageId": "rust"
    }
   },
   "outputs": [],
   "source": [
    "use std::fs::File;\n",
    "use std::io::Read;\n",
    "\n",
    "fn load_unaltered(filepath: &str) -> String {\n",
    "    let mut file = File::open(filepath).expect(\"Error reading file\");\n",
    "    let mut payload = String::new();\n",
    "    file.read_to_string(&mut payload).unwrap();\n",
    "    payload\n",
    "}"
   ]
  },
  {
   "cell_type": "code",
   "execution_count": 3,
   "metadata": {
    "vscode": {
     "languageId": "rust"
    }
   },
   "outputs": [
    {
     "name": "stdout",
     "output_type": "stream",
     "text": [
      "Result: 2378066\n"
     ]
    },
    {
     "data": {
      "text/plain": [
       "()"
      ]
     },
     "execution_count": 3,
     "metadata": {},
     "output_type": "execute_result"
    }
   ],
   "source": [
    "fn process_step1(payload: &str) -> String {\n",
    "    let mut left: Vec<i32> = Vec::new();\n",
    "    let mut right: Vec<i32> = Vec::new();\n",
    "\n",
    "    for pair in payload.lines() {\n",
    "        if let Some((l, r)) = pair.split_once(\"   \") {\n",
    "            left.push(l.trim().parse::<i32>().unwrap_or(0));\n",
    "            right.push(r.trim().parse::<i32>().unwrap_or(0));\n",
    "        }\n",
    "    }\n",
    "\n",
    "    left.sort();\n",
    "    right.sort();\n",
    "\n",
    "    let total_distance: i32 = left\n",
    "        .iter()\n",
    "        .zip(right.iter())\n",
    "        .map(|(l, r)| (l - r).abs())\n",
    "        .sum();\n",
    "\n",
    "    total_distance.to_string()\n",
    "}\n",
    "\n",
    "fn day1() {\n",
    "    let payload = load_unaltered(\"./d01.txt\");\n",
    "    let result: String = process_step1(&payload);\n",
    "    println!(\"Result: {}\", result)\n",
    "}\n",
    "\n",
    "day1()"
   ]
  },
  {
   "cell_type": "code",
   "execution_count": null,
   "metadata": {
    "vscode": {
     "languageId": "rust"
    }
   },
   "outputs": [
    {
     "name": "stdout",
     "output_type": "stream",
     "text": [
      "Result: 18934359\n"
     ]
    },
    {
     "data": {
      "text/plain": [
       "()"
      ]
     },
     "execution_count": 4,
     "metadata": {},
     "output_type": "execute_result"
    }
   ],
   "source": [
    "use std::collections::HashMap;\n",
    "\n",
    "fn count<T: std::cmp::Eq + std::hash::Hash>(vec: &[T]) -> HashMap<T, usize> \n",
    "where T: Clone {\n",
    "    let mut counter = HashMap::new();\n",
    "    for item in vec {\n",
    "        *counter.entry(item.clone()).or_insert(0) += 1;\n",
    "    }\n",
    "    counter\n",
    "}\n",
    "\n",
    "\n",
    "fn process_step2(payload: &str) -> String {\n",
    "    let mut left: Vec<i32> = Vec::new();\n",
    "    let mut right: Vec<i32> = Vec::new();\n",
    "\n",
    "    for pair in payload.split(\"\\n\") {\n",
    "        if let Some((l, r)) = pair.split_once(\"   \") {\n",
    "            left.push(l.trim().parse::<i32>().unwrap_or(0));\n",
    "            right.push(r.trim().parse::<i32>().unwrap_or(0));\n",
    "        }\n",
    "    }\n",
    "\n",
    "    \n",
    "    // let r_counter = count(&right);\n",
    "    let mut r_counter = HashMap::new();\n",
    "    for num in right {\n",
    "         * r_counter.entry(num.clone()).or_insert(0) += 1;\n",
    "    }\n",
    "    \n",
    "\n",
    "    let similarity: i32 = left\n",
    "        .iter()\n",
    "        .map(|&l| {\n",
    "            let r = r_counter.get(&l).cloned().unwrap_or(0);\n",
    "            r as i32 * l\n",
    "        })\n",
    "        .sum();\n",
    "\n",
    "    similarity.to_string()\n",
    "}\n",
    "\n",
    "fn day1() {\n",
    "    let payload = load_unaltered(\"./d01.txt\");\n",
    "    let result: String = process_step2(&payload);\n",
    "    println!(\"Result: {}\", result)\n",
    "}\n",
    "\n",
    "day1()"
   ]
  },
  {
   "cell_type": "markdown",
   "metadata": {},
   "source": [
    "## Day 02"
   ]
  },
  {
   "cell_type": "code",
   "execution_count": 5,
   "metadata": {
    "vscode": {
     "languageId": "rust"
    }
   },
   "outputs": [
    {
     "name": "stdout",
     "output_type": "stream",
     "text": [
      "Result: 564\n"
     ]
    },
    {
     "data": {
      "text/plain": [
       "()"
      ]
     },
     "execution_count": 5,
     "metadata": {},
     "output_type": "execute_result"
    }
   ],
   "source": [
    "fn vec_diffs(nums: &Vec<i32>) -> Vec<i32> {\n",
    "    // out[i] = a[i+1] - a[i]\n",
    "    nums.windows(2)\n",
    "        .map(|w| w[1] - w[0])\n",
    "        .collect()\n",
    "}\n",
    "\n",
    "fn vec_signs(nums: &Vec<i32>) -> Vec<i32> {\n",
    "    nums\n",
    "        .iter()\n",
    "        .map(\n",
    "            |&n| if n >= 0 { 1 } else { -1 }\n",
    "        )\n",
    "        .collect()\n",
    "}\n",
    "\n",
    "fn check_diffs(diffs: &Vec<i32>) -> bool {\n",
    "    let absolutes: Vec<i32> = diffs\n",
    "        .iter()\n",
    "        .map(|&d| d.abs())\n",
    "        .collect();\n",
    "\n",
    "    let d_min = *absolutes.iter().min().unwrap_or(&0);\n",
    "    let d_max = *absolutes.iter().max().unwrap_or(&0);\n",
    "\n",
    "    d_min >= 1 && d_max <= 3\n",
    "}\n",
    "\n",
    "fn check_signs(signs: &Vec<i32>) -> bool {\n",
    "    let pos = vec![1; signs.len()];\n",
    "    let neg = vec![-1; signs.len()];\n",
    "\n",
    "    *signs == pos || *signs == neg\n",
    "}\n",
    "\n",
    "fn check_safety(nums: Vec<i32>) -> bool {\n",
    "    let diffs = vec_diffs(&nums);\n",
    "    let signs = vec_signs(&diffs);\n",
    "\n",
    "    let check1 = check_diffs(&diffs);\n",
    "    let check2 = check_signs(&signs);\n",
    "\n",
    "    check1 && check2\n",
    "}\n",
    "\n",
    "fn process_step1(payload: &str) -> String {\n",
    "    let reports: Vec<bool> = payload\n",
    "        .lines()\n",
    "        .map(|line| {\n",
    "            let nums: Vec<i32> = line\n",
    "                .split_whitespace()\n",
    "                .map(|s| s.parse::<i32>().unwrap_or(0))\n",
    "                .collect();\n",
    "\n",
    "            check_safety(nums)\n",
    "        })\n",
    "        .collect();\n",
    "\n",
    "    let n_safe_report = reports.iter().filter(|&&safe| safe).count();\n",
    "    n_safe_report.to_string()\n",
    "}\n",
    "\n",
    "fn day2() {\n",
    "    let payload = load_unaltered(\"./d02.txt\");\n",
    "    let result: String = process_step1(&payload);\n",
    "    println!(\"Result: {}\", result)\n",
    "}\n",
    "\n",
    "day2()"
   ]
  },
  {
   "cell_type": "code",
   "execution_count": 6,
   "metadata": {
    "vscode": {
     "languageId": "rust"
    }
   },
   "outputs": [
    {
     "name": "stdout",
     "output_type": "stream",
     "text": [
      "Result: 604\n"
     ]
    },
    {
     "data": {
      "text/plain": [
       "()"
      ]
     },
     "execution_count": 6,
     "metadata": {},
     "output_type": "execute_result"
    }
   ],
   "source": [
    "fn check_dampener(nums: Vec<i32>) -> bool {\n",
    "    let length = nums.len(); \n",
    "    for ind in 0..length {\n",
    "        let mut lev = nums.clone();\n",
    "        lev.remove(ind);\n",
    "\n",
    "        if check_safety(lev){\n",
    "            return true\n",
    "        }\n",
    "    }\n",
    "    return false\n",
    "}\n",
    "\n",
    "\n",
    "fn process_step2(payload: &str) -> String {\n",
    "    let reports: Vec<bool> = payload\n",
    "        .lines()\n",
    "        .map(|line| {\n",
    "            let nums: Vec<i32> = line\n",
    "                .split_whitespace()\n",
    "                .map(|s| s.parse::<i32>().unwrap_or(0))\n",
    "                .collect();\n",
    "\n",
    "            if check_safety(nums.clone()) {\n",
    "                true\n",
    "            } else {\n",
    "                check_dampener(nums)\n",
    "            }\n",
    "        })\n",
    "        .collect();\n",
    "\n",
    "    let n_safe_report = reports.iter().filter(|&&safe| safe).count();\n",
    "    n_safe_report.to_string()\n",
    "}\n",
    "\n",
    "\n",
    "fn day2() {\n",
    "    let payload = load_unaltered(\"./d02.txt\");\n",
    "    let result: String = process_step2(&payload);\n",
    "    println!(\"Result: {}\", result)\n",
    "}\n",
    "\n",
    "day2()"
   ]
  },
  {
   "cell_type": "markdown",
   "metadata": {},
   "source": [
    "## Day 03\n",
    "\n",
    "* note: compiling external dependencies takes a while"
   ]
  },
  {
   "cell_type": "code",
   "execution_count": 7,
   "metadata": {
    "vscode": {
     "languageId": "rust"
    }
   },
   "outputs": [
    {
     "name": "stdout",
     "output_type": "stream",
     "text": [
      "Result: 188116424\n"
     ]
    },
    {
     "data": {
      "text/plain": [
       "()"
      ]
     },
     "execution_count": 7,
     "metadata": {},
     "output_type": "execute_result"
    }
   ],
   "source": [
    ":dep regex = {version = \"1.10\"}\n",
    "use regex::Regex;\n",
    "// build and test pattern at https://regex101.com/\n",
    "\n",
    "fn process_step1(payload: &str) -> String {\n",
    "    // pattern for valid mul instructions\n",
    "    let mul_pattern = Regex::new(r\"mul\\((\\d+),(\\d+)\\)\").unwrap();\n",
    "    \n",
    "    let sum_products: i32 = mul_pattern\n",
    "        .captures_iter(payload)\n",
    "        .map(|nums| {\n",
    "            let a: i32 = nums[1].parse().unwrap();\n",
    "            let b: i32 = nums[2].parse().unwrap();\n",
    "            a * b\n",
    "        })\n",
    "        .sum();\n",
    "    \n",
    "    sum_products.to_string()\n",
    "}\n",
    "\n",
    "fn day3() {\n",
    "    let payload = load_unaltered(\"./d03.txt\");\n",
    "    let result: String = process_step1(&payload);\n",
    "    println!(\"Result: {}\", result)\n",
    "}\n",
    "\n",
    "day3()"
   ]
  },
  {
   "cell_type": "code",
   "execution_count": 8,
   "metadata": {
    "vscode": {
     "languageId": "rust"
    }
   },
   "outputs": [
    {
     "name": "stdout",
     "output_type": "stream",
     "text": [
      "Result: 104245808\n"
     ]
    },
    {
     "data": {
      "text/plain": [
       "()"
      ]
     },
     "execution_count": 8,
     "metadata": {},
     "output_type": "execute_result"
    }
   ],
   "source": [
    ":dep regex = {version = \"1.10\"}\n",
    "use regex::Regex;\n",
    "\n",
    "fn update_enable(instr: &str) -> bool {\n",
    "    if instr == \"do()\" {\n",
    "        true\n",
    "    } else {\n",
    "        false\n",
    "    }\n",
    "}\n",
    "\n",
    "fn process_step2(payload: &str) -> String {\n",
    "    // pattern for valid instructions with do and don't\n",
    "    let instr_pattern = Regex::new(r\"(mul\\(\\d+\\,\\d+\\)|do\\(\\)|don't\\(\\))\").unwrap();\n",
    "    let mul_pattern = Regex::new(r\"mul\\((\\d+),(\\d+)\\)\").unwrap();\n",
    "\n",
    "    let mut enable = true;\n",
    "    let mut sum_products: i32 = 0;\n",
    "\n",
    "    for cap in instr_pattern.captures_iter(payload) {\n",
    "        let instr = cap.get(0).unwrap().as_str();\n",
    "        if instr.starts_with(\"d\") {\n",
    "            enable = update_enable(instr);\n",
    "        } else if enable {\n",
    "            if let Some(nums) = mul_pattern.captures(instr) {\n",
    "                let a: i32 = nums[1].parse().unwrap();\n",
    "                let b: i32 = nums[2].parse().unwrap();\n",
    "                sum_products += a * b;\n",
    "            }\n",
    "        }\n",
    "    }\n",
    "    \n",
    "    sum_products.to_string()\n",
    "}\n",
    "\n",
    "fn day3() {\n",
    "    let payload = load_unaltered(\"./d03.txt\");\n",
    "    let result: String = process_step2(&payload);\n",
    "    println!(\"Result: {}\", result)\n",
    "}\n",
    "\n",
    "day3()"
   ]
  },
  {
   "cell_type": "markdown",
   "metadata": {
    "vscode": {
     "languageId": "rust"
    }
   },
   "source": [
    "## Day 04"
   ]
  },
  {
   "cell_type": "code",
   "execution_count": null,
   "metadata": {
    "vscode": {
     "languageId": "rust"
    }
   },
   "outputs": [],
   "source": []
  },
  {
   "cell_type": "code",
   "execution_count": null,
   "metadata": {
    "vscode": {
     "languageId": "rust"
    }
   },
   "outputs": [],
   "source": []
  },
  {
   "cell_type": "markdown",
   "metadata": {},
   "source": [
    "## Day 05"
   ]
  },
  {
   "cell_type": "code",
   "execution_count": 9,
   "metadata": {
    "vscode": {
     "languageId": "rust"
    }
   },
   "outputs": [
    {
     "name": "stdout",
     "output_type": "stream",
     "text": [
      "Result: 6267\n"
     ]
    },
    {
     "data": {
      "text/plain": [
       "()"
      ]
     },
     "execution_count": 9,
     "metadata": {},
     "output_type": "execute_result"
    }
   ],
   "source": [
    "use std::collections::HashMap;\n",
    "\n",
    "const R_SEP: &str = \"|\";\n",
    "const O_SEP: &str = \",\";\n",
    "\n",
    "fn extract_rules(payload: &str) -> HashMap<i32, Vec<i32>> {\n",
    "    let mut rules: HashMap<i32, Vec<i32>> = HashMap::new();\n",
    "\n",
    "    payload.lines().for_each(|line| {\n",
    "        if line.contains(R_SEP) {\n",
    "            let parts: Vec<&str> = line.split(R_SEP).collect();\n",
    "            if parts.len() == 2 {\n",
    "                let key = parts[0].trim().parse::<i32>().unwrap_or(0);\n",
    "                let value = parts[1].trim().parse::<i32>().unwrap_or(0);\n",
    "                rules.entry(key).or_insert(Vec::new()).push(value);\n",
    "            }\n",
    "        }\n",
    "    });\n",
    "\n",
    "    rules\n",
    "}\n",
    "\n",
    "fn extract_orders(payload: &str) -> Vec<Vec<i32>> {\n",
    "    payload\n",
    "        .lines()\n",
    "        .filter(|line| line.contains(O_SEP))\n",
    "        .map(|line| {\n",
    "            line\n",
    "                .split(O_SEP)\n",
    "                .map(|num| num.trim().parse::<i32>().unwrap_or(0))\n",
    "                .collect() \n",
    "        })\n",
    "        .collect()\n",
    "}\n",
    "\n",
    "fn check_page_index(page: i32, order: &Vec<i32>, rule: &Vec<i32>) -> bool {\n",
    "    if let Some(page_index) = order.iter().position(|&p| p == page) {\n",
    "        rule.iter()\n",
    "            .filter_map(|&r| order.iter().position(|&o| o == r))\n",
    "            .all(|rule_index| page_index < rule_index)\n",
    "    } else {\n",
    "        true\n",
    "    }\n",
    "}\n",
    "\n",
    "fn get_middle_item<T: Clone>(any_list: &Vec<T>) -> Option<T> {\n",
    "    if any_list.is_empty() {\n",
    "        None\n",
    "    } else {\n",
    "        Some(any_list[any_list.len() / 2].clone())\n",
    "    }\n",
    "}\n",
    "\n",
    "fn find_valid_orders(payload: &str) -> HashMap<usize, bool> {\n",
    "    let rules = extract_rules(payload);\n",
    "    let orders = extract_orders(payload);\n",
    "\n",
    "    let mut valid_orders: HashMap<usize, bool> = HashMap::new();\n",
    "\n",
    "    for (ord_index, order) in orders.iter().enumerate() {\n",
    "        let all_valid = order.iter().all(|&page| {\n",
    "            if let Some(rule) = rules.get(&page) {\n",
    "                check_page_index(page, order, rule)\n",
    "            } else {\n",
    "                true\n",
    "            }\n",
    "        });\n",
    "        valid_orders.insert(ord_index, all_valid);\n",
    "    }\n",
    "\n",
    "    valid_orders\n",
    "}\n",
    "\n",
    "fn process_step1(payload: &str) -> String {\n",
    "    let orders = extract_orders(&payload.clone());\n",
    "    let valid_orders = find_valid_orders(&payload);\n",
    "\n",
    "    valid_orders\n",
    "        .iter()\n",
    "        .filter_map(|(&ind, &valid)| {\n",
    "            if valid {\n",
    "                get_middle_item(&orders[ind])\n",
    "            } else {\n",
    "                None\n",
    "            }\n",
    "        })\n",
    "        .sum::<i32>()\n",
    "        .to_string()\n",
    "}\n",
    "\n",
    "fn day5() {\n",
    "    let payload = load_unaltered(\"./d05.txt\");\n",
    "    let result1 = process_step1(&payload);\n",
    "\n",
    "    println!(\"Result: {}\", result1)\n",
    "}\n",
    "\n",
    "day5()"
   ]
  },
  {
   "cell_type": "code",
   "execution_count": 10,
   "metadata": {
    "vscode": {
     "languageId": "rust"
    }
   },
   "outputs": [
    {
     "name": "stdout",
     "output_type": "stream",
     "text": [
      "Result: 5184\n"
     ]
    },
    {
     "data": {
      "text/plain": [
       "()"
      ]
     },
     "execution_count": 10,
     "metadata": {},
     "output_type": "execute_result"
    }
   ],
   "source": [
    "fn extract_rule_pairs(payload: &str) -> Vec<(i32, i32)> {\n",
    "    payload\n",
    "        .lines()\n",
    "        .filter(|line| line.contains(R_SEP))\n",
    "        .filter_map(|line| {\n",
    "            let parts: Vec<&str> = line.split(R_SEP).collect();\n",
    "            if parts.len() == 2 {\n",
    "                let before = parts[0].trim().parse::<i32>().unwrap_or(0);\n",
    "                let after = parts[1].trim().parse::<i32>().unwrap_or(0);\n",
    "                Some((before, after))\n",
    "            } else {\n",
    "                None\n",
    "            }\n",
    "        })\n",
    "        .collect()\n",
    "}\n",
    "\n",
    "fn fix_ordering(rules: &Vec<(i32, i32)>, order: &Vec<i32>) -> Vec<i32> {\n",
    "    let mut rule_dict: HashMap<i32, Vec<i32>> = HashMap::new();\n",
    "\n",
    "    for &(before, after) in rules {\n",
    "        if order.contains(&before) && order.contains(&after) {\n",
    "            rule_dict.entry(after).or_insert(Vec::new()).push(before);\n",
    "        }\n",
    "    } \n",
    "\n",
    "    let mut sorted_order = order.clone();\n",
    "    sorted_order.sort_by_key(|page| rule_dict.get(page).map_or(0, |v| v.len()));\n",
    "\n",
    "    sorted_order\n",
    "}\n",
    "\n",
    "fn process_step2(payload: &str) -> String {\n",
    "    let orders = extract_orders(payload);\n",
    "    let valid_orders = find_valid_orders(payload);\n",
    "    let reverse_rules = extract_rule_pairs(payload);\n",
    "\n",
    "    valid_orders\n",
    "        .iter()\n",
    "        .filter_map(|(&ord_index, &valid)| {\n",
    "            if !valid {\n",
    "                let order = &orders[ord_index];\n",
    "                let fixed_order = fix_ordering(&reverse_rules, order);\n",
    "                get_middle_item(&fixed_order)\n",
    "            } else {\n",
    "                None\n",
    "            }\n",
    "        })\n",
    "        .sum::<i32>()\n",
    "        .to_string()\n",
    "}\n",
    "\n",
    "\n",
    "fn day5() {\n",
    "    let payload = load_unaltered(\"./d05.txt\");\n",
    "    let result2 = process_step2(&payload);\n",
    "\n",
    "    println!(\"Result: {}\", result2)\n",
    "}\n",
    "\n",
    "day5()"
   ]
  },
  {
   "cell_type": "markdown",
   "metadata": {},
   "source": [
    "## Day 06"
   ]
  },
  {
   "cell_type": "code",
   "execution_count": null,
   "metadata": {
    "vscode": {
     "languageId": "rust"
    }
   },
   "outputs": [
    {
     "name": "stdout",
     "output_type": "stream",
     "text": [
      "Result: 5095\n"
     ]
    },
    {
     "data": {
      "text/plain": [
       "()"
      ]
     },
     "execution_count": 12,
     "metadata": {},
     "output_type": "execute_result"
    }
   ],
   "source": [
    "use std::collections::{HashMap, HashSet};\n",
    "\n",
    "\n",
    "const FLOOR: &str = \".\";\n",
    "const CRATE: &str = \"#\";\n",
    "\n",
    "\n",
    "#[derive(Clone, Copy, Eq, PartialEq, Hash)]\n",
    "enum Direction {\n",
    "    UP,\n",
    "    RI,\n",
    "    DW,\n",
    "    LE,\n",
    "}\n",
    "\n",
    "\n",
    "fn change_direction(curr_dir: Direction) -> Direction {\n",
    "    match curr_dir {\n",
    "        Direction::UP => Direction::RI,\n",
    "        Direction::RI => Direction::DW,\n",
    "        Direction::DW => Direction::LE,\n",
    "        Direction::LE => Direction::UP,\n",
    "    }\n",
    "}\n",
    "\n",
    "\n",
    "#[derive(Clone, Copy, Eq, PartialEq, Hash, Debug)]\n",
    "struct Pos {\n",
    "    x: i32,\n",
    "    y: i32,\n",
    "}\n",
    "\n",
    "impl Pos {\n",
    "    fn new(x: i32, y: i32) -> Self {\n",
    "        Pos { x, y }\n",
    "    }\n",
    "\n",
    "    fn move_pos(&self, other: &Pos) -> Pos {\n",
    "        Pos {\n",
    "            x: self.x + other.x,\n",
    "            y: self.y + other.y,\n",
    "        }\n",
    "    }\n",
    "}\n",
    "\n",
    "\n",
    "fn get_directions_map() -> HashMap<Direction, Pos> {\n",
    "    let mut directions = HashMap::new();\n",
    "    directions.insert(Direction::UP, Pos::new(0, -1));\n",
    "    directions.insert(Direction::RI, Pos::new(1, 0));\n",
    "    directions.insert(Direction::DW, Pos::new(0, 1));\n",
    "    directions.insert(Direction::LE, Pos::new(-1, 0));\n",
    "    directions\n",
    "}\n",
    "\n",
    "\n",
    "fn make_grid(payload: &Vec<&str>) -> HashMap<Pos, String> {\n",
    "    let mut grid: HashMap<Pos, String> = HashMap::new();\n",
    "\n",
    "    for (y, row) in payload.iter().enumerate() {\n",
    "        for (x, ch) in row.chars().enumerate() {\n",
    "            grid.insert(Pos::new(x as i32, y as i32), ch.to_string());\n",
    "        }\n",
    "    }\n",
    "    \n",
    "    grid\n",
    "}\n",
    "\n",
    "fn find_start_pos(symbol: &str, grid: &HashMap<Pos, String>) -> Option<Pos> {\n",
    "    grid.iter()\n",
    "        .find_map(|(pos, field)| if field == symbol { Some(*pos) } else { None })\n",
    "}\n",
    "\n",
    "\n",
    "fn within_bounds(pos: &Pos, bounds: (i32, i32)) -> bool {\n",
    "    bounds.0 <= pos.x && pos.x < bounds.1 && bounds.0 <= pos.y && pos.y < bounds.1\n",
    "}\n",
    "\n",
    "\n",
    "fn find_distinct_positions(payload: &Vec<&str>) -> usize {\n",
    "    let size = payload.len() as i32;\n",
    "    let bounds = (0, size);\n",
    "    let grid = make_grid(payload);\n",
    "    let directions_map = get_directions_map();\n",
    "\n",
    "    let mut curr_dir = Direction::UP;\n",
    "    let curr_pos = find_start_pos(\"^\", &grid).expect(\"Starting position not found\");\n",
    "    let mut distinct_positions: HashSet<Pos> = HashSet::new();\n",
    "\n",
    "    let mut curr_pos = curr_pos;\n",
    "    distinct_positions.insert(curr_pos);\n",
    "\n",
    "    loop {\n",
    "        let move_dir = directions_map.get(&curr_dir).expect(\"Invalid direction\");\n",
    "        let next_pos = curr_pos.move_pos(move_dir);\n",
    "\n",
    "        if !within_bounds(&next_pos, bounds) {\n",
    "            break;\n",
    "        }\n",
    "\n",
    "        match grid.get(&next_pos) {\n",
    "            Some(field) if field == CRATE => {\n",
    "                curr_dir = change_direction(curr_dir);\n",
    "            }\n",
    "            Some(field) if field == FLOOR || field.is_empty() => {\n",
    "                distinct_positions.insert(next_pos);\n",
    "                curr_pos = next_pos; \n",
    "            }\n",
    "            _ => {}\n",
    "        }\n",
    "    }\n",
    "\n",
    "    distinct_positions.len()\n",
    "}\n",
    "\n",
    "\n",
    "\n",
    "fn day6() {\n",
    "        let content = load_unaltered(\"./d06.txt\");\n",
    "        let payload: Vec<&str> = content.lines().collect();\n",
    "        let result1 = find_distinct_positions(&payload);\n",
    "    \n",
    "        println!(\"Result: {}\", result1);\n",
    "    }\n",
    "\n",
    "day6()"
   ]
  },
  {
   "cell_type": "code",
   "execution_count": null,
   "metadata": {
    "vscode": {
     "languageId": "rust"
    }
   },
   "outputs": [],
   "source": [
    "const OBSTACLE: &str = \"O\";\n",
    "\n",
    "fn is_infinite_loop() -> bool {\n",
    "\n",
    "    let mut curr_pos = start_pos;\n",
    "    let mut curr_dir = start_dir;\n",
    "    let mut visited_states: HashSet<(Pos, Direction)> = HashSet::new();\n",
    "\n",
    "    loop {\n",
    "        let mut state = (curr_pos, curr_dir);\n",
    "\n",
    "        if visited_states.contains(state) {\n",
    "            return true\n",
    "        } else {\n",
    "            visisted_states.add(state)    \n",
    "        } \n",
    "        \n",
    "        let move_dir = directions_map.get(&curr_dir).expect(\"Invalid direction\");\n",
    "        let next_pos = curr_pos.move_pos(move_dir);\n",
    "\n",
    "        if !within_bounds(&next_pos, bounds) {\n",
    "            return false\n",
    "        }\n",
    "    }\n",
    "}\n",
    "\n",
    "fn find_obstacle_positions(payload: &Vec<&str>) -> usize {\n",
    "    let size = payload.len() as i32;\n",
    "    let bounds = (0, size);\n",
    "    let grid = make_grid(payload);\n",
    "    let directions_map = get_directions_map();\n",
    "\n",
    "    let mut curr_dir = Direction::UP;\n",
    "    let start_pos = find_start_pos(\"^\", &grid).expect(\"Starting position not found\");\n",
    "    let mut valid_positions: Vec<Pos> = Vec::new();\n",
    "\n",
    "    for x in 0..size {\n",
    "        for y in 0..size {\n",
    "            let pos = Pos::new(x, y);\n",
    "\n",
    "            if grid.get(&pos) == start_pos || grid.get(&pos) == CRATE {\n",
    "                continue\n",
    "            }\n",
    "\n",
    "            grid.update(pos, OBSTACLE)\n",
    "        }\n",
    "    }\n",
    "}\n",
    "\n",
    "fn day6() {\n",
    "    let content = load_unaltered(\"./d06.txt\");\n",
    "    let payload: Vec<&str> = content.lines().collect();\n",
    "    let result2 = find_obstacle_positions(&payload);\n",
    "\n",
    "    println!(\"Result: {}\", result2);\n",
    "}\n",
    "\n",
    "day6()"
   ]
  },
  {
   "cell_type": "markdown",
   "metadata": {},
   "source": [
    "## Day 07"
   ]
  },
  {
   "cell_type": "code",
   "execution_count": null,
   "metadata": {
    "vscode": {
     "languageId": "rust"
    }
   },
   "outputs": [
    {
     "ename": "Error",
     "evalue": "allocations are not allowed in constants",
     "output_type": "error",
     "traceback": [
      "\u001b[31m[E0010] Error:\u001b[0m allocations are not allowed in constants",
      "   \u001b[38;5;246m╭\u001b[0m\u001b[38;5;246m─\u001b[0m\u001b[38;5;246m[\u001b[0mcommand_8:1:1\u001b[38;5;246m]\u001b[0m",
      "   \u001b[38;5;246m│\u001b[0m",
      " \u001b[38;5;246m5 │\u001b[0m \u001b[38;5;249mc\u001b[0m\u001b[38;5;249mo\u001b[0m\u001b[38;5;249mn\u001b[0m\u001b[38;5;249ms\u001b[0m\u001b[38;5;249mt\u001b[0m\u001b[38;5;249m \u001b[0m\u001b[38;5;249mO\u001b[0m\u001b[38;5;249mP\u001b[0m\u001b[38;5;249mE\u001b[0m\u001b[38;5;249mR\u001b[0m\u001b[38;5;249mA\u001b[0m\u001b[38;5;249mT\u001b[0m\u001b[38;5;249mO\u001b[0m\u001b[38;5;249mR\u001b[0m\u001b[38;5;249mS\u001b[0m\u001b[38;5;249m:\u001b[0m\u001b[38;5;249m \u001b[0m\u001b[38;5;249mV\u001b[0m\u001b[38;5;249me\u001b[0m\u001b[38;5;249mc\u001b[0m\u001b[38;5;249m<\u001b[0m\u001b[38;5;249m&\u001b[0m\u001b[38;5;249ms\u001b[0m\u001b[38;5;249mt\u001b[0m\u001b[38;5;249mr\u001b[0m\u001b[38;5;249m>\u001b[0m\u001b[38;5;249m \u001b[0m\u001b[38;5;249m=\u001b[0m\u001b[38;5;249m \u001b[0m\u001b[38;5;54mv\u001b[0m\u001b[38;5;54me\u001b[0m\u001b[38;5;54mc\u001b[0m\u001b[38;5;54m!\u001b[0m\u001b[38;5;54m[\u001b[0m\u001b[38;5;54m\"\u001b[0m\u001b[38;5;54m+\u001b[0m\u001b[38;5;54m\"\u001b[0m\u001b[38;5;54m,\u001b[0m\u001b[38;5;54m \u001b[0m\u001b[38;5;54m\"\u001b[0m\u001b[38;5;54m*\u001b[0m\u001b[38;5;54m\"\u001b[0m\u001b[38;5;54m]\u001b[0m\u001b[38;5;249m;\u001b[0m",
      " \u001b[38;5;240m  │\u001b[0m                              \u001b[38;5;54m─\u001b[0m\u001b[38;5;54m─\u001b[0m\u001b[38;5;54m─\u001b[0m\u001b[38;5;54m─\u001b[0m\u001b[38;5;54m─\u001b[0m\u001b[38;5;54m─\u001b[0m\u001b[38;5;54m─\u001b[0m\u001b[38;5;54m┬\u001b[0m\u001b[38;5;54m─\u001b[0m\u001b[38;5;54m─\u001b[0m\u001b[38;5;54m─\u001b[0m\u001b[38;5;54m─\u001b[0m\u001b[38;5;54m─\u001b[0m\u001b[38;5;54m─\u001b[0m  ",
      " \u001b[38;5;240m  │\u001b[0m                                     \u001b[38;5;54m╰\u001b[0m\u001b[38;5;54m─\u001b[0m\u001b[38;5;54m─\u001b[0m\u001b[38;5;54m─\u001b[0m\u001b[38;5;54m─\u001b[0m\u001b[38;5;54m─\u001b[0m\u001b[38;5;54m─\u001b[0m\u001b[38;5;54m─\u001b[0m\u001b[38;5;54m─\u001b[0m allocation not allowed in constants",
      "\u001b[38;5;246m───╯\u001b[0m"
     ]
    },
    {
     "ename": "Error",
     "evalue": "cannot call non-const fn `slice::<impl [&str]>::into_vec::<std::alloc::Global>` in constants",
     "output_type": "error",
     "traceback": [
      "\u001b[31m[E0015] Error:\u001b[0m cannot call non-const fn `slice::<impl [&str]>::into_vec::<std::alloc::Global>` in constants"
     ]
    }
   ],
   "source": [
    ":dep itertools = { version = \"0.13\" }\n",
    "use itertools::{Itertools, MultiProduct};\n",
    "\n",
    "\n",
    "const OPERATORS: Vec<&str> = vec![\"+\", \"*\"];\n",
    "\n",
    "fn apply(op: &str, nums: (i64, i64)) -> i64 {\n",
    "    match op {\n",
    "        \"+\" => nums.0 + nums.1,\n",
    "        \"*\" => nums.0 * nums.1,\n",
    "        _ => panic!(\"Unexpected operator\"),\n",
    "    }\n",
    "}\n",
    "\n",
    "\n",
    "fn permutator<I>(it: I, repeat: usize) -> MultiProduct<I>\n",
    "  where\n",
    "    I: Iterator + Clone,\n",
    "    I::Item: Clone {\n",
    "  std::iter::repeat(it)\n",
    "    .take(repeat)\n",
    "    .multi_cartesian_product()\n",
    "}\n",
    "    \n",
    "\n",
    "fn check_possible(left: i64, right: Vec<i64>) -> bool {\n",
    "    let n_ops = right.len() - 1;\n",
    "    let poss_operators = permutator(OPERATORS.into_iter(), n_ops);\n",
    "\n",
    "    for ops in poss_operators {\n",
    "        let mut new_left = right[0];\n",
    "\n",
    "        for (i, &op) in ops.iter().enumerate() {\n",
    "            new_left = apply(op, (new_left, right[i+1]));\n",
    "\n",
    "            if new_left > left {\n",
    "                break;\n",
    "            }\n",
    "        }\n",
    "\n",
    "        if new_left == left {\n",
    "            return true;\n",
    "        }\n",
    "    }\n",
    "\n",
    "    false\n",
    "}\n",
    "\n",
    "fn process_step1(payload: &str) -> Vec<i64> {\n",
    "    payload\n",
    "        .lines()\n",
    "        .filter_map(|line| {\n",
    "            let (left, right) = line.split_once(\":\")?;\n",
    "            let left = left.trim().parse::<i64>().unwrap_or(0);\n",
    "            let right: Vec<i64> = right\n",
    "                .split_whitespace()\n",
    "                .map(|n| n.parse::<i64>().unwrap_or(0))\n",
    "                .collect();\n",
    "\n",
    "\n",
    "            if check_possible(left, right) {\n",
    "                Some(left)\n",
    "            } else {\n",
    "                None\n",
    "            }\n",
    "        })\n",
    "        .collect()\n",
    "}\n",
    "\n",
    "\n",
    "fn day7() {\n",
    "    let payload = load_unaltered(\"./d07.txt\");\n",
    "    let result1 = process_step1(&payload);\n",
    "    let sum: i64 = result1.iter().sum();\n",
    "\n",
    "    println!(\"Result: {}\", sum);\n",
    "}\n",
    "\n",
    "day7()"
   ]
  },
  {
   "cell_type": "markdown",
   "metadata": {},
   "source": [
    "## Day 08"
   ]
  },
  {
   "cell_type": "code",
   "execution_count": 3,
   "metadata": {
    "vscode": {
     "languageId": "rust"
    }
   },
   "outputs": [
    {
     "name": "stdout",
     "output_type": "stream",
     "text": [
      "Result: 426\n"
     ]
    },
    {
     "data": {
      "text/plain": [
       "()"
      ]
     },
     "execution_count": 3,
     "metadata": {},
     "output_type": "execute_result"
    }
   ],
   "source": [
    ":dep itertools = { version = \"0.13\" }\n",
    "use itertools::Itertools;\n",
    "use std::collections::{HashSet, HashMap};\n",
    "\n",
    "#[derive(Clone, Copy, Eq, PartialEq, Hash, Debug)]\n",
    "struct Pos {\n",
    "    x: i32,\n",
    "    y: i32,\n",
    "}\n",
    "\n",
    "impl Pos {\n",
    "    fn new(x: i32, y: i32) -> Self {\n",
    "        Pos { x, y }\n",
    "    }\n",
    "\n",
    "    fn within_bounds(&self, bounds: (i32, i32)) -> bool {\n",
    "        self.x >= bounds.0 && self.x < bounds.1 && self.y >= bounds.0 && self.y < bounds.1\n",
    "    }\n",
    "}\n",
    "\n",
    "fn compute_antinodes(a: Pos, b: Pos, bounds: (i32, i32)) -> Vec<Pos> {\n",
    "    let cx = a.x - (b.x - a.x);\n",
    "    let cy = a.y - (b.y - a.y);\n",
    "    let c = Pos::new(cx, cy);\n",
    "\n",
    "    let dx = b.x + (b.x - a.x);\n",
    "    let dy = b.y + (b.y - a.y);\n",
    "    let d = Pos::new(dx, dy);\n",
    "\n",
    "    vec![c, d]\n",
    "        .into_iter()\n",
    "        .filter(|p| p.within_bounds(bounds))\n",
    "        .collect()\n",
    "}\n",
    "\n",
    "fn get_antenna_locations(grid: &[&str]) -> HashMap<char, Vec<Pos>> {\n",
    "    let mut antenna_locations: HashMap<char, Vec<Pos>> = HashMap::new();\n",
    "    let size = grid.len() as i32;\n",
    "\n",
    "    for (r, row) in grid.iter().enumerate() {\n",
    "        for (c, val) in row.chars().enumerate() {\n",
    "            if val != '.' {\n",
    "                antenna_locations\n",
    "                    .entry(val)\n",
    "                    .or_default()\n",
    "                    .push(Pos::new(r as i32, c as i32));\n",
    "            }\n",
    "        }\n",
    "    }\n",
    "\n",
    "    antenna_locations\n",
    "}\n",
    "\n",
    "fn get_antinode_locations(\n",
    "    antenna_locations: &HashMap<char, Vec<Pos>>,\n",
    "    bounds: (i32, i32),\n",
    ") -> HashSet<Pos> {\n",
    "    let mut antinode_locations: HashSet<Pos> = HashSet::new();\n",
    "\n",
    "    for locs in antenna_locations.values() {\n",
    "        // all pairs of antenna locations\n",
    "        let combinations = locs.iter().combinations(2);\n",
    "        for pair in combinations {\n",
    "            let (a, b) = (*pair[0], *pair[1]);\n",
    "            for antinode in compute_antinodes(a, b, bounds) {\n",
    "                antinode_locations.insert(antinode);\n",
    "            }\n",
    "        }\n",
    "    }\n",
    "\n",
    "    antinode_locations\n",
    "}\n",
    "\n",
    "fn day8() {\n",
    "    let content = load_unaltered(\"./d08.txt\");\n",
    "    let grid: Vec<&str> = content.lines().collect();\n",
    "    let size = grid.len() as i32;\n",
    "    let bounds = (0, size);\n",
    "\n",
    "    let antenna_locations = get_antenna_locations(&grid);\n",
    "    let antinode_locations = get_antinode_locations(&antenna_locations, bounds);\n",
    "\n",
    "    println!(\"Result: {}\", antinode_locations.len());\n",
    "}\n",
    "\n",
    "day8()"
   ]
  },
  {
   "cell_type": "code",
   "execution_count": null,
   "metadata": {
    "vscode": {
     "languageId": "rust"
    }
   },
   "outputs": [
    {
     "name": "stdout",
     "output_type": "stream",
     "text": [
      "Result: 1398\n"
     ]
    },
    {
     "data": {
      "text/plain": [
       "()"
      ]
     },
     "execution_count": 7,
     "metadata": {},
     "output_type": "execute_result"
    }
   ],
   "source": [
    "fn compute_resonators(a: Pos, b: Pos, bounds: (i32, i32)) -> Vec<Pos> {\n",
    "    let dx = b.x - a.x;\n",
    "    let dy = b.y - a.y;\n",
    "\n",
    "    let mut resonators: Vec<Pos> = Vec::new();\n",
    "    let mut i = 0;\n",
    "\n",
    "    loop {\n",
    "        let r = Pos::new(a.x - dx * i, a.y + dy * i );\n",
    "        if r.within_bounds(bounds) {\n",
    "            resonators.push(r);\n",
    "        } else {\n",
    "            break;\n",
    "        }\n",
    "        i += 1;\n",
    "    }\n",
    "    \n",
    "    let mut i = 0;\n",
    "    loop {\n",
    "        let r = Pos::new(b.x + dx * i, b.y + dy * i );\n",
    "        if r.within_bounds(bounds) {\n",
    "            resonators.push(r);\n",
    "        } else {\n",
    "            break;\n",
    "        }\n",
    "        i += 1;\n",
    "    }\n",
    "\n",
    "    resonators\n",
    "}\n",
    "\n",
    "\n",
    "fn get_resonator_locations(\n",
    "    antenna_locations: &HashMap<char, Vec<Pos>>,\n",
    "    bounds: (i32, i32),\n",
    ") -> HashSet<Pos> {\n",
    "    let mut antinode_locations: HashSet<Pos> = HashSet::new();\n",
    "\n",
    "    for locs in antenna_locations.values() {\n",
    "        // all pairs of antenna locations\n",
    "        let combinations = locs.iter().combinations(2);\n",
    "        for pair in combinations {\n",
    "            let (a, b) = (*pair[0], *pair[1]);\n",
    "            for antinode in compute_resonators(a, b, bounds) {\n",
    "                antinode_locations.insert(antinode);\n",
    "            }\n",
    "        }\n",
    "    }\n",
    "\n",
    "    antinode_locations\n",
    "}\n",
    "\n",
    "\n",
    "fn day8() {\n",
    "    let content = load_unaltered(\"./d08.txt\");\n",
    "    let grid: Vec<&str> = content.lines().collect();\n",
    "    let size = grid.len() as i32;\n",
    "    let bounds = (0, size);\n",
    "\n",
    "    let antenna_locations = get_antenna_locations(&grid);\n",
    "    let resonator_locations = get_resonator_locations(&antenna_locations, bounds);\n",
    "\n",
    "    println!(\"Result: {}\", resonator_locations.len());\n",
    "}\n",
    "\n",
    "day8() // expect 1359"
   ]
  },
  {
   "cell_type": "markdown",
   "metadata": {},
   "source": [
    "## Day 09"
   ]
  },
  {
   "cell_type": "code",
   "execution_count": null,
   "metadata": {
    "vscode": {
     "languageId": "rust"
    }
   },
   "outputs": [],
   "source": [
    "fn make_filesystem(diskmap: &str) -> Vec<i32> {\n",
    "    let mut blocks: Vec<i32> = Vec::new();\n",
    "    let mut is_file = true;\n",
    "    let mut id = 0;\n",
    "\n",
    "    for bit in diskmap.iter() {\n",
    "        let bit = bit.parse::<i32>().unwrap();\n",
    "\n",
    "        if if_file {\n",
    "            \n",
    "        }\n",
    "    } \n",
    "\n",
    "}"
   ]
  },
  {
   "cell_type": "markdown",
   "metadata": {},
   "source": [
    "## Day 10"
   ]
  },
  {
   "cell_type": "code",
   "execution_count": 12,
   "metadata": {
    "vscode": {
     "languageId": "rust"
    }
   },
   "outputs": [
    {
     "name": "stdout",
     "output_type": "stream",
     "text": [
      "Result 1: 514\n",
      "Result 2: 1162\n"
     ]
    },
    {
     "data": {
      "text/plain": [
       "()"
      ]
     },
     "execution_count": 12,
     "metadata": {},
     "output_type": "execute_result"
    }
   ],
   "source": [
    "use std::collections::{HashSet, VecDeque};\n",
    "\n",
    "fn find_trail(grid: &[&[u8]], row: usize, col: usize) -> Vec<(usize, usize)> {\n",
    "    let mut vec_queue = VecDeque::from([(row as isize, col as isize)]);\n",
    "    let mut seen = Vec::new();\n",
    "    let size = grid.len() as isize;\n",
    "    let bounds = (0, size);\n",
    "\n",
    "    while let Some((row, col)) = vec_queue.pop_front() {\n",
    "        if grid[row as usize][col as usize] == b'9' {\n",
    "            seen.push((row as usize, col as usize));\n",
    "            continue;\n",
    "        }\n",
    "        for (rr, cc) in [\n",
    "            (row + 1, col), // move down\n",
    "            (row - 1, col), // move up\n",
    "            (row, col + 1), // move right\n",
    "            (row, col - 1), // move left\n",
    "        ] {\n",
    "            if rr >= 0 && rr < size && cc >= 0 && cc < size {\n",
    "                let (rr_usize, cc_usize) = (rr as usize, cc as usize);\n",
    "                if grid[rr_usize][cc_usize] == grid[row as usize][col as usize] + 1 {\n",
    "                    vec_queue.push_back((rr, cc));\n",
    "                }\n",
    "            }\n",
    "        }\n",
    "    }\n",
    "    seen\n",
    "}\n",
    "\n",
    "\n",
    "fn process_step1(payload: &str) -> (usize, usize) {\n",
    "    let grid = payload\n",
    "        .lines()\n",
    "        .map(|ch| ch.as_bytes())\n",
    "        .collect::<Vec<_>>();\n",
    "    let size = grid.len();\n",
    "\n",
    "    let (mut res1, mut res2) = (0, 0);\n",
    "\n",
    "    for row in 0..size {\n",
    "        for col in 0..size {\n",
    "            if grid[row][col] == b'0' {\n",
    "                let seen = find_trail(&grid, row, col);\n",
    "                res1 += seen.iter().collect::<HashSet<_>>().len();\n",
    "                res2 += seen.len();\n",
    "            }\n",
    "        }\n",
    "    }\n",
    "\n",
    "    (res1, res2)\n",
    "}\n",
    "\n",
    "fn day10() {\n",
    "    let payload = load_unaltered(\"./d10.txt\");\n",
    "    let (res1, res2) = process_step1(&payload);\n",
    "\n",
    "    println!(\"Result 1: {:?}\", res1);\n",
    "    println!(\"Result 2: {:?}\", res2);\n",
    "}\n",
    "\n",
    "day10()"
   ]
  },
  {
   "cell_type": "markdown",
   "metadata": {},
   "source": [
    "## Day 13"
   ]
  },
  {
   "cell_type": "code",
   "execution_count": 23,
   "metadata": {
    "vscode": {
     "languageId": "rust"
    }
   },
   "outputs": [
    {
     "name": "stdout",
     "output_type": "stream",
     "text": [
      "Result: 37680\n"
     ]
    },
    {
     "data": {
      "text/plain": [
       "()"
      ]
     },
     "execution_count": 23,
     "metadata": {},
     "output_type": "execute_result"
    }
   ],
   "source": [
    ":dep regex = {version = \"1.10\"}\n",
    "use regex::Regex;\n",
    "\n",
    "fn divmod(a: i32, b: i32) -> (i32, i32) {\n",
    "    let quotient = a / b;\n",
    "    let remainder = a % b;\n",
    "    (quotient, remainder)    \n",
    "}\n",
    "\n",
    "fn solve(ax: i32, ay: i32, bx: i32, by: i32, px: i32, py: i32) -> (i32, i32) {\n",
    "\n",
    "    let (b, brem) = divmod(ay * px - ax * py, ay * bx - ax * by);\n",
    "    let (a, arem) = divmod(px - b * bx, ax);\n",
    "\n",
    "    if arem != 0 || brem != 0 {\n",
    "        return (0, 0); \n",
    "    } else {\n",
    "        return (a, b);\n",
    "    }\n",
    "\n",
    "}\n",
    "\n",
    "fn process_step1(payload: &str) -> i32 {\n",
    "    let num_pattern = Regex::new(r\"\\d+\").unwrap();\n",
    "\n",
    "    let mut solution: Vec<i32> = Vec::new();\n",
    "\n",
    "    for block in payload.split(\"\\r\\n\\r\\n\") {\n",
    "        // println!(\"Parsed block {:?}\", block);\n",
    "        let numbers: Vec<i32> = num_pattern\n",
    "            .find_iter(block)\n",
    "            .filter_map(|n| n.as_str().parse::<i32>().ok())\n",
    "            .collect();\n",
    "\n",
    "        // println!(\"Parsed numbers: {:?}\", numbers);\n",
    "\n",
    "        if let [ax, ay, bx, by, px, py] = &numbers[..] {\n",
    "            let (a, b) = solve(*ax, *ay, *bx, *by, *px, *py);\n",
    "            // println!(\"{a}, {b}\");\n",
    "            solution.push(a * 3 + b);\n",
    "        }\n",
    "    }\n",
    "    solution.iter().sum()\n",
    "}\n",
    "\n",
    "fn day13() {\n",
    "    let payload = load_unaltered(\"./d13.txt\");\n",
    "    let res = process_step1(&payload);\n",
    "\n",
    "    println!(\"Result: {}\", res);\n",
    "}\n",
    "\n",
    "day13()"
   ]
  },
  {
   "cell_type": "markdown",
   "metadata": {},
   "source": [
    "## Day 19"
   ]
  },
  {
   "cell_type": "code",
   "execution_count": 6,
   "metadata": {
    "vscode": {
     "languageId": "rust"
    }
   },
   "outputs": [
    {
     "name": "stdout",
     "output_type": "stream",
     "text": [
      "Result: 344\n"
     ]
    },
    {
     "data": {
      "text/plain": [
       "()"
      ]
     },
     "execution_count": 6,
     "metadata": {},
     "output_type": "execute_result"
    }
   ],
   "source": [
    ":dep cached = {version = \"0.37.0\"}\n",
    "use cached::proc_macro::cached;\n",
    "\n",
    "fn get_components_products(payload: &str) -> (Vec<&str>, Vec<&str>) {\n",
    "    let (components, products) = payload.split_once(\"\\r\\n\\r\\n\").unwrap();\n",
    "    let components: Vec<&str> = components.split(\", \").collect();\n",
    "    let products: Vec<&str> = products.split_whitespace().collect();\n",
    "    (components, products)\n",
    "}\n",
    "\n",
    "#[cached]\n",
    "fn check_possible(product: String, components: Vec<String>) -> bool {\n",
    "    if product.is_empty() {\n",
    "        return true;\n",
    "    }\n",
    "\n",
    "    for component in &components {\n",
    "        if product.starts_with(component) {\n",
    "            let remaining_product = product[component.len()..].to_string();\n",
    "\n",
    "            if check_possible(remaining_product, components.clone()) {\n",
    "                return true;\n",
    "            }\n",
    "        }\n",
    "    }\n",
    "\n",
    "    false\n",
    "}\n",
    "\n",
    "fn process_step1(payload: &str) -> Vec<&str> {\n",
    "    let (components, products) = get_components_products(payload);\n",
    "    let components: Vec<String> = components.iter().map(|s| s.to_string()).collect();\n",
    "\n",
    "    products\n",
    "        .into_iter()\n",
    "        .filter(|&p| check_possible(p.to_string(), components.clone()))\n",
    "        .collect()\n",
    "}\n",
    "\n",
    "\n",
    "fn day19() {\n",
    "    let payload = load_unaltered(\"./d19.txt\");\n",
    "    let res = process_step1(&payload);\n",
    "\n",
    "    println!(\"Result: {}\", res.len());\n",
    "}\n",
    "\n",
    "day19()"
   ]
  },
  {
   "cell_type": "code",
   "execution_count": 11,
   "metadata": {
    "vscode": {
     "languageId": "rust"
    }
   },
   "outputs": [
    {
     "name": "stdout",
     "output_type": "stream",
     "text": [
      "Result: 996172272010026\n"
     ]
    },
    {
     "data": {
      "text/plain": [
       "()"
      ]
     },
     "execution_count": 11,
     "metadata": {},
     "output_type": "execute_result"
    }
   ],
   "source": [
    "#[cached]\n",
    "fn count_possible(product: String, components: Vec<String>) -> u64 {\n",
    "    if product.is_empty() {\n",
    "        return 1_u64;\n",
    "    }\n",
    "\n",
    "    let mut count = 0_u64;\n",
    "\n",
    "    for component in &components {\n",
    "        if product.starts_with(component) {\n",
    "            let remaining_product = product[component.len()..].to_string();\n",
    "            count += count_possible(remaining_product, components.clone())\n",
    "        }\n",
    "    }\n",
    "\n",
    "    count\n",
    "}\n",
    "\n",
    "fn process_step2(payload: &str) -> u64 {\n",
    "    let (components, products) = get_components_products(payload);\n",
    "    let components: Vec<String> = components.iter().map(|s| s.to_string()).collect();\n",
    "\n",
    "    products\n",
    "        .iter()\n",
    "        .map(|p| count_possible(p.to_string(), components.clone()))\n",
    "        .sum()\n",
    "}\n",
    "\n",
    "fn day19() {\n",
    "    let payload = load_unaltered(\"./d19.txt\");\n",
    "    let res = process_step2(&payload);\n",
    "\n",
    "    println!(\"Result: {}\", res);\n",
    "}\n",
    "\n",
    "day19()"
   ]
  }
 ],
 "metadata": {
  "kernelspec": {
   "display_name": "Rust",
   "language": "rust",
   "name": "rust"
  },
  "language_info": {
   "codemirror_mode": "rust",
   "file_extension": ".rs",
   "mimetype": "text/rust",
   "name": "Rust",
   "pygment_lexer": "rust",
   "version": ""
  }
 },
 "nbformat": 4,
 "nbformat_minor": 2
}
