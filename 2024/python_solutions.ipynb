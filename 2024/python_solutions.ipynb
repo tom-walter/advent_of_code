{
 "cells": [
  {
   "cell_type": "markdown",
   "metadata": {},
   "source": [
    "# Advent of Code 2024\n",
    "\n",
    "## Day 01"
   ]
  },
  {
   "cell_type": "code",
   "execution_count": 1,
   "metadata": {},
   "outputs": [],
   "source": [
    "from pathlib import Path\n",
    "import winsound\n",
    "\n",
    "def load_file(file_name: str) -> str:\n",
    "    with Path(f\"./{file_name}\").open() as file:\n",
    "        payload = file.read()\n",
    "    return payload\n",
    "\n",
    "def finished_signal(duration: int = 1000, freq: int = 1000):\n",
    "    winsound.Beep(freq, duration)"
   ]
  },
  {
   "cell_type": "code",
   "execution_count": 2,
   "metadata": {},
   "outputs": [
    {
     "data": {
      "text/plain": [
       "2378066"
      ]
     },
     "execution_count": 2,
     "metadata": {},
     "output_type": "execute_result"
    }
   ],
   "source": [
    "# 1st half\n",
    "import numpy as np\n",
    "\n",
    "payload = load_file(\"d01.txt\")\n",
    "\n",
    "left = []\n",
    "right = []\n",
    "\n",
    "for pair in payload.split(\"\\n\"):\n",
    "    l, r = pair.split(\"   \")\n",
    "    left.append(int(l))\n",
    "    right.append(int(r))\n",
    "\n",
    "left = np.array(left)\n",
    "right = np.array(right)\n",
    "\n",
    "left = np.sort(left)\n",
    "right = np.sort(right)\n",
    "\n",
    "total_distance = np.absolute(left - right).sum()\n",
    "total_distance"
   ]
  },
  {
   "cell_type": "code",
   "execution_count": 3,
   "metadata": {},
   "outputs": [
    {
     "data": {
      "text/plain": [
       "18934359"
      ]
     },
     "execution_count": 3,
     "metadata": {},
     "output_type": "execute_result"
    }
   ],
   "source": [
    "# 2nd half\n",
    "from collections import Counter\n",
    "\n",
    "payload = load_file(\"d01.txt\")\n",
    "\n",
    "left = []\n",
    "right = []\n",
    "\n",
    "for pair in payload.split(\"\\n\"):\n",
    "    l, r = pair.split(\"   \")\n",
    "    left.append(int(l))\n",
    "    right.append(int(r))\n",
    "\n",
    "right = Counter(right)\n",
    "\n",
    "similarties = []\n",
    "for l in left:\n",
    "    r = right[l]\n",
    "    s = r * l\n",
    "    similarties.append(s)\n",
    "\n",
    "sum(similarties)"
   ]
  },
  {
   "cell_type": "markdown",
   "metadata": {},
   "source": [
    "## Day 02"
   ]
  },
  {
   "cell_type": "code",
   "execution_count": 4,
   "metadata": {},
   "outputs": [
    {
     "data": {
      "text/plain": [
       "564"
      ]
     },
     "execution_count": 4,
     "metadata": {},
     "output_type": "execute_result"
    }
   ],
   "source": [
    "# 1st half\n",
    "payload = load_file(\"d02.txt\")\n",
    "\n",
    "def check_diffs(diffs: np.array) -> bool:\n",
    "    absolute = np.absolute(diffs)\n",
    "    d_min = np.min(absolute)\n",
    "    d_max = np.max(absolute)\n",
    "\n",
    "    if d_min >= 1 and d_max <= 3:\n",
    "        return True\n",
    "    else:\n",
    "        return False\n",
    "\n",
    "def check_signs(signs: np.array) -> bool:\n",
    "    pos = np.ones(signs.shape, dtype=np.int8)\n",
    "    neg = pos * -1  \n",
    "    if (signs == pos).all() or (signs == neg).all():\n",
    "        return True\n",
    "    else:\n",
    "        return False\n",
    "    \n",
    "def check_safety(nums) -> bool:\n",
    "    diffs = np.diff(nums)\n",
    "    signs = np.sign(diffs)\n",
    "\n",
    "    check1 = check_diffs(diffs)\n",
    "    check2 = check_signs(signs)\n",
    "    return all([check1, check2])\n",
    "\n",
    "reports = []\n",
    "for report in payload.split(\"\\n\"):\n",
    "    nums = map(int, report.split())\n",
    "    nums = np.array(list(nums))\n",
    "   \n",
    "    safe = check_safety(nums)\n",
    "    reports.append(safe)\n",
    "    \n",
    "n_safe_report = sum(map(int, reports))\n",
    "n_safe_report"
   ]
  },
  {
   "cell_type": "code",
   "execution_count": 5,
   "metadata": {},
   "outputs": [
    {
     "data": {
      "text/plain": [
       "604"
      ]
     },
     "execution_count": 5,
     "metadata": {},
     "output_type": "execute_result"
    }
   ],
   "source": [
    "# 2nd half\n",
    "payload = load_file(\"d02.txt\")\n",
    "\n",
    "def check_dampener(nums) -> bool:\n",
    "    \n",
    "    for ind in range(len(nums)): \n",
    "        lev = nums.copy()\n",
    "        lev = np.delete(lev, ind)\n",
    "\n",
    "        safe = check_safety(lev)\n",
    "        if safe:\n",
    "            break\n",
    "    \n",
    "    return safe\n",
    "\n",
    "\n",
    "reports = []\n",
    "for report in payload.split(\"\\n\"):\n",
    "    nums = map(int, report.split())\n",
    "    nums = np.array(list(nums))\n",
    "   \n",
    "    safe = check_safety(nums)\n",
    "    if not safe:\n",
    "        safe = check_dampener(nums)\n",
    "\n",
    "    reports.append(safe)\n",
    "    \n",
    "n_safe_report = sum(map(int, reports))\n",
    "n_safe_report"
   ]
  },
  {
   "cell_type": "markdown",
   "metadata": {},
   "source": [
    "## Day 03"
   ]
  },
  {
   "cell_type": "code",
   "execution_count": 6,
   "metadata": {},
   "outputs": [
    {
     "data": {
      "text/plain": [
       "188116424"
      ]
     },
     "execution_count": 6,
     "metadata": {},
     "output_type": "execute_result"
    }
   ],
   "source": [
    "# 1st half\n",
    "import re \n",
    "# build and test pattern at https://regex101.com/\n",
    "\n",
    "payload = load_file(\"d03.txt\")\n",
    "\n",
    "mul_pattern = r\"mul\\(\\d+\\,\\d+\\)\"\n",
    "mul_matches = re.findall(mul_pattern, payload)\n",
    "\n",
    "num_pattern = r\"\\d+\"\n",
    "num_matches = [re.findall(num_pattern, mul) for mul in mul_matches]\n",
    "\n",
    "products = []\n",
    "for pair in num_matches:\n",
    "    a, b = int(pair[0]), int(pair[1])\n",
    "    products.append(a * b)\n",
    "\n",
    "sum(products)"
   ]
  },
  {
   "cell_type": "code",
   "execution_count": 7,
   "metadata": {},
   "outputs": [
    {
     "data": {
      "text/plain": [
       "104245808"
      ]
     },
     "execution_count": 7,
     "metadata": {},
     "output_type": "execute_result"
    }
   ],
   "source": [
    "# 2nd half\n",
    "pattern = r\"(mul\\(\\d+\\,\\d+\\)|do\\(\\)|don't\\(\\))\"\n",
    "instructions = re.findall(pattern, payload)\n",
    "\n",
    "def update_enable(instr: str) -> bool:\n",
    "    if instr == \"do()\":\n",
    "        return True\n",
    "    else:\n",
    "        return False\n",
    "  \n",
    "# enable at start\n",
    "enable = True\n",
    "products = []\n",
    "\n",
    "for instr in instructions:\n",
    "    if instr.startswith(\"d\"):\n",
    "        enable = update_enable(instr=instr)\n",
    "    elif enable:\n",
    "        pair = re.findall(num_pattern, instr)\n",
    "        a, b = int(pair[0]), int(pair[1])\n",
    "        products.append(a * b)\n",
    "    else:\n",
    "        continue\n",
    "\n",
    "sum(products)"
   ]
  },
  {
   "cell_type": "markdown",
   "metadata": {},
   "source": [
    "## Day 04"
   ]
  },
  {
   "cell_type": "code",
   "execution_count": 8,
   "metadata": {},
   "outputs": [
    {
     "name": "stdout",
     "output_type": "stream",
     "text": [
      "Result 2514\n"
     ]
    }
   ],
   "source": [
    "# 1st half\n",
    "# find all occurences of XMAS\n",
    "# horizontal, vertical, diagonal, backwards\n",
    "from itertools import product\n",
    "\n",
    "# directions = [(0, 1), (1, 0), (0, -1), (-1, 0), (1, 1), (1, -1), (-1, 1), (-1, -1)]\n",
    "directions_dict = list(product([-1, 0, 1], repeat=2))\n",
    "directions_dict = [d for d in directions_dict if d != (0, 0)]\n",
    "\n",
    "payload = load_file(\"./d04.txt\")\n",
    "payload = payload.split(\"\\n\")\n",
    "\n",
    "size = len(payload) # assume n by n\n",
    "\n",
    "s = 0\n",
    "for y in range(size):\n",
    "    for x in range(size):\n",
    "        for dy, dx in directions_dict:\n",
    "            if 0 <= y + 3 * dy < size and 0 <= x + 3 * dx < size:\n",
    "                if payload[y][x] == \"X\" \\\n",
    "                and payload[y+dy][x+dx] == \"M\" \\\n",
    "                and payload[y + 2 * dy][x + 2 * dx] == 'A' \\\n",
    "                and payload[y + 3 * dy][x + 3 * dx] == 'S':\n",
    "                    s += 1\n",
    "\n",
    "print(\"Result\", s)"
   ]
  },
  {
   "cell_type": "markdown",
   "metadata": {},
   "source": [
    "## Day 05"
   ]
  },
  {
   "cell_type": "code",
   "execution_count": 9,
   "metadata": {},
   "outputs": [
    {
     "data": {
      "text/plain": [
       "6267"
      ]
     },
     "execution_count": 9,
     "metadata": {},
     "output_type": "execute_result"
    }
   ],
   "source": [
    "# 1st half\n",
    "from collections import defaultdict\n",
    "payload = load_file(\"./d05.txt\")\n",
    "\n",
    "def extract_rules_orders(payload: str) -> tuple[dict[int, list[int]], list[int]]:\n",
    "    rules = defaultdict(list)\n",
    "    orders = []\n",
    "    r_sep = \"|\"\n",
    "    o_sep = \",\"\n",
    "\n",
    "    for line in payload.split():\n",
    "        if r_sep in line:\n",
    "            a, b = line.split(r_sep)\n",
    "            a, b = int(a), int(b)\n",
    "            rules[a].append(b)\n",
    "        elif o_sep in line:\n",
    "            order = line.split(o_sep)\n",
    "            order = list(map(int, order))\n",
    "            orders.append(order)\n",
    "        else: # skips empty lines\n",
    "            continue\n",
    "\n",
    "    rules = dict(rules)\n",
    "    return rules, orders\n",
    "\n",
    "rules, orders = extract_rules_orders(payload)\n",
    "\n",
    "def check_page_index(page: int, order: list[int], rule: list[int]) -> bool:\n",
    "    page_ind = order.index(page)\n",
    "    other_ind = [page_ind < order.index(r) for r in rule if r in order]\n",
    "    return all(other_ind)\n",
    "\n",
    "valid_orders = {}\n",
    "for ord_ind, order in enumerate(orders):\n",
    "    all_valid = []\n",
    "    for page in order:\n",
    "        # determine if each individual page is in valid position\n",
    "        rule = rules.get(page)\n",
    "        if rule is not None:\n",
    "            other_ind = check_page_index(page, order, rule)\n",
    "            all_valid.append(other_ind)\n",
    "        else:\n",
    "            all_valid.append(True)\n",
    "    \n",
    "    # determine if all pages are in valid positions\n",
    "    valid_orders[ord_ind] = all(all_valid)\n",
    "\n",
    "\n",
    "def get_middle_item(any_list: list[int]) -> int:\n",
    "    return any_list[len(any_list)//2]\n",
    "\n",
    "s = 0\n",
    "for ind, valid in valid_orders.items():\n",
    "    if valid:\n",
    "        order = orders[ind]\n",
    "        middle = get_middle_item(order)\n",
    "        s += middle\n",
    "\n",
    "s"
   ]
  },
  {
   "cell_type": "code",
   "execution_count": 10,
   "metadata": {},
   "outputs": [
    {
     "data": {
      "text/plain": [
       "5184"
      ]
     },
     "execution_count": 10,
     "metadata": {},
     "output_type": "execute_result"
    }
   ],
   "source": [
    "# 2nd half\n",
    "\n",
    "def extract_rule_pairs(payload: str) -> list[tuple[int, int]]:\n",
    "    r_rules = []\n",
    "    r_sep = \"|\"\n",
    "\n",
    "    for line in payload.split():\n",
    "        if r_sep in line:\n",
    "            a, b = line.split(r_sep)\n",
    "            a, b = int(a), int(b)\n",
    "            r_rules.append((a, b))\n",
    "\n",
    "    return r_rules\n",
    "\n",
    "def fix_ordering(rules: list[tuple[int, int]], order: list[int]) -> list[int]:\n",
    "    rule_dict = defaultdict(list)\n",
    "\n",
    "    for before, after in rules:\n",
    "        if before in order and after in order:\n",
    "            rule_dict[after].append(before)\n",
    "    # we're reversing the rules for a page with rule \n",
    "    # then using len() gives us how many pages must come before\n",
    "    # thus giving the position were the page in question goes \n",
    "    # if no rule for a page is found the defaultdict return empty list\n",
    "    order.sort(key=lambda page: len(rule_dict[page]))\n",
    "    return order\n",
    "\n",
    "\n",
    "r_rules = extract_rule_pairs(payload)\n",
    "\n",
    "s = 0\n",
    "for ind, valid in valid_orders.items():\n",
    "    if not valid:\n",
    "        order = orders[ind]\n",
    "        fixed_order = fix_ordering(r_rules, order)\n",
    "        middle = get_middle_item(fixed_order)\n",
    "        s += middle\n",
    "\n",
    "s"
   ]
  },
  {
   "cell_type": "markdown",
   "metadata": {},
   "source": [
    "## Day 06"
   ]
  },
  {
   "cell_type": "code",
   "execution_count": 6,
   "metadata": {},
   "outputs": [
    {
     "data": {
      "text/plain": [
       "5095"
      ]
     },
     "execution_count": 6,
     "metadata": {},
     "output_type": "execute_result"
    }
   ],
   "source": [
    "# 1st half\n",
    "payload = load_file(\"./d06.txt\").split()\n",
    "\n",
    "def make_grid(payload: list[str]) -> dict[tuple[int, int], str]:\n",
    "    size = len(payload)\n",
    "    grid = {}\n",
    "\n",
    "    # assume n by n \n",
    "    for x in range(size):\n",
    "        for y in range(size):\n",
    "            grid[(x, y)] = payload[y][x]\n",
    "\n",
    "    return grid\n",
    "\n",
    "\n",
    "def find_start_coords(symbol: str, grid) ->tuple[int, int]:\n",
    "    for coords, field in grid.items():\n",
    "        if field == symbol:\n",
    "            break\n",
    "\n",
    "    return coords\n",
    "\n",
    "def within_bounds(coords, bounds) -> bool:\n",
    "    if bounds[0] <= coords[0] < bounds[1] \\\n",
    "        and bounds[0] <= coords[1] < bounds[1]:\n",
    "        return True\n",
    "    else: \n",
    "        return False\n",
    "\n",
    "directions_dict = {\n",
    "    \"^\": (0, -1),\n",
    "    \">\": (1, 0),\n",
    "    \"v\": (0, 1),\n",
    "    \"<\": (-1, 0),\n",
    "}\n",
    "\n",
    "def change_direction(curr_dir: str) -> str:\n",
    "    next_direction = {\n",
    "        \"^\": \">\",\n",
    "        \">\": \"v\",\n",
    "        \"v\": \"<\",\n",
    "        \"<\": \"^\",\n",
    "    }\n",
    "    return next_direction[curr_dir]\n",
    "\n",
    "\n",
    "\n",
    "size = len(payload)\n",
    "floor = \".\"\n",
    "crate = \"#\"\n",
    "bounds = (0, size)\n",
    "grid = make_grid(payload)\n",
    "\n",
    "curr_dir = \"^\"\n",
    "curr_coords = find_start_coords(curr_dir, grid)\n",
    "distinct_positions = [curr_coords]\n",
    "\n",
    "while True:\n",
    "    direction = directions_dict[curr_dir]\n",
    "    next_coords = (\n",
    "        curr_coords[0] + direction[0],\n",
    "        curr_coords[1] + direction[1],\n",
    "    )\n",
    "\n",
    "    \n",
    "    if not within_bounds(next_coords, bounds):\n",
    "        break\n",
    "    \n",
    "    if grid[next_coords] == crate:\n",
    "        # curr_dir = next(directions)\n",
    "        curr_dir = change_direction(curr_dir)\n",
    "        continue\n",
    "\n",
    "    if grid[next_coords] != crate:\n",
    "        distinct_positions.append(next_coords)\n",
    "        curr_coords = next_coords\n",
    "\n",
    "\n",
    "len(set(distinct_positions))"
   ]
  },
  {
   "cell_type": "code",
   "execution_count": 12,
   "metadata": {},
   "outputs": [
    {
     "data": {
      "text/plain": [
       "1933"
      ]
     },
     "execution_count": 12,
     "metadata": {},
     "output_type": "execute_result"
    }
   ],
   "source": [
    "payload = load_file(\"./d06.txt\").split()\n",
    "obstacle = \"O\"\n",
    "\n",
    "def is_infinite_loop(\n",
    "        grid: dict[tuple[int, int], str],\n",
    "        start_coords: tuple[int, int],\n",
    "        start_dir: str,\n",
    "        bounds: tuple[int, int],\n",
    "    ) -> bool:\n",
    "\n",
    "    curr_coords = start_coords\n",
    "    curr_dir = start_dir\n",
    "    visited_states = set()\n",
    "\n",
    "    while True:\n",
    "        state = (curr_coords, curr_dir)\n",
    "\n",
    "        if state in visited_states:\n",
    "            return True\n",
    "        visited_states.add(state)\n",
    "\n",
    "        direction = directions_dict[curr_dir]\n",
    "        next_coords = (\n",
    "            curr_coords[0] + direction[0],\n",
    "            curr_coords[1] + direction[1],\n",
    "        )\n",
    "\n",
    "        if not within_bounds(next_coords, bounds):\n",
    "            return False\n",
    "\n",
    "        if grid[next_coords] in (crate, obstacle):\n",
    "            curr_dir = change_direction(curr_dir)\n",
    "        else:\n",
    "            curr_coords = next_coords \n",
    "\n",
    "def find_valid_obstacle_positions(payload: str) -> list:\n",
    "    size = len(payload)\n",
    "    bounds = (0, size)\n",
    "    grid = make_grid(payload)\n",
    "    start_dir = \"^\"\n",
    "    start_coords = find_start_coords(start_dir, grid)\n",
    "    valid_positions = []\n",
    "\n",
    "    for x in range(size):\n",
    "        for y in range(size):\n",
    "            pos = (x, y)\n",
    "\n",
    "            if grid[pos] in (start_dir, crate):\n",
    "                continue\n",
    "\n",
    "            grid[pos] = obstacle\n",
    "\n",
    "            if is_infinite_loop(grid, start_coords, start_dir, bounds):\n",
    "                valid_positions.append(pos)\n",
    "            \n",
    "            grid[pos] = floor # reset grid\n",
    "\n",
    "\n",
    "    return valid_positions\n",
    "    \n",
    "                \n",
    "val_pos_obst = find_valid_obstacle_positions(payload)\n",
    "len(val_pos_obst)"
   ]
  },
  {
   "cell_type": "markdown",
   "metadata": {},
   "source": [
    "## Day 07"
   ]
  },
  {
   "cell_type": "code",
   "execution_count": null,
   "metadata": {},
   "outputs": [
    {
     "data": {
      "text/plain": [
       "2941973819040"
      ]
     },
     "execution_count": 33,
     "metadata": {},
     "output_type": "execute_result"
    }
   ],
   "source": [
    "# 1st half\n",
    "# operators + * -> try all combinations\n",
    "# find all left that are possible from right with operators \n",
    "from math import prod\n",
    "from itertools import product \n",
    "OPERATORS = (\"+\", \"*\")\n",
    "\n",
    "OPS_FUNC = {\n",
    "    \"+\": sum,\n",
    "    \"*\": prod,\n",
    "}\n",
    "\n",
    "\n",
    "def permutator(operators: tuple = OPERATORS, repeat: int = 2):\n",
    "    return list(product(operators, repeat=repeat))\n",
    "\n",
    "\n",
    "def check_possible(left: int, right: list[int]) -> bool:\n",
    "    n_ops = len(right) - 1\n",
    "    poss_operators = permutator(repeat=n_ops)\n",
    "\n",
    "    for ops in poss_operators:\n",
    "        new_left = right[0]\n",
    "\n",
    "        for i in range(n_ops):\n",
    "            func = OPS_FUNC[ops[i]]\n",
    "            new_left = func([new_left, right[i+1]])\n",
    "\n",
    "            if new_left > left:\n",
    "                continue   \n",
    "        \n",
    "        if new_left == left:\n",
    "            return True\n",
    "\n",
    "    return new_left == left\n",
    "\n",
    "\n",
    "def process_step1(payload: str) -> list[int]:\n",
    "\n",
    "    result = []\n",
    "    for line in payload.split(\"\\n\"):\n",
    "        left, right = line.split(\":\")\n",
    "        left = int(left)\n",
    "        right = list(map(int, right.split()))\n",
    "        if check_possible(left, right):\n",
    "            result.append(left)\n",
    "\n",
    "    return result\n",
    "\n",
    "\n",
    "payload = load_file(\"./d07.txt\")\n",
    "result = process_step1(payload)\n",
    "sum(result) # 2941973819040"
   ]
  },
  {
   "cell_type": "code",
   "execution_count": null,
   "metadata": {},
   "outputs": [
    {
     "data": {
      "text/plain": [
       "249943041417600"
      ]
     },
     "execution_count": 36,
     "metadata": {},
     "output_type": "execute_result"
    }
   ],
   "source": [
    "# 2nd half\n",
    "\n",
    "def concat(array: list[int]) -> int:\n",
    "    return int(\"\".join(map(str, array)))\n",
    "\n",
    "OPERATORS = (\"+\", \"*\", \"||\")\n",
    "\n",
    "OPS_FUNC = {\n",
    "    \"+\": sum,\n",
    "    \"*\": prod,\n",
    "    \"||\": concat,\n",
    "}\n",
    "\n",
    "payload = load_file(\"./d07.txt\")\n",
    "result = process_step1(payload)\n",
    "finished_signal()\n",
    "sum(result) # 249943041417600"
   ]
  },
  {
   "cell_type": "markdown",
   "metadata": {},
   "source": [
    "## Day 08"
   ]
  },
  {
   "cell_type": "code",
   "execution_count": 10,
   "metadata": {},
   "outputs": [
    {
     "name": "stdout",
     "output_type": "stream",
     "text": [
      "426\n"
     ]
    }
   ],
   "source": [
    "from collections import defaultdict\n",
    "from itertools import combinations\n",
    "\n",
    "payload = load_file(\"./d08.txt\")\n",
    "grid = payload.split(\"\\n\")\n",
    "size = len(grid)\n",
    "BOUNDS = (0, size)\n",
    "EMPTY = \".\"\n",
    "\n",
    "def within_bounds(point, bounds=BOUNDS):\n",
    "    return bounds[0] <= point[0] < bounds[1] and bounds[0] <= point[1] < bounds[1]\n",
    "\n",
    "def compute_antinodes(a, b):\n",
    "    ax, ay = a\n",
    "    bx, by = b\n",
    "    \n",
    "    c = ax - (bx - ax), ay - (by - ay)\n",
    "    d = bx + (bx - ax), by + (by - ay)\n",
    "\n",
    "    if within_bounds(c):\n",
    "        yield c\n",
    "    if within_bounds(d):\n",
    "        yield d\n",
    "\n",
    "\n",
    "def get_antenna_locations(grid):\n",
    "    size = len(grid)\n",
    "    all_locs = defaultdict(list)\n",
    "    for r in range(size):\n",
    "        for c in range(size):\n",
    "            if grid[r][c] != EMPTY:\n",
    "                all_locs[grid[r][c]].append((r, c))\n",
    "    \n",
    "    return all_locs\n",
    "\n",
    "def get_antinode_locations(antenna_locations):\n",
    "    antinodes = set()\n",
    "    for locs in antenna_locations.values():\n",
    "        # get all two-pair combinations between antennas\n",
    "        for a, b in combinations(locs, r=2):\n",
    "            for antinode in compute_antinodes(a, b):\n",
    "                antinodes.add(antinode)\n",
    "    \n",
    "    return antinodes\n",
    "\n",
    "\n",
    "antenna_locations = get_antenna_locations(grid)\n",
    "antinode_locations = get_antinode_locations(antenna_locations)\n",
    "\n",
    "print(len(antinode_locations))"
   ]
  },
  {
   "cell_type": "code",
   "execution_count": null,
   "metadata": {},
   "outputs": [
    {
     "name": "stdout",
     "output_type": "stream",
     "text": [
      "1359\n"
     ]
    }
   ],
   "source": [
    "\n",
    "def compute_resonators(a, b):\n",
    "    ax, ay = a\n",
    "    bx, by = b\n",
    "    dx, dy = bx - ax, by - ay\n",
    "    \n",
    "    resonators = []\n",
    "    i = 0\n",
    "    while True:\n",
    "        r = ax - dx * i, ay - dy * i\n",
    "        if within_bounds(r):\n",
    "            resonators.append(r)\n",
    "        else:\n",
    "            break\n",
    "        i += 1\n",
    "    \n",
    "    i = 0\n",
    "    while True:\n",
    "        r = bx + dx * i, by + dy * i \n",
    "        if within_bounds(r):\n",
    "            resonators.append(r)\n",
    "        else:\n",
    "            break\n",
    "        i += 1\n",
    "\n",
    "    return resonators\n",
    "\n",
    "def get_resonator_locations(antenna_locations):\n",
    "    resonators = set()\n",
    "    for freq in antenna_locations:\n",
    "        locs = antenna_locations[freq]\n",
    "        for a, b in combinations(locs, r=2):\n",
    "            for resonator in compute_resonators(a, b):\n",
    "                resonators.add(resonator)\n",
    "\n",
    "    return resonators\n",
    "\n",
    "\n",
    "antenna_locations = get_antenna_locations(grid)\n",
    "resonator_locations = get_resonator_locations(antenna_locations)\n",
    "\n",
    "\n",
    "print(len(resonator_locations))"
   ]
  }
 ],
 "metadata": {
  "kernelspec": {
   "display_name": "base",
   "language": "python",
   "name": "python3"
  },
  "language_info": {
   "codemirror_mode": {
    "name": "ipython",
    "version": 3
   },
   "file_extension": ".py",
   "mimetype": "text/x-python",
   "name": "python",
   "nbconvert_exporter": "python",
   "pygments_lexer": "ipython3",
   "version": "3.9.7"
  }
 },
 "nbformat": 4,
 "nbformat_minor": 2
}
