{
 "cells": [
  {
   "cell_type": "markdown",
   "metadata": {},
   "source": [
    "## Day 1"
   ]
  },
  {
   "cell_type": "code",
   "execution_count": 2,
   "metadata": {},
   "outputs": [
    {
     "data": {
      "text/plain": [
       "'5118\\n5554\\n4186\\n4729\\n1242\\n4360\\n1427\\n5312\\n6012\\n1017\\n5581\\n5203\\n3811\\n4945\\n3960\\n\\n3812\\n7757\\n4448\\n2205\\n15715\\n\\n4164\\n6482\\n4479\\n3061\\n4082\\n2474\\n1175\\n1918\\n4755\\n\\n4056\\n5122\\n11426\\n5529\\n3659\\n9592\\n10257\\n\\n3435\\n3106\\n4933\\n2695\\n3107\\n6567\\n5579\\n1463\\n5734\\n4547\\n4532\\n2152\\n5132\\n\\n6074\\n11600\\n4337\\n3444\\n7637\\n6725\\n1189\\n\\n5637\\n1226\\n7068\\n6290\\n4411\\n3858\\n6677\\n1858\\n2840\\n1175\\n5056\\n6569\\n\\n32887\\n19643\\n\\n4951\\n2276\\n4300\\n4473\\n1895\\n5251\\n1770\\n4623\\n4602\\n4925\\n1769\\n\\n68012\\n\\n5760\\n2687\\n3192\\n2730\\n4867\\n4723\\n2591\\n1677\\n4458\\n4388\\n6038\\n3127\\n6416\\n3048\\n\\n2485\\n1630\\n1595\\n2864\\n2125\\n3852\\n2216\\n3883\\n4293\\n4165\\n2762\\n4016\\n2508\\n1396\\n4541\\n\\n5918\\n6874\\n6644\\n4024\\n3229\\n1318\\n1851\\n1566\\n1035\\n\\n7625\\n1369\\n\\n3894\\n18802\\n1362\\n12368\\n\\n10251\\n6249\\n2784\\n9394\\n5932\\n5610\\n7201\\n9922\\n\\n10994\\n10092\\n4121\\n2966\\n1178\\n2235\\n9379\\n\\n2592\\n1895\\n1740\\n4357\\n5314\\n1068\\n2228\\n3775\\n3949\\n7162\\n3078\\n1450\\n\\n9484\\n1796\\n8055\\n7901\\n9323\\n1982\\n2517\\n8358\\n2614\\n\\n18536\\n23454\\n12107\\n\\n6703\\n6966\\n1086\\n7022\\n3487\\n3871\\n2568\\n6441\\n1216\\n2105\\n5100\\n2945\\n\\n3268\\n4866\\n3569\\n4374\\n3666\\n2477\\n3263\\n1312\\n5121\\n6592\\n5337\\n1417\\n\\n17864\\n11775\\n1345\\n11675\\n\\n6636\\n1678\\n3982\\n4552\\n2719\\n2736\\n1342\\n6375\\n2671\\n1541\\n1093\\n5538\\n\\n21177\\n36871\\n\\n4608\\n5474\\n5004\\n3229\\n2744\\n1577\\n2182\\n4518\\n4930\\n1986\\n5776\\n5023\\n2070\\n5342\\n1952\\n\\n13940\\n15506\\n13799\\n\\n3672\\n3303\\n4866\\n5507\\n5282\\n5768\\n2847\\n2214\\n1688\\n2255\\n4302\\n4962\\n4585\\n4285\\n3602\\n\\n4766\\n4358\\n4532\\n10741\\n13311\\n2271\\n\\n3073\\n5990\\n8256\\n3692\\n4658\\n4561\\n6347\\n3260\\n6938\\n8643\\n\\n5261\\n1524\\n1671\\n3277\\n2326\\n5603\\n5837\\n1638\\n5104\\n3696\\n1910\\n2319\\n2305\\n1373\\n4801\\n\\n2593\\n3527\\n1517\\n4626\\n2003\\n4414\\n4677\\n2282\\n3000\\n1457\\n3530\\n5344\\n1890\\n1703\\n1268\\n\\n9002\\n7173\\n3848\\n6891\\n1741\\n5303\\n1670\\n1342\\n1865\\n\\n10319\\n10539\\n2972\\n4667\\n\\n4318\\n1366\\n1430\\n5003\\n2691\\n7117\\n3015\\n6516\\n6895\\n1618\\n3189\\n6739\\n\\n2494\\n7140\\n2905\\n8784\\n8727\\n4711\\n2284\\n6894\\n7030\\n1688\\n\\n1853\\n7351\\n7815\\n3222\\n8276\\n1461\\n5028\\n8048\\n5534\\n\\n12546\\n6236\\n20372\\n\\n2778\\n5745\\n2783\\n5774\\n4508\\n3691\\n6097\\n4637\\n5643\\n5902\\n1166\\n1208\\n3983\\n5030\\n\\n3767\\n2558\\n3988\\n1056\\n6570\\n5437\\n1920\\n2822\\n9126\\n\\n3173\\n3242\\n5762\\n4311\\n5206\\n3892\\n4978\\n5065\\n1319\\n2577\\n1347\\n3232\\n1915\\n5986\\n3536\\n\\n2308\\n2812\\n1119\\n3845\\n4589\\n4779\\n1503\\n3613\\n1576\\n3827\\n1468\\n1533\\n5896\\n4981\\n\\n9740\\n16395\\n19471\\n12882\\n\\n4779\\n7293\\n12593\\n15897\\n\\n36970\\n\\n2386\\n1094\\n2957\\n4452\\n4005\\n2723\\n1124\\n3533\\n2671\\n1701\\n2508\\n3075\\n4741\\n1471\\n3416\\n\\n37202\\n\\n5272\\n2736\\n4756\\n2235\\n4679\\n4093\\n1773\\n4088\\n2419\\n3192\\n4429\\n3959\\n5230\\n4342\\n\\n8514\\n11430\\n5023\\n9565\\n3726\\n11026\\n6334\\n\\n6563\\n2638\\n12569\\n3458\\n5449\\n1216\\n\\n1320\\n4708\\n1627\\n4189\\n3962\\n1463\\n2628\\n5667\\n5494\\n6105\\n4925\\n3540\\n1613\\n2288\\n\\n5974\\n7710\\n5200\\n4859\\n2346\\n5619\\n1337\\n4814\\n1359\\n3020\\n1798\\n\\n2744\\n1957\\n10669\\n4877\\n3507\\n7657\\n7748\\n\\n1021\\n4297\\n1689\\n6925\\n16175\\n\\n7147\\n11617\\n5654\\n11861\\n6065\\n3090\\n1744\\n\\n3782\\n6658\\n2389\\n4339\\n2312\\n7245\\n2039\\n3411\\n6251\\n1778\\n2345\\n5814\\n\\n13113\\n10123\\n18700\\n6991\\n\\n16138\\n11645\\n18610\\n\\n9586\\n6653\\n1001\\n4547\\n2891\\n2726\\n7618\\n5679\\n1567\\n\\n2380\\n1858\\n1059\\n1160\\n5115\\n2588\\n1969\\n2629\\n5525\\n5831\\n2139\\n5469\\n2783\\n\\n10606\\n4518\\n9057\\n5905\\n4187\\n4693\\n4396\\n2191\\n\\n4374\\n4407\\n1083\\n7787\\n7716\\n7505\\n10096\\n10650\\n\\n5809\\n4387\\n3426\\n3730\\n3699\\n4944\\n4176\\n2681\\n5197\\n1325\\n5920\\n4957\\n5876\\n5345\\n\\n20155\\n\\n1243\\n11423\\n13133\\n4539\\n4880\\n4276\\n\\n1073\\n1316\\n1841\\n5102\\n1196\\n4847\\n1293\\n2424\\n2345\\n2298\\n4214\\n4215\\n5760\\n5775\\n\\n4542\\n1152\\n5164\\n5642\\n2069\\n1419\\n5614\\n7343\\n1507\\n\\n2840\\n3922\\n3563\\n1856\\n5216\\n4886\\n3794\\n4637\\n1826\\n3520\\n5582\\n4602\\n2442\\n3631\\n4946\\n\\n7956\\n3248\\n7897\\n7846\\n2054\\n5576\\n3753\\n3378\\n1899\\n3490\\n6142\\n\\n9837\\n10901\\n15019\\n1735\\n5306\\n\\n3246\\n2485\\n5573\\n\\n2722\\n2084\\n18774\\n\\n7940\\n10855\\n8498\\n5547\\n13550\\n4239\\n\\n1857\\n7355\\n4374\\n6798\\n2341\\n13128\\n\\n14215\\n9770\\n2447\\n1035\\n\\n8426\\n1873\\n4518\\n2812\\n7611\\n2465\\n4770\\n\\n8166\\n19955\\n6472\\n\\n10884\\n11212\\n1463\\n2716\\n1796\\n12003\\n1240\\n\\n2802\\n2639\\n3268\\n2492\\n6676\\n8851\\n4054\\n9603\\n5354\\n\\n1483\\n3080\\n6696\\n8713\\n6856\\n4796\\n7728\\n4600\\n3616\\n8565\\n\\n26580\\n15329\\n\\n6074\\n15758\\n5707\\n13583\\n2595\\n\\n4957\\n9125\\n6534\\n8684\\n1728\\n3690\\n7983\\n4131\\n8907\\n\\n12147\\n15776\\n14765\\n17316\\n\\n27492\\n12173\\n\\n5967\\n1170\\n7896\\n7865\\n7945\\n2261\\n2026\\n1751\\n3988\\n3759\\n5258\\n\\n20764\\n\\n7020\\n7441\\n8780\\n6111\\n3483\\n8606\\n4547\\n8153\\n3543\\n6791\\n\\n5397\\n4408\\n1572\\n2315\\n3376\\n2021\\n1140\\n2876\\n5045\\n6034\\n4404\\n5705\\n3814\\n3981\\n3814\\n\\n6836\\n3601\\n7452\\n8519\\n2302\\n2382\\n8481\\n1455\\n7154\\n6565\\n\\n2077\\n5139\\n5462\\n1508\\n2094\\n4850\\n1688\\n4382\\n1991\\n2297\\n1930\\n4720\\n4995\\n2891\\n1967\\n\\n2201\\n3673\\n9817\\n7417\\n1283\\n\\n4988\\n3052\\n2258\\n6022\\n3678\\n2938\\n7073\\n6437\\n2402\\n5973\\n\\n2492\\n4592\\n1501\\n4818\\n3141\\n3470\\n2821\\n4367\\n4952\\n2779\\n2237\\n4283\\n5625\\n2935\\n\\n2422\\n5273\\n4053\\n4471\\n1343\\n1128\\n4538\\n4328\\n2974\\n3674\\n4155\\n5472\\n3520\\n2427\\n4145\\n\\n19383\\n13539\\n9822\\n2453\\n\\n2244\\n3506\\n2573\\n3837\\n1725\\n5081\\n4668\\n4438\\n2414\\n1446\\n1862\\n2453\\n2049\\n4867\\n5438\\n\\n16970\\n5265\\n\\n7417\\n8051\\n7490\\n1175\\n11316\\n4219\\n\\n1065\\n\\n6974\\n1232\\n6746\\n3660\\n3883\\n5403\\n3793\\n4956\\n4253\\n2237\\n5815\\n\\n6537\\n4906\\n11084\\n7541\\n10019\\n5164\\n11601\\n\\n4215\\n4216\\n1160\\n2096\\n1453\\n6271\\n5534\\n4353\\n6423\\n4060\\n6811\\n4701\\n3383\\n\\n2138\\n12998\\n19743\\n\\n8678\\n6328\\n6426\\n7184\\n8008\\n7896\\n5365\\n9506\\n1955\\n\\n1498\\n19856\\n7833\\n\\n17023\\n7023\\n21278\\n\\n2110\\n5542\\n7191\\n6509\\n8813\\n5236\\n7771\\n9593\\n1262\\n\\n11625\\n19032\\n17458\\n\\n5266\\n4751\\n7950\\n2185\\n7837\\n5710\\n2053\\n7332\\n7422\\n6356\\n\\n5781\\n1330\\n2974\\n2628\\n7407\\n7339\\n3767\\n5411\\n3400\\n\\n5330\\n3441\\n6203\\n5272\\n5867\\n6034\\n3167\\n2187\\n6006\\n6614\\n1089\\n2485\\n\\n3792\\n4129\\n1207\\n1121\\n3599\\n6143\\n4394\\n5550\\n1488\\n2675\\n6064\\n1527\\n4429\\n\\n1606\\n1129\\n5426\\n5260\\n3827\\n5595\\n2286\\n1974\\n7525\\n1290\\n4569\\n\\n2181\\n5045\\n7730\\n5502\\n5467\\n7720\\n1780\\n4553\\n1188\\n4213\\n\\n2565\\n10635\\n12032\\n3283\\n\\n9902\\n2896\\n9653\\n6296\\n2656\\n11583\\n5835\\n\\n4932\\n4548\\n3832\\n2377\\n3371\\n2612\\n1907\\n3494\\n4567\\n3130\\n3375\\n2750\\n\\n7757\\n1033\\n8201\\n13544\\n13481\\n\\n3382\\n12952\\n9450\\n4982\\n13966\\n\\n4691\\n3678\\n1026\\n7359\\n1885\\n1245\\n5281\\n8602\\n6744\\n\\n13041\\n9202\\n\\n3621\\n3558\\n2279\\n2854\\n6415\\n5368\\n\\n1102\\n5319\\n5768\\n1990\\n2526\\n1900\\n6294\\n4744\\n3655\\n5011\\n3092\\n2697\\n3864\\n\\n12013\\n\\n27776\\n14644\\n\\n5434\\n1501\\n1439\\n4972\\n1365\\n6076\\n1428\\n6291\\n6020\\n5509\\n3835\\n2571\\n6308\\n1483\\n\\n3972\\n9357\\n8383\\n11037\\n9557\\n10966\\n\\n8344\\n1761\\n10183\\n4200\\n3936\\n5778\\n9722\\n1298\\n\\n3962\\n2611\\n7361\\n1156\\n2522\\n2462\\n4249\\n5127\\n1443\\n5989\\n2942\\n\\n5384\\n7053\\n2194\\n11964\\n5937\\n7708\\n\\n3052\\n3192\\n3224\\n5708\\n2120\\n5756\\n6107\\n1198\\n5519\\n3803\\n1169\\n2903\\n5942\\n4376\\n3675\\n\\n11517\\n9051\\n2084\\n4508\\n4197\\n7219\\n9902\\n\\n4566\\n5562\\n4263\\n1970\\n1965\\n1333\\n1601\\n2665\\n3443\\n5463\\n4981\\n3792\\n2588\\n3282\\n\\n1243\\n3604\\n4947\\n1044\\n6962\\n2276\\n2828\\n6334\\n2508\\n\\n1339\\n3050\\n10158\\n2095\\n7779\\n5165\\n9420\\n6101\\n\\n4512\\n\\n3273\\n2248\\n2082\\n12415\\n13944\\n\\n5638\\n5204\\n3327\\n1361\\n3775\\n3421\\n7597\\n1917\\n1802\\n3896\\n4058\\n\\n1901\\n1813\\n7388\\n3861\\n6838\\n6154\\n5500\\n3086\\n6403\\n3654\\n7471\\n6904\\n\\n1932\\n1303\\n1930\\n1720\\n5505\\n1595\\n2260\\n5629\\n\\n38957\\n\\n4629\\n3672\\n3629\\n5011\\n5182\\n3952\\n2295\\n4943\\n2644\\n2851\\n5894\\n4654\\n5257\\n3972\\n\\n48469\\n\\n3481\\n1398\\n3837\\n2611\\n3330\\n3229\\n7619\\n4106\\n6816\\n3486\\n2763\\n\\n6591\\n2522\\n6262\\n5458\\n3025\\n2804\\n6403\\n1390\\n2964\\n3081\\n3449\\n\\n6408\\n3223\\n4302\\n1079\\n5836\\n5580\\n1538\\n2616\\n3850\\n5272\\n3688\\n2381\\n5775\\n5497\\n\\n1891\\n1448\\n4283\\n5965\\n2726\\n1425\\n5399\\n2795\\n1583\\n2489\\n5171\\n3133\\n2547\\n5117\\n3092\\n\\n11463\\n11581\\n6972\\n5410\\n3675\\n8578\\n4283\\n\\n1398\\n1747\\n1341\\n5365\\n5086\\n2268\\n4544\\n5286\\n5910\\n1393\\n4580\\n4726\\n1123\\n3949\\n1223\\n\\n7526\\n3223\\n5495\\n7184\\n10259\\n7681\\n4795\\n\\n7168\\n6278\\n7939\\n3829\\n3670\\n7969\\n4917\\n7406\\n9035\\n\\n5687\\n4872\\n2967\\n10772\\n9196\\n6207\\n6244\\n2801\\n\\n3500\\n1786\\n1517\\n1585\\n4536\\n2645\\n5249\\n4808\\n5681\\n4591\\n5595\\n2751\\n3336\\n1615\\n2200\\n\\n6894\\n4752\\n1794\\n6507\\n2184\\n5589\\n3016\\n4532\\n2321\\n6843\\n2909\\n2104\\n4065\\n\\n24126\\n\\n3293\\n8274\\n1297\\n4841\\n4653\\n1817\\n1972\\n6169\\n1001\\n7070\\n\\n6969\\n5331\\n4779\\n5316\\n5249\\n3315\\n4355\\n3596\\n3868\\n5647\\n1110\\n\\n5235\\n5846\\n5619\\n6259\\n4372\\n2600\\n7526\\n3962\\n3840\\n\\n4260\\n4484\\n6361\\n4276\\n6344\\n4776\\n1173\\n1884\\n4572\\n1411\\n5230\\n3976\\n1800\\n2426\\n\\n19185\\n15235\\n19905\\n8664\\n\\n3346\\n7532\\n8840\\n2182\\n10048\\n4181\\n5030\\n8078\\n\\n2080\\n2279\\n6250\\n3388\\n6097\\n4607\\n6262\\n4259\\n3261\\n4653\\n3338\\n7025\\n\\n1138\\n2851\\n5912\\n8592\\n7341\\n3596\\n7669\\n1030\\n7624\\n\\n6551\\n6753\\n7807\\n4296\\n3515\\n6873\\n5010\\n8497\\n1742\\n5767\\n\\n8921\\n7840\\n9067\\n3809\\n4347\\n2876\\n3886\\n9982\\n\\n11455\\n10295\\n15198\\n\\n1574\\n4240\\n4052\\n1739\\n5701\\n8449\\n5055\\n3893\\n2700\\n\\n3864\\n4306\\n4190\\n1165\\n1708\\n5705\\n5654\\n6753\\n3840\\n4139\\n2121\\n5735\\n\\n1662\\n3541\\n2480\\n6124\\n3355\\n5737\\n5537\\n6806\\n7953\\n1109\\n\\n14180\\n15876\\n25965\\n\\n7732\\n33422\\n\\n5918\\n5146\\n6768\\n9366\\n1687\\n1440\\n3115\\n1065\\n6514\\n\\n2316\\n4905\\n2945\\n5351\\n6196\\n6207\\n5751\\n3811\\n4765\\n1419\\n5253\\n1616\\n2274\\n6363\\n\\n5125\\n2491\\n5057\\n2749\\n1586\\n4997\\n5249\\n3944\\n3964\\n3845\\n2457\\n5972\\n5313\\n6453\\n\\n30602\\n6865\\n\\n4413\\n1651\\n6256\\n6524\\n3466\\n1160\\n4599\\n6477\\n2681\\n1855\\n4785\\n\\n6435\\n5377\\n6008\\n1744\\n5182\\n4469\\n3999\\n2913\\n3367\\n3233\\n2369\\n1712\\n5408\\n4622\\n\\n4201\\n5475\\n1117\\n2679\\n2649\\n1446\\n4043\\n1136\\n3750\\n4523\\n3800\\n3245\\n3179\\n6183\\n\\n7682\\n7213\\n5144\\n1557\\n5579\\n5005\\n6307\\n5906\\n7244\\n6230\\n\\n1205\\n2764\\n3576\\n5212\\n1723\\n4138\\n1801\\n1772\\n4809\\n1429\\n2010\\n3093\\n4435\\n2268\\n4904\\n\\n4386\\n6822\\n1865\\n3688\\n6771\\n5433\\n1430\\n4870\\n6745\\n5758\\n4456\\n6549\\n6203\\n\\n2413\\n3287\\n3376\\n5780\\n1190\\n1177\\n1577\\n4375\\n5558\\n5117\\n6773\\n2483\\n4436\\n\\n5870\\n4195\\n5932\\n1117\\n5072\\n4581\\n6922\\n2695\\n3134\\n2021\\n3327\\n5538\\n2324\\n\\n2609\\n4270\\n5809\\n1096\\n6794\\n3530\\n3222\\n4881\\n3806\\n2887\\n7158\\n\\n2989\\n5279\\n6821\\n2474\\n3144\\n8621\\n3854\\n5012\\n1144\\n1354\\n\\n9033\\n7624\\n5535\\n2433\\n1433\\n5568\\n8161\\n\\n5691\\n5394\\n3445\\n4619\\n1703\\n6197\\n2113\\n4277\\n2506\\n3380\\n6039\\n6423\\n6429\\n\\n23751\\n4571\\n7508\\n\\n9674\\n3084\\n3612\\n3841\\n3555\\n8146\\n6263\\n7746\\n3586\\n\\n7907\\n6263\\n2320\\n4430\\n15429\\n\\n2825\\n2248\\n7184\\n3650\\n1008\\n5219\\n5600\\n2610\\n7357\\n5113\\n1039\\n2019\\n\\n2167\\n4159\\n6290\\n3757\\n10133\\n1345\\n7250\\n10590\\n\\n6712\\n5361\\n3243\\n6239\\n1667\\n2699\\n5389\\n1400\\n1334\\n2382\\n1604\\n3256\\n2439\\n\\n6520\\n1478\\n3049\\n6452\\n6899\\n1850\\n2466\\n3485\\n3020\\n6683\\n8000\\n\\n7715\\n6597\\n5588\\n2062\\n6732\\n3811\\n10470\\n\\n4793\\n1206\\n6481\\n11715\\n8827\\n3174\\n\\n3492\\n1535\\n2603\\n5877\\n4937\\n6805\\n1620\\n9488\\n1593\\n\\n2182\\n8258\\n3319\\n5499\\n6257\\n1466\\n6435\\n8334\\n1140\\n6764\\n\\n15599\\n28121\\n\\n5804\\n6653\\n1670\\n7337\\n4711\\n8303\\n10073\\n6327\\n\\n2754\\n2040\\n2295\\n8503\\n2231\\n11685\\n6556\\n\\n16325\\n4057\\n11110\\n\\n6482\\n2035\\n5189\\n6641\\n4232\\n1100\\n1088\\n2779\\n2220\\n3078\\n2847\\n6009\\n1981\\n\\n8655\\n8687\\n7225\\n4133\\n4449\\n7193\\n4009\\n7455\\n\\n2014\\n2691\\n1207\\n1140\\n6736\\n4780\\n2781\\n2855\\n5056\\n3590\\n2372\\n6188\\n\\n6779\\n4130\\n5169\\n5726\\n1503\\n1520\\n8302\\n3054\\n3037\\n6190\\n\\n6862\\n7039\\n1305\\n4226\\n5769\\n5068\\n8362\\n7612\\n6856\\n\\n17695\\n18988\\n3757\\n15137\\n\\n5268\\n3234\\n2073\\n1529\\n1190\\n5659\\n7316\\n3075\\n4191\\n6111\\n2582\\n7122\\n\\n9316\\n2087\\n2980\\n12121\\n1703\\n6661\\n4286\\n\\n20694\\n6712\\n15401\\n\\n4342\\n3838\\n3208\\n2372\\n1410\\n1648\\n2342\\n6113\\n5573\\n6091\\n2624\\n1749\\n5643\\n4258\\n\\n2303\\n2178\\n3449\\n3150\\n3825\\n3673\\n1326\\n6377\\n\\n10398\\n3801\\n11714\\n7455\\n3382\\n6182\\n\\n27882\\n\\n6667\\n3268\\n11915\\n7045\\n10478\\n10538\\n2287\\n\\n5694\\n5516\\n6094\\n4909\\n5685\\n4931\\n5949\\n6361\\n6476\\n6439\\n1667\\n5691\\n3883\\n3307\\n\\n9977\\n7477\\n6533\\n9766\\n4576\\n2051\\n1376\\n\\n5966\\n7654\\n5784\\n2727\\n7568\\n4600\\n2150\\n1333\\n6583\\n4119\\n2648\\n\\n11274\\n8674\\n4155\\n2163\\n1897\\n6579\\n11099\\n\\n2751\\n4530\\n5488\\n1491\\n2456\\n2752\\n1767\\n6113\\n7730\\n7127\\n\\n8657\\n6947\\n4803\\n5103\\n4373\\n9501\\n1486\\n5689\\n\\n4382\\n5176\\n2533\\n6017\\n6100\\n4935\\n1841\\n4530\\n6120\\n4735\\n3438\\n3305\\n5324\\n2814\\n\\n41401\\n\\n20975\\n30628\\n\\n2099\\n5390\\n4829\\n5845\\n2674\\n1029\\n3312\\n3412\\n3402\\n5544\\n4773\\n5274\\n2458\\n4309\\n2741\\n\\n4345\\n7095\\n7361\\n2171\\n6003\\n5069\\n1941\\n2473\\n2116\\n6508\\n6491\\n7227\\n\\n8137\\n8052\\n5372\\n1086\\n2369\\n5763\\n8937\\n9055\\n1208\\n\\n4359\\n3906\\n5012\\n2086\\n4937\\n4239\\n3390\\n3280\\n4948\\n3906\\n6387\\n\\n6430\\n11071\\n1179\\n6918\\n12028\\n1855\\n\\n11059\\n14754\\n15751\\n15821\\n9411\\n\\n8722\\n1104\\n7422\\n9229\\n7919\\n6200\\n2274\\n2980\\n5686\\n\\n3277\\n4325\\n9477\\n9651\\n4798\\n8742\\n4308\\n6656\\n6746\\n\\n5777\\n6805\\n4337\\n4847\\n4966\\n3525\\n2729\\n6611\\n3070\\n3734\\n1957\\n1360\\n1678'"
      ]
     },
     "execution_count": 2,
     "metadata": {},
     "output_type": "execute_result"
    }
   ],
   "source": [
    "from pathlib import Path\n",
    "\n",
    "def load_unaltered(file_name: str) -> str:\n",
    "    with Path(f\"./{file_name}\").open() as file:\n",
    "        payload = file.read()\n",
    "    return payload\n",
    "\n",
    "\n",
    "payload = load_unaltered(\"d01.txt\")\n",
    "payload"
   ]
  },
  {
   "cell_type": "code",
   "execution_count": 2,
   "metadata": {},
   "outputs": [
    {
     "data": {
      "text/plain": [
       "207410"
      ]
     },
     "execution_count": 2,
     "metadata": {},
     "output_type": "execute_result"
    }
   ],
   "source": [
    "\n",
    "def step_1(payload):\n",
    "\n",
    "    elf_count = len(payload.split(\"\\n\\n\"))\n",
    "    calorie_counter = {k+1: 0 for k in range(elf_count)}\n",
    "\n",
    "    elf_counter = 1\n",
    "    for food in payload.strip().split(\"\\n\"):\n",
    "        if len(food) > 0:\n",
    "            calorie_counter[elf_counter] += int(food)\n",
    "        else:\n",
    "            elf_counter += 1\n",
    "        \n",
    "    return sorted(calorie_counter.items(), key=lambda x: x[1], reverse=True)\n",
    "\n",
    "def step_2(payload, top_k = 3):\n",
    "    result = 0\n",
    "    for k in range(top_k):\n",
    "        result += payload[k][1]\n",
    "    \n",
    "    return result\n",
    "\n",
    "\n",
    "\n",
    "step_2(step_1(payload))"
   ]
  },
  {
   "cell_type": "markdown",
   "metadata": {},
   "source": [
    "## Day 2"
   ]
  },
  {
   "cell_type": "code",
   "execution_count": 12,
   "metadata": {},
   "outputs": [
    {
     "data": {
      "text/plain": [
       "'C X\\nC Y\\nC X\\nB X\\nB Z\\nA Z\\nC Y\\nC Z\\nB Z\\nC X\\nB Y\\nC Y\\nC Y\\nA Y\\nC Y\\nC Y\\nC Z\\nC X\\nB Z\\nC Y\\nA Y\\nA Y\\nC Z\\nB Y\\nA Y\\nC Z\\nC Y\\nA Y\\nA Y\\nB Y\\nC Y\\nC Z\\nC Y\\nB X\\nB Z\\nC Y\\nB Z\\nA X\\nC Z\\nA Y\\nB Y\\nC Y\\nC Y\\nB Z\\nB Y\\nA Z\\nC X\\nC X\\nC Y\\nC X\\nB Z\\nA Y\\nB X\\nB Z\\nC Z\\nC X\\nC X\\nB Z\\nA Y\\nB Y\\nC Y\\nC Y\\nA Y\\nC X\\nA Y\\nB Z\\nC Y\\nC Y\\nB Y\\nC Y\\nA Z\\nA Z\\nB X\\nA Y\\nC Y\\nA Y\\nC Y\\nC Y\\nC X\\nC Y\\nB Z\\nC Y\\nC Z\\nC X\\nB X\\nC Y\\nC Y\\nC X\\nC Z\\nA Y\\nC X\\nB Z\\nC X\\nA Y\\nB Y\\nC Y\\nA Y\\nA Y\\nA Y\\nB Y\\nC Y\\nA Y\\nA Y\\nC Z\\nC Y\\nB Y\\nC X\\nC Y\\nB Z\\nB Z\\nC X\\nC Y\\nC X\\nC Y\\nC Y\\nA Y\\nC Y\\nC X\\nC Y\\nC Y\\nB Y\\nB Z\\nA Y\\nB Y\\nA Y\\nA Y\\nC Y\\nB X\\nC Y\\nC X\\nA Y\\nC X\\nC X\\nC Y\\nC Y\\nB Z\\nC X\\nA Y\\nB Z\\nC Z\\nC X\\nA Y\\nB Z\\nC Y\\nB Y\\nA Y\\nA Y\\nC Y\\nB Y\\nC Y\\nC X\\nC Y\\nA Y\\nC Y\\nA Y\\nB Y\\nC X\\nC Y\\nC Y\\nB Z\\nB Z\\nA Y\\nC Y\\nC Y\\nC Y\\nC Y\\nA Y\\nC X\\nC Z\\nC X\\nA Y\\nA Y\\nA Y\\nC Y\\nB Z\\nB Z\\nC Y\\nC Y\\nB X\\nC Y\\nC Y\\nB Z\\nB X\\nB Y\\nC Y\\nC Y\\nC X\\nB Y\\nB Z\\nB Z\\nC Y\\nC Y\\nC X\\nC X\\nA Y\\nC Y\\nC Y\\nB X\\nB Z\\nB X\\nB Z\\nB Y\\nC X\\nB X\\nB Y\\nB Z\\nB Z\\nB X\\nB Z\\nB Y\\nC X\\nC Y\\nC X\\nC X\\nB Z\\nC Y\\nC Y\\nC Y\\nB Z\\nC Y\\nC X\\nC Y\\nC Y\\nA Z\\nC Y\\nA Y\\nC Y\\nA Z\\nA X\\nC Y\\nC Y\\nC Y\\nC Z\\nB Z\\nB Z\\nC Y\\nB Z\\nB Z\\nC X\\nC Y\\nA Y\\nA Y\\nC Y\\nA Y\\nC Y\\nC Y\\nB Y\\nA Y\\nC Y\\nB Z\\nA Y\\nB Z\\nC X\\nC Y\\nA Y\\nB Z\\nA Y\\nC X\\nC Y\\nB Y\\nC Y\\nA Z\\nB Z\\nB X\\nC Y\\nA Y\\nA Z\\nC X\\nA Y\\nB Z\\nA Y\\nB Y\\nC Y\\nC Y\\nB Z\\nB Z\\nC X\\nB Z\\nC X\\nC Z\\nC Y\\nC X\\nA Y\\nC X\\nA Y\\nA Y\\nB Z\\nB Z\\nB Z\\nA Y\\nA Y\\nC Y\\nA Y\\nB Z\\nC X\\nC Y\\nC Y\\nC Y\\nB Y\\nA Y\\nC Z\\nC Y\\nA Y\\nA Y\\nB Z\\nC Y\\nC Y\\nC Y\\nB Z\\nC Y\\nC Y\\nA Y\\nA Y\\nC Y\\nC X\\nB Z\\nB Z\\nC X\\nC X\\nC Z\\nA Y\\nC Y\\nA Y\\nA Y\\nC X\\nA Z\\nB Y\\nA Y\\nC X\\nA Y\\nC X\\nC X\\nA Y\\nA Y\\nC X\\nB Y\\nB Z\\nC Y\\nC Z\\nC Y\\nC Y\\nB Z\\nC Y\\nA Y\\nA X\\nB Y\\nC Y\\nA Y\\nC Y\\nC Y\\nC Y\\nA Y\\nC Y\\nA Y\\nC Y\\nB Z\\nA Y\\nC X\\nC Y\\nA Y\\nC Y\\nA Y\\nA Y\\nA Y\\nB Z\\nC Y\\nB Z\\nA Y\\nC Y\\nA Y\\nC Y\\nC X\\nB Z\\nA Y\\nC X\\nB Z\\nB Y\\nC Y\\nC Z\\nC Y\\nB Y\\nB Y\\nA Y\\nA Y\\nC X\\nB Y\\nA Y\\nC Y\\nB X\\nC X\\nA Y\\nC Y\\nA Y\\nC Y\\nB Z\\nA Z\\nB Z\\nB Z\\nA Z\\nC Y\\nC Y\\nC X\\nB Y\\nC Y\\nA Y\\nC Y\\nC Y\\nB Y\\nB Z\\nC Y\\nC X\\nA Y\\nC X\\nC X\\nC Y\\nB Y\\nC Y\\nB Z\\nC Y\\nA Y\\nA Y\\nC Y\\nC X\\nC X\\nC X\\nC Y\\nC X\\nC Y\\nC Y\\nA Y\\nC Y\\nC X\\nC Y\\nC X\\nC X\\nC X\\nA Y\\nB Y\\nC Y\\nC Y\\nC Y\\nC Y\\nC Y\\nA Y\\nA X\\nB Z\\nC X\\nC Y\\nC Y\\nB Z\\nA Y\\nA Y\\nB X\\nB Z\\nC Y\\nC Y\\nB Z\\nA Y\\nA Y\\nA Y\\nC Y\\nC Y\\nA Y\\nA Y\\nC Y\\nC Y\\nC X\\nC X\\nC X\\nB Z\\nC Z\\nC X\\nA Z\\nC Y\\nC X\\nA Y\\nB Y\\nB Z\\nC X\\nC Y\\nC Y\\nC Z\\nC Y\\nC X\\nA Z\\nC Y\\nA X\\nB Y\\nC Y\\nC Y\\nC Y\\nC X\\nB Y\\nB Y\\nC X\\nB X\\nA Y\\nC Y\\nC Y\\nC Y\\nB X\\nC Y\\nA Y\\nC Y\\nC Y\\nB Z\\nC X\\nB X\\nC Z\\nC Y\\nA Y\\nB Y\\nB Z\\nC Z\\nC X\\nC X\\nA Y\\nA Y\\nB Z\\nA Y\\nC X\\nB Y\\nC Y\\nA Y\\nB X\\nA Y\\nA Y\\nC Z\\nC Y\\nC Z\\nB Z\\nA X\\nC Y\\nB Y\\nC Y\\nB Z\\nB Y\\nC Y\\nA Y\\nB Z\\nB Z\\nC X\\nB Z\\nC Y\\nB Z\\nB Z\\nC Y\\nC Y\\nB Z\\nC Z\\nC Y\\nB Z\\nC Y\\nB X\\nA Y\\nB Z\\nA Y\\nC Y\\nA Y\\nC Y\\nC Y\\nB Y\\nB Z\\nB Z\\nC Y\\nA Y\\nB Z\\nC X\\nC Y\\nC Y\\nA Y\\nC Y\\nC Y\\nC X\\nA Y\\nC Y\\nC Y\\nA Y\\nC X\\nA Y\\nA Y\\nA Y\\nC Y\\nC Y\\nA Y\\nB Z\\nA Y\\nB Y\\nA Y\\nA Y\\nC Y\\nC Y\\nC Z\\nA Y\\nC Y\\nB Z\\nA Y\\nC Y\\nC Z\\nC Y\\nC Y\\nB Z\\nC Y\\nC Y\\nB Z\\nB Y\\nC Y\\nA Y\\nC X\\nC Y\\nC Z\\nC Z\\nC X\\nC X\\nC X\\nC Z\\nC Y\\nB Z\\nA Y\\nB Z\\nB Z\\nA Y\\nC Y\\nC Y\\nC Y\\nB X\\nC Y\\nA Y\\nA Z\\nB Y\\nB Y\\nA Y\\nB Z\\nA Y\\nB Y\\nC Z\\nC Y\\nC Y\\nC Y\\nB Z\\nB Z\\nB Z\\nC Y\\nC Y\\nA Y\\nC X\\nC X\\nA Y\\nC Y\\nC Y\\nC Y\\nC Y\\nC X\\nC Y\\nC Y\\nC Y\\nC X\\nA Z\\nB Y\\nC Y\\nA Y\\nA Y\\nB Z\\nA Z\\nC Y\\nC Y\\nC Y\\nC X\\nB X\\nB Y\\nC Y\\nA Y\\nA Z\\nB X\\nC Y\\nC Y\\nB Z\\nA Y\\nA Y\\nB Z\\nB Z\\nC Y\\nC Y\\nC X\\nB Y\\nB Z\\nC Y\\nB Y\\nC Y\\nA Y\\nC X\\nC X\\nB Z\\nA Y\\nC Y\\nB Z\\nC X\\nC Y\\nB Y\\nB Z\\nA Z\\nB Y\\nB Y\\nC X\\nC Y\\nA Z\\nC X\\nC X\\nA Y\\nA Y\\nC X\\nA Y\\nB Y\\nB Z\\nA Y\\nB Z\\nB X\\nC Y\\nC Y\\nC X\\nB Z\\nA Y\\nB Y\\nA Y\\nC Y\\nC Z\\nB Z\\nC Y\\nA Y\\nC Y\\nC Z\\nA Z\\nB Z\\nB X\\nC Y\\nC Y\\nB Y\\nC X\\nB Y\\nB Z\\nB Z\\nB X\\nB Y\\nC X\\nC Y\\nC X\\nC Y\\nA Y\\nA Y\\nC Y\\nA Y\\nC Y\\nC X\\nC Y\\nA Y\\nB Z\\nC X\\nC Y\\nB Z\\nC Y\\nC Y\\nB Y\\nB Z\\nA X\\nC Y\\nB Y\\nB Y\\nB Z\\nC Y\\nB Z\\nA Y\\nC Y\\nB Y\\nC Y\\nA Y\\nC Y\\nB Z\\nC Y\\nA Y\\nA Y\\nC Y\\nA Y\\nC Y\\nA Y\\nA Y\\nB Z\\nC X\\nC Y\\nB Z\\nC Y\\nA X\\nA Z\\nC Y\\nC X\\nC X\\nC Y\\nC Y\\nB Z\\nA Z\\nA Y\\nC Y\\nB Z\\nA Y\\nA Y\\nC Y\\nB Z\\nA Y\\nC X\\nA Y\\nA Y\\nC X\\nB Z\\nB X\\nA X\\nA Y\\nB Y\\nA X\\nB X\\nC X\\nC Y\\nA Y\\nC Y\\nA Y\\nA Y\\nC X\\nB Y\\nC X\\nB Y\\nC Y\\nC Y\\nA Y\\nB Z\\nA Z\\nB Y\\nC X\\nC Y\\nC Y\\nB Z\\nC Z\\nA Y\\nA Y\\nA Z\\nC Y\\nA Y\\nB Z\\nC Y\\nC Y\\nB Y\\nA Y\\nA Y\\nC Y\\nC X\\nC X\\nB Y\\nB Z\\nC Y\\nB Y\\nB Z\\nC Y\\nA Y\\nB Z\\nA Y\\nA Y\\nA Z\\nC X\\nB Z\\nC Y\\nB Z\\nA Y\\nC X\\nC Y\\nC Y\\nB X\\nB Z\\nA Y\\nA Y\\nA Y\\nA Y\\nA Y\\nC Y\\nA Y\\nA Y\\nC X\\nC Y\\nC Z\\nB Z\\nA Z\\nC Z\\nA Y\\nB Z\\nB Y\\nA Y\\nC Y\\nB Z\\nA Y\\nC Y\\nC Y\\nA Y\\nC Y\\nB Z\\nB Y\\nB Z\\nC Y\\nC Y\\nC Y\\nA Z\\nC X\\nB X\\nB Z\\nC Z\\nC Y\\nC Y\\nC Y\\nC X\\nA Y\\nC Y\\nA Y\\nA Y\\nB Z\\nA Y\\nC Y\\nC Y\\nA Y\\nC Y\\nA Z\\nB X\\nA Y\\nC Y\\nA Y\\nA Z\\nA Y\\nA Y\\nB Z\\nB Y\\nB Z\\nC Y\\nB Z\\nC X\\nA Y\\nC Y\\nA Y\\nA Y\\nA Y\\nB Z\\nB Z\\nC Y\\nB Z\\nB Y\\nC X\\nA Y\\nC Y\\nA Y\\nB Z\\nC X\\nB Y\\nC Y\\nB Z\\nC Y\\nA Y\\nC Y\\nC Y\\nB Y\\nB Z\\nC Y\\nB Z\\nB Y\\nC Y\\nC X\\nA Z\\nC Z\\nC Y\\nC Y\\nA Y\\nA Y\\nC X\\nC Y\\nC Y\\nC Y\\nC X\\nB Z\\nC X\\nC Y\\nA Y\\nA Y\\nB Z\\nA Y\\nA Y\\nC Y\\nA Y\\nB Z\\nC X\\nC Y\\nC Y\\nC Y\\nC Y\\nC X\\nB Z\\nA Y\\nB Y\\nC Y\\nC X\\nB Z\\nC Y\\nA Y\\nA Y\\nB Z\\nC Y\\nA Y\\nC Z\\nC X\\nB Z\\nC Y\\nA Z\\nB Z\\nA Y\\nA Y\\nC Y\\nB Z\\nB Z\\nA Y\\nC Y\\nB Y\\nC Y\\nA Y\\nA Y\\nB Y\\nB X\\nB Z\\nC Y\\nA Y\\nC Y\\nA Y\\nA Y\\nB Z\\nB Y\\nA Y\\nA Y\\nA Y\\nC Y\\nB Y\\nC Y\\nA Y\\nC X\\nC Y\\nC Y\\nB Z\\nB Z\\nC Y\\nC Y\\nA Y\\nB X\\nC X\\nA Y\\nC Y\\nC Y\\nC Y\\nA Y\\nC X\\nB Z\\nA Y\\nC Z\\nB Y\\nB Y\\nC Z\\nA Y\\nC Z\\nC Y\\nC X\\nB Y\\nA Y\\nC X\\nC X\\nC Y\\nC X\\nC X\\nB Z\\nC Y\\nB Y\\nA Y\\nB Y\\nA Y\\nB Z\\nC X\\nC Y\\nC X\\nC Z\\nC X\\nB Z\\nC X\\nC Y\\nC Y\\nC Y\\nB Z\\nA Y\\nC Y\\nC Y\\nC Y\\nB Z\\nA Y\\nC X\\nC Y\\nC Y\\nC Y\\nC X\\nA Z\\nC Y\\nC Y\\nC X\\nB X\\nB Z\\nA Y\\nB Z\\nC Y\\nB Y\\nB Z\\nA Y\\nB Z\\nC Y\\nA Y\\nA X\\nC X\\nC X\\nC Y\\nA Y\\nB X\\nC Y\\nB X\\nB Z\\nC X\\nA Y\\nB X\\nC X\\nA Y\\nC Y\\nC Y\\nC Y\\nA Z\\nC Y\\nA Y\\nB Z\\nB Z\\nA Z\\nC Y\\nA Y\\nB Z\\nC Z\\nC X\\nC X\\nC X\\nA Y\\nA X\\nC Y\\nA Y\\nB Y\\nC Y\\nC X\\nC Y\\nC Y\\nA Y\\nB Z\\nC Y\\nB Z\\nA Y\\nC X\\nC Y\\nB Z\\nC Y\\nC Y\\nB Y\\nA Y\\nA Y\\nA Z\\nC Y\\nB Z\\nB Y\\nB Z\\nB Y\\nA Y\\nC Y\\nC Y\\nC X\\nC Y\\nC Y\\nB Z\\nC Y\\nC Y\\nC X\\nB Y\\nB Z\\nC Y\\nC Y\\nA Y\\nC Z\\nC Y\\nB Z\\nA Y\\nA X\\nA Y\\nC X\\nC Y\\nC Y\\nB Z\\nA Y\\nB X\\nC Z\\nC Z\\nC X\\nC Y\\nB Z\\nC Z\\nB Z\\nC Y\\nA Y\\nC Y\\nA Y\\nB X\\nC X\\nC Y\\nB Z\\nC Y\\nB Y\\nB X\\nB X\\nB Z\\nC Y\\nC Y\\nB Y\\nB Z\\nC Y\\nA Y\\nB Z\\nC Y\\nB Z\\nC Y\\nB Z\\nC Y\\nA Y\\nA Y\\nC Y\\nC Y\\nB Y\\nB Z\\nC Y\\nB Z\\nC X\\nB Z\\nC Y\\nB X\\nC X\\nB Z\\nA Y\\nC X\\nB Z\\nC Y\\nA Y\\nB Z\\nA X\\nB Z\\nB Z\\nB Z\\nC Y\\nC Y\\nC Y\\nC Y\\nA Y\\nA Y\\nB Z\\nB X\\nC X\\nC Y\\nB Y\\nA Y\\nA Y\\nB Z\\nC Y\\nA Y\\nA Y\\nC Y\\nC X\\nC Y\\nC X\\nC Y\\nC Y\\nC Y\\nB Z\\nC Y\\nC X\\nB Y\\nC Y\\nC Y\\nC Y\\nA Z\\nC X\\nC Y\\nA Y\\nC Y\\nB Z\\nB Y\\nC Y\\nA Y\\nA Y\\nC Y\\nC Y\\nC X\\nA Y\\nC Y\\nA Z\\nA Y\\nB Z\\nA Y\\nC X\\nC Y\\nC Y\\nB X\\nB Z\\nC X\\nB X\\nC Z\\nC X\\nB Z\\nB Z\\nC Y\\nC X\\nB Z\\nB Z\\nB Z\\nC Y\\nC Y\\nA Y\\nC Y\\nB Y\\nB X\\nC Y\\nC Y\\nC Y\\nB X\\nC X\\nB X\\nC Y\\nA Y\\nC Y\\nC X\\nC Y\\nC Y\\nB X\\nB Z\\nA Z\\nB Z\\nA Y\\nB Z\\nC X\\nB Z\\nC Y\\nC Y\\nC Z\\nA Y\\nC Y\\nC Y\\nA Z\\nB Y\\nC Y\\nA X\\nA Y\\nB Y\\nC Y\\nB Z\\nC Y\\nC X\\nC Y\\nB Z\\nA Y\\nC X\\nC Y\\nC X\\nC Y\\nC Y\\nC Z\\nA Y\\nC Y\\nB Z\\nA Y\\nC Z\\nC Y\\nA Y\\nC Y\\nC Y\\nC Y\\nC Y\\nA Y\\nC Y\\nC Y\\nC Y\\nC Y\\nB Z\\nC X\\nA Y\\nA Y\\nC Y\\nB Y\\nC Y\\nC Y\\nA Z\\nC Y\\nB Y\\nC Y\\nB Z\\nC X\\nA Y\\nC Y\\nC Y\\nB Z\\nC Y\\nA Y\\nA Y\\nC Y\\nB Z\\nC Y\\nA Y\\nB Z\\nC Y\\nC Y\\nB Z\\nC X\\nB Z\\nB Z\\nC Y\\nC Y\\nA Y\\nC X\\nA Y\\nC Y\\nB Z\\nA Y\\nB Z\\nA Y\\nC X\\nC Y\\nB Z\\nB Y\\nB Z\\nA Y\\nB Z\\nC Y\\nB Z\\nC Y\\nB Y\\nA Y\\nB Z\\nB X\\nB Z\\nC Y\\nB Z\\nB Z\\nB Z\\nA Y\\nA Y\\nC Y\\nB Z\\nB Z\\nC X\\nB Z\\nC Z\\nA Y\\nB Z\\nB Z\\nC Y\\nB Z\\nB Z\\nC X\\nC Z\\nA Z\\nC Y\\nC Y\\nB X\\nC Z\\nC Y\\nA Y\\nB Z\\nC X\\nB Z\\nC Y\\nC Y\\nB Z\\nB Z\\nB Z\\nC X\\nC Y\\nC X\\nC X\\nA Y\\nB Z\\nB Y\\nC Y\\nC Y\\nB Z\\nC Y\\nC Y\\nC Y\\nC Y\\nC Y\\nB X\\nA Y\\nA Y\\nB Y\\nC Y\\nB Y\\nC Y\\nB Y\\nB Z\\nC Y\\nC Y\\nC X\\nB Y\\nA Y\\nB X\\nB Z\\nC X\\nA X\\nC Y\\nA Y\\nA Y\\nC X\\nB Y\\nA Y\\nB Z\\nC X\\nB Z\\nC Z\\nC X\\nC Y\\nC X\\nC Y\\nC Y\\nC Y\\nB Y\\nC Z\\nC X\\nB Z\\nC Y\\nC X\\nC X\\nB Y\\nC Y\\nC Y\\nC Z\\nB Z\\nC Y\\nC Y\\nB Y\\nC Z\\nC X\\nB Z\\nC Y\\nC X\\nC Y\\nB Z\\nC Y\\nC Y\\nA Y\\nB Y\\nC X\\nC Y\\nC Y\\nC Y\\nB Y\\nB Y\\nC Z\\nB Z\\nC Y\\nB Z\\nA Z\\nC X\\nB X\\nC X\\nA Y\\nC Y\\nA Z\\nC X\\nC Y\\nA Y\\nA Y\\nB Y\\nA Y\\nC Y\\nB Y\\nC X\\nC X\\nC X\\nC X\\nC Y\\nC Y\\nA Y\\nB Z\\nC Y\\nA Z\\nC Y\\nA Y\\nB Z\\nB Z\\nC Y\\nA Z\\nC Y\\nC Y\\nC Y\\nB Z\\nC Y\\nC Y\\nA X\\nA Y\\nA Z\\nC Y\\nA Y\\nB X\\nA Y\\nB Z\\nB Y\\nB Z\\nB Y\\nC X\\nC X\\nA Y\\nB Z\\nB Y\\nC X\\nB X\\nB Y\\nA Y\\nC Y\\nC Y\\nC Y\\nB Z\\nC Y\\nA Y\\nB Z\\nC X\\nB Z\\nB Z\\nB X\\nB Y\\nC Y\\nC Y\\nC X\\nB Z\\nC Y\\nC Y\\nC Y\\nA Y\\nC Y\\nB Z\\nB Y\\nC Y\\nC X\\nC X\\nB X\\nB Z\\nA Z\\nC X\\nA Y\\nB Y\\nC Y\\nA Y\\nB Y\\nC Y\\nC Y\\nC Z\\nC Y\\nC X\\nA Y\\nC Y\\nC Y\\nB Z\\nC Y\\nC Y\\nC Y\\nC Y\\nA Y\\nB Z\\nB Z\\nC Y\\nC Y\\nC Y\\nC Y\\nC Y\\nB Z\\nC Y\\nC Y\\nC X\\nA Y\\nA Y\\nC Y\\nC X\\nA Y\\nB Z\\nA Y\\nC X\\nC Y\\nC Z\\nC Y\\nA Z\\nA Y\\nA Y\\nB Y\\nC Y\\nC Y\\nB Y\\nC Y\\nA Y\\nC X\\nB Z\\nC X\\nA Y\\nB Z\\nC X\\nA Y\\nC X\\nC X\\nA Z\\nA Y\\nB Y\\nA Y\\nB Y\\nA Z\\nC Y\\nC Y\\nC Y\\nB Z\\nC Y\\nA Y\\nB Z\\nB Y\\nC Y\\nB Y\\nC Z\\nA Y\\nB Y\\nC Y\\nB Y\\nA Y\\nB Z\\nC Y\\nC X\\nC Y\\nA Y\\nA Z\\nC Y\\nB Z\\nC Y\\nB Y\\nA Y\\nC X\\nA Z\\nC Z\\nC X\\nA Y\\nC X\\nC X\\nC Y\\nC Z\\nA Y\\nA Y\\nC Y\\nA Y\\nC Y\\nB Z\\nC X\\nA X\\nC X\\nC Y\\nC Y\\nC Y\\nC Y\\nB Z\\nB Z\\nB Z\\nC X\\nC Y\\nB Y\\nC Y\\nB Y\\nC Z\\nA X\\nB Y\\nC X\\nB Y\\nC X\\nB Y\\nC Y\\nB Z\\nC X\\nA Y\\nB Z\\nC X\\nA X\\nC Y\\nB Z\\nB Z\\nC X\\nB Z\\nB Z\\nC X\\nC Y\\nC Z\\nB Z\\nC Y\\nC Y\\nC Y\\nB X\\nA Y\\nB Y\\nB Z\\nB Z\\nC X\\nA Z\\nC Y\\nC Y\\nA Y\\nA X\\nA Y\\nC Y\\nB Y\\nC Y\\nA Y\\nC X\\nC Y\\nC Y\\nC Y\\nC Y\\nC Y\\nC Y\\nC Y\\nC Y\\nC Y\\nC Y\\nB Z\\nB Z\\nA Y\\nB Y\\nC Y\\nC Y\\nC X\\nB Z\\nA Y\\nC Y\\nB Z\\nC Y\\nA Y\\nC X\\nB X\\nC Z\\nA Y\\nC X\\nB Y\\nC X\\nB Z\\nA Y\\nC Y\\nC Y\\nC Y\\nB Z\\nB Z\\nA Z\\nC Z\\nA Y\\nB Z\\nC X\\nC Y\\nA Y\\nC Y\\nC Y\\nC X\\nB Z\\nC Z\\nC Y\\nB Z\\nA X\\nB Y\\nA Z\\nB X\\nC X\\nA Y\\nC Y\\nB Z\\nB Z\\nC Y\\nA Y\\nB Z\\nB Z\\nA Y\\nA Y\\nB Z\\nB Z\\nA X\\nB Z\\nC Y\\nC Z\\nC Y\\nC Y\\nB Z\\nC Y\\nA Z\\nA X\\nC X\\nB Y\\nB Z\\nC X\\nB Z\\nA X\\nA Y\\nA Y\\nB X\\nB Y\\nB Z\\nC X\\nC X\\nC X\\nC Y\\nC Y\\nB X\\nC Y\\nC Y\\nA Y\\nC X\\nA Y\\nB Z\\nA Y\\nC Y\\nB X\\nC X\\nC Y\\nA Y\\nC X\\nC Y\\nC Y\\nB Z\\nA Y\\nA Y\\nA Z\\nC Y\\nB Z\\nA Z\\nB X\\nA Z\\nC Y\\nB X\\nA Y\\nC Y\\nC Z\\nA Z\\nC X\\nA Y\\nB X\\nC Y\\nC Y\\nC X\\nC Z\\nA Y\\nA Y\\nC Y\\nB Z\\nC Y\\nC X\\nB X\\nA Y\\nB Y\\nB Z\\nB Z\\nC Y\\nC Y\\nA Y\\nB Z\\nB Z\\nC Y\\nC Z\\nC Y\\nC Y\\nC X\\nC X\\nA Y\\nB Z\\nA Y\\nB Z\\nB Z\\nC X\\nB X\\nC X\\nC Y\\nB X\\nB Z\\nC X\\nC X\\nC X\\nB Z\\nB Y\\nB Z\\nC Y\\nC Y\\nB Z\\nB Y\\nB Z\\nC Y\\nB Y\\nA Y\\nA Y\\nB Y\\nA Y\\nB Z\\nA Y\\nC X\\nA Y\\nC Z\\nB Y\\nC Y\\nC X\\nC X\\nC Y\\nC X\\nC Y\\nA Y\\nB Z\\nC X\\nC Y\\nC Y\\nC Y\\nC Y\\nC Y\\nB Y\\nA Y\\nB Z\\nC Y\\nA Z\\nC Y\\nB Z\\nC X\\nC Z\\nA Y\\nB Z\\nC X\\nC Y\\nB Z\\nC Y\\nA Y\\nC Y\\nC X\\nC X\\nC Y\\nA Y\\nB Y\\nA X\\nC Y\\nC Y\\nA Y\\nC Y\\nA X\\nC Y\\nB Y\\nC X\\nB Z\\nB Z\\nB Y\\nC Y\\nC Z\\nC X\\nB Z\\nB Z\\nB Y\\nC Z\\nA Y\\nC Y\\nC Y\\nB Y\\nC X\\nA Y\\nC Y\\nC Y\\nA Z\\nA Y\\nB Y\\nC Y\\nC Y\\nC X\\nB X\\nC Y\\nA Y\\nB Z\\nB Y\\nA Y\\nB Y\\nC Y\\nC X\\nC Y\\nC Y\\nC X\\nA Y\\nB Z\\nC X\\nC Z\\nB X\\nC Y\\nC X\\nC Y\\nC X\\nC Y\\nB Z\\nA Y\\nA Y\\nB Z\\nC Y\\nC Y\\nB Z\\nC Y\\nC X\\nB Z\\nC Y\\nB Z\\nC X\\nC Y\\nC X\\nA Y\\nC Y\\nA X\\nC Y\\nC X\\nA Y\\nC Y\\nA Y\\nC Y\\nA Y\\nC X\\nA Y\\nA Y\\nA Y\\nB Y\\nB Z\\nC Y\\nB Z\\nA Y\\nC Y\\nC X\\nB X\\nC Y\\nB Z\\nB X\\nB X\\nB Y\\nC Y\\nC X\\nC Y\\nC X\\nB Y\\nB Z\\nA Y\\nB Y\\nC Y\\nC Z\\nA Y\\nC Y\\nB Y\\nA Y\\nC X\\nC Y\\nA Y\\nC Y\\nA Z\\nC Z\\nC Y\\nB Z\\nC Y\\nC Y\\nB Y\\nA Y\\nC Z\\nA X\\nC Y\\nB Z\\nC Z\\nB X\\nC Y\\nC X\\nC X\\nB Z\\nB Z\\nB X\\nB Y\\nC Y\\nB Z\\nB Z\\nB Z\\nA Y\\nB Z\\nC Y\\nC Y\\nA Y\\nA X\\nC Z\\nA Y\\nC Z\\nC Y\\nC X\\nC Y\\nC X\\nB Z\\nC Y\\nA X\\nB Z\\nB Y\\nC Y\\nB Y\\nC Y\\nC Y\\nA Y\\nB Z\\nB Y\\nC Y\\nC X\\nC Y\\nC Y\\nB Z\\nA Y\\nB X\\nC Y\\nC Y\\nC Y\\nA Y\\nC Y\\nC Y\\nC X\\nC Z\\nC X\\nB Y\\nA Y\\nC Z\\nB Z\\nB Z\\nA Y\\nC Y\\nC X\\nB X\\nC X\\nB Z\\nA Y\\nC Y\\nC Y\\nB Z\\nA Y\\nB Y\\nC X\\nB Y\\nB Z\\nB Z\\nB Z\\nB X\\nB Y\\nB Z\\nC X\\nA Z\\nA Y\\nC Y\\nA Y\\nC Y\\nC Y\\nB Z\\nB Z\\nC X\\nB X\\nC Y\\nA Z\\nC Y\\nC X\\nC Y\\nB Y\\nC X\\nB Z\\nC Y\\nC X\\nB Z\\nA Y\\nA Y\\nC Y\\nA Y\\nA Z\\nC Y\\nA Z\\nA Y\\nC Y\\nC X\\nB X\\nC Y\\nC Y\\nC X\\nA Y\\nC X\\nC Y\\nB Z\\nB X\\nC Y\\nA Y\\nB X\\nC Y\\nB Y\\nC X\\nA Y\\nB Z\\nC Y\\nC Y\\nB Z\\nA Y\\nA Z\\nC Y\\nC Y\\nC X\\nA Y\\nB Z\\nB Z\\nB Y\\nB Z\\nA Y\\nC Y\\nA Y\\nB Y\\nA Y\\nC X\\nC Y\\nA Z\\nA Z\\nB Y\\nA Y\\nC Y\\nA X\\nC Y\\nC Y\\nB Z\\nC Y\\nC X\\nC Y\\nA Y\\nC Y\\nC Y\\nC Y\\nC Y\\nA X\\nC Y\\nB Y\\nC Y\\nA Y\\nC Y\\nC X\\nC X\\nC Z\\nB Z\\nA Y\\nB X\\nC Y\\nC Y\\nC Y\\nA Y\\nB Z\\nB Z\\nC Y\\nA Y\\nB Z\\nA Y\\nC X\\nC X\\nA Y\\nC Z\\nC Y\\nB Z\\nB Z\\nA Y\\nA Y\\nC Y\\nA Y\\nC Y\\nA Y\\nB Z\\nC X\\nC Y\\nC Y\\nA Y\\nC Y\\nA Y\\nA Z\\nB Y\\nC Y\\nC X\\nA Y\\nC X\\nA X\\nC Y\\nC Y\\nB Y\\nC Y\\nB Z\\nA Y\\nC X\\nB Z\\nA Y\\nC X\\nB Z\\nA Y\\nC Y\\nB Z\\nA Y\\nB Z\\nC X\\nC Y\\nC X\\nC Y\\nB Z\\nC Y\\nB Y\\nC Z\\nB Z\\nC Y\\nC Y\\nA X\\nC X\\nA Y\\nC Y\\nB Z\\nA Y\\nA Z\\nB Z\\nC Y\\nC Y\\nA Y\\nA Y\\nA Y\\nC X\\nC Y\\nA Z\\nC Y\\nC Z\\nA Y\\nA Y\\nC Y\\nC X\\nC X\\nC Z\\nC Y\\nC Z\\nB Z\\nA Y\\nB Z\\nB Z\\nC X\\nA Y\\nB Y\\nA Y\\nA Z\\nA Y\\nC Y\\nC Y\\nC Z\\nA Y\\nC Y\\nB Y\\nC X\\nC X\\nB X\\nC Y\\nA Y\\nC Z\\nA Y\\nB Z\\nB Y\\nC Y\\nA Y\\nA Y\\nC Y\\nC Y\\nC Y\\nC Y\\nC Y\\nC Y\\nC Y\\nA Y\\nB Y\\nA Y\\nB Y\\nB Y\\nC X\\nC X\\nC Y\\nA Y\\nC Y\\nC Y\\nC Z\\nC Y\\nC Y\\nB Y\\nC Y\\nB Y\\nA Y\\nC Y\\nB Z\\nC X\\nC Y\\nA Z\\nA Z'"
      ]
     },
     "execution_count": 12,
     "metadata": {},
     "output_type": "execute_result"
    }
   ],
   "source": [
    "payload = load_unaltered(\"d02.txt\")\n",
    "payload"
   ]
  },
  {
   "cell_type": "code",
   "execution_count": 13,
   "metadata": {},
   "outputs": [],
   "source": [
    "map1 = {\n",
    "    \"A\": \"ROCK\",\n",
    "    \"B\": \"PAPER\",\n",
    "    \"C\": \"SCISSORS\",\n",
    "}\n",
    "\n",
    "map2 = {\n",
    "    \"X\": \"ROCK\",\n",
    "    \"Y\": \"PAPER\",\n",
    "    \"Z\": \"SCISSORS\",\n",
    "}\n",
    "\n",
    "map3 = {\n",
    "    \"X\": \"LOSS\",\n",
    "    \"Y\": \"DRAW\",\n",
    "    \"Z\": \"WIN\",\n",
    "}\n",
    "\n",
    "\n",
    "obj_point = {\n",
    "    \"ROCK\": 1,\n",
    "    \"PAPER\": 2, \n",
    "    \"SCISSORS\": 3,\n",
    "}\n",
    "\n",
    "scoring = {\n",
    "    \"LOSS\": 0,\n",
    "    \"DRAW\": 3,\n",
    "    \"WIN\": 6,\n",
    "}\n",
    "\n",
    "outcomes = {\n",
    "    ('ROCK', \"DRAW\"): 'ROCK',\n",
    "    ('ROCK', \"WIN\"): 'PAPER',\n",
    "    ('ROCK', \"LOSS\"): 'SCISSORS',\n",
    "    ('PAPER', \"LOSS\"): 'ROCK',\n",
    "    ('PAPER', \"DRAW\"): 'PAPER',\n",
    "    ('PAPER', \"WIN\"): 'SCISSORS',\n",
    "    ('SCISSORS', \"WIN\"): 'ROCK',\n",
    "    ('SCISSORS', \"LOSS\"): 'PAPER',\n",
    "    ('SCISSORS', \"DRAW\"): 'SCISSORS',\n",
    "}"
   ]
  },
  {
   "cell_type": "code",
   "execution_count": 15,
   "metadata": {},
   "outputs": [
    {
     "data": {
      "text/html": [
       "<div>\n",
       "<style scoped>\n",
       "    .dataframe tbody tr th:only-of-type {\n",
       "        vertical-align: middle;\n",
       "    }\n",
       "\n",
       "    .dataframe tbody tr th {\n",
       "        vertical-align: top;\n",
       "    }\n",
       "\n",
       "    .dataframe thead th {\n",
       "        text-align: right;\n",
       "    }\n",
       "</style>\n",
       "<table border=\"1\" class=\"dataframe\">\n",
       "  <thead>\n",
       "    <tr style=\"text-align: right;\">\n",
       "      <th></th>\n",
       "      <th>OP</th>\n",
       "      <th>OUTCOME</th>\n",
       "      <th>ME</th>\n",
       "      <th>OBJ_POINT</th>\n",
       "      <th>SCORE</th>\n",
       "      <th>MY_TOTAL</th>\n",
       "    </tr>\n",
       "  </thead>\n",
       "  <tbody>\n",
       "    <tr>\n",
       "      <th>0</th>\n",
       "      <td>SCISSORS</td>\n",
       "      <td>LOSS</td>\n",
       "      <td>PAPER</td>\n",
       "      <td>2</td>\n",
       "      <td>0</td>\n",
       "      <td>2</td>\n",
       "    </tr>\n",
       "    <tr>\n",
       "      <th>1</th>\n",
       "      <td>SCISSORS</td>\n",
       "      <td>DRAW</td>\n",
       "      <td>SCISSORS</td>\n",
       "      <td>3</td>\n",
       "      <td>3</td>\n",
       "      <td>6</td>\n",
       "    </tr>\n",
       "    <tr>\n",
       "      <th>2</th>\n",
       "      <td>SCISSORS</td>\n",
       "      <td>LOSS</td>\n",
       "      <td>PAPER</td>\n",
       "      <td>2</td>\n",
       "      <td>0</td>\n",
       "      <td>2</td>\n",
       "    </tr>\n",
       "    <tr>\n",
       "      <th>3</th>\n",
       "      <td>PAPER</td>\n",
       "      <td>LOSS</td>\n",
       "      <td>ROCK</td>\n",
       "      <td>1</td>\n",
       "      <td>0</td>\n",
       "      <td>1</td>\n",
       "    </tr>\n",
       "    <tr>\n",
       "      <th>4</th>\n",
       "      <td>PAPER</td>\n",
       "      <td>WIN</td>\n",
       "      <td>SCISSORS</td>\n",
       "      <td>3</td>\n",
       "      <td>6</td>\n",
       "      <td>9</td>\n",
       "    </tr>\n",
       "  </tbody>\n",
       "</table>\n",
       "</div>"
      ],
      "text/plain": [
       "         OP OUTCOME        ME  OBJ_POINT  SCORE  MY_TOTAL\n",
       "0  SCISSORS    LOSS     PAPER          2      0         2\n",
       "1  SCISSORS    DRAW  SCISSORS          3      3         6\n",
       "2  SCISSORS    LOSS     PAPER          2      0         2\n",
       "3     PAPER    LOSS      ROCK          1      0         1\n",
       "4     PAPER     WIN  SCISSORS          3      6         9"
      ]
     },
     "execution_count": 15,
     "metadata": {},
     "output_type": "execute_result"
    }
   ],
   "source": [
    "import pandas as pd\n",
    "\n",
    "data = pd.read_clipboard(header=None)\n",
    "data.columns = [\"OP\", \"OUTCOME\"]\n",
    "data.OP = data.apply(lambda row: map1[row.OP], axis=1)\n",
    "data.OUTCOME = data.apply(lambda row: map3[row.OUTCOME], axis=1)\n",
    "\n",
    "data[\"ME\"] = data.apply(lambda row: outcomes[row.OP, row.OUTCOME], axis=1)\n",
    "\n",
    "\n",
    "data[\"OBJ_POINT\"] = data.apply(lambda row: obj_point[row.ME], axis=1)\n",
    "data[\"SCORE\"] = data.apply(lambda row: scoring[row.OUTCOME], axis=1)\n",
    "data[\"MY_TOTAL\"] = data.OBJ_POINT + data.SCORE\n",
    "data.head()"
   ]
  },
  {
   "cell_type": "code",
   "execution_count": 16,
   "metadata": {},
   "outputs": [
    {
     "data": {
      "text/plain": [
       "13433"
      ]
     },
     "execution_count": 16,
     "metadata": {},
     "output_type": "execute_result"
    }
   ],
   "source": [
    "data.MY_TOTAL.sum()"
   ]
  },
  {
   "cell_type": "markdown",
   "metadata": {},
   "source": [
    "## Day 3"
   ]
  },
  {
   "cell_type": "code",
   "execution_count": 5,
   "metadata": {},
   "outputs": [
    {
     "data": {
      "text/plain": [
       "'GwrhJPDJCZFRcwfZWV\\nLjnQlqNpjjmpmQlLlqNfZRvQcTWcTSTTZcSQcZ\\nnNqjdspspngnmjmslqmjjjCDGrHPHMGddGCMCGPPPJWC\\nGwmVZmPWWFFmBbVbZVwmbPsTCnlgQgnQfhlffffZnlQh\\nDqVDSqqSMzLLDDNSHHLdqSdSllCQjsTlClhlflnTlhjgfgfM\\nVHJztNLHGtcbvvPG\\nbjrPrNCtNrjdcCPpptfpTVspDtfTtB\\nJGQJMJQMmmmZMnnLpLBTpHCD\\nWJJqWRgWlCJZhZRCQZwdPScdrPNbvzPzwvqz\\nQNSQNBWQNLjZBNNhLhSNRsTcsrTTVzcwZZZsfrrbwb\\ntCFtHpppppMldpvpqnMFmMVGrbPcrwbzswrzcccfvTfw\\npdmCpgqCdmHHdJVWgSRNJDRVVj\\nsNrFnvNSzrjQtQjQTj\\nlcPmcJDLdPDbJPVLljdGGBBThBQTGwTtBw\\nPDLqmJmpJQfFqfqsCM\\nBnhctqdnqnRcBnslCJJCMrJrsG\\nwNDMZpbQwMpCvCGVjlss\\nWfzNwZFbwZzZmFZbLzNwzzzzcdqgRMTTPdHPTTPMRdcWgRPt\\ngrsrVSFSSdFSDFVFjZZWwpWpZWZplgZZ\\nmcBPPPBLBfNdLlvvWljWJC\\ndMcmcRdbRzdVhFthSsTShM\\nbzvJZMTzTZSHLCCdDzmDcc\\nhqBqWPFssvshWvvssNqtsHftmfpHfdcdDGHmcpfctL\\nWvBQgNNNhghTJbJQlJTZlT\\nchcdwNwdbCbQctCjnnQGHsQspMHMjG\\nnSSSJqJZzJgWWRfZDJSnqvTTsVvvHVPpHVfpjHMTjP\\nBZRDRmmrDWSrZWWzWSRNhdnCFwChclFtwbNdtr\\nlNgmssCtqLwqCCtfsCLHPFhhhmMhVzBDbVzMDMVz\\nZnRlQTlJzFQFQFVV\\nnpZJvRRGZSnWvSvrSLglsClfpfcLgNgpHf\\ntVtqcVqFVtZhcfFtqlgSpmpDSDNPzSzZmNpw\\nLRGTHqbrHdnGHrTCSSwNDzMDwPMzNwbp\\nTqWGJrGHCHnTWnhsWcFthFjtfQch\\nqNnTbwtctvffFcqfrHjMrFjVHRjSjZDZ\\ndLLzWWPmCmCzGdsLgBLGGBDRMVMHRlrrrZDDZsNMrNNS\\nPJQWggCzWNWJzGWfchvfTbJvfnnwtf\\nghzdgzzdQsdqzzhMNqQzvhgQnRRBWTjWWGTRGWwGTZhwGnBT\\nfsrfJHbFfDFLVLVFHrWCWrBRZZTGCCjwWZ\\nHLLllcDPbLPQdPspMNgvMt\\nfNDJqdPNbtHpCbwpCCCp\\nRTMRLrzGrMRMRPWnnvSmgCHFCCFmmT\\nWQsWQjzGWMsGQzWclQtVBJfBftNdtqVPfP\\ngbTCVVmDVFdsgmgrrcfwlwfTfPlcRR\\nqhQZqQvnQhLQhJnvfPcSwSwlfjGcqjqj\\ntLNZLZZJJZthpzhMZDCdFmFsmWWmtDDgsw\\nbqCvLvLppzPzPPvPbFztFtttBNGdGsRggSgGSHDdggHSzNgH\\nrMQpWfMfrcTjWJhwWHHsSBsRBdSTTNBgSR\\nVwfmWjwMWwccrWcWpQQFnFtlCqmltFnFLbbZmn\\ncWqsMWJMzqJJMHsJcqsJqTqjSbLBdfdSbtzLbbLfbSfShfhd\\ngplGvQmRrCrgZSZtSGZZjhbj\\nCQmmmmNQRPvjgRClCvmmcVHPqMFMFsWJVqFFcnTJ\\nQHHqvGwjjWNqvGTQGvTFcGwJRJbszcPtDbJVbtPzVbDptp\\nMLdrgmSgZZdhdfbLVRpszlRDstRL\\ngdSgMCSfdMnrghCWGRQvHwvNHjnjvv\\nRDBZwvZBrMlsvnlb\\nWdFQqdjWWcHHPrwSPnnSWnSS\\nmLdqgqHmcjHHjqLHjLppmhfBfgtDtBJZJfVtBZwGZB\\nCCWRJQnZlHtHtNZRFDcBhrcvhDrJVVDv\\ndPPSqLzfsqGLSTzfLzLGdLMVVgvBcmgMVwmmDFrVgmBBBr\\nSFjdTGzqpjdRbNRNnjtnQR\\nhjNcwBDDwDFcjdFfjtFhtcRsGGgTsGRRRTsGGqZGRq\\ngbmrLnbzLmvQJnQVVpqZTqzWSCRpqRTsSR\\nMQMvVMbPQQHrQMnMPldtwNNfgHtlwBhdwj\\nzwzwpzMfzrBMWfCCZrwzrMJDGGGnNmGNZvgNZsDDsGsG\\nFbFqSbcSbSHqTjmgGFnJglllsDJm\\nTbhVdVjqdtqTjVHqjPdthPBBWpCnRfwRPRCfBCCnWR\\nhlpmbfJJpCSChmJMmrSjTjcSdjTtQQTtTtjF\\ngqrgsqLzgnBgZGzHBnnsQNNQtjjcNNjjtNFQNcNH\\nLVRzgGGzzzPCVrJMbPJb\\nVHrmqFnVdvlzzNrr\\nPMtwBJPBcPwfbwBJndplLvLdLlgMMzLL\\nbBZnTwbtnScfQJPJwPTjqGZFsVFjDHHGhhHhVj\\ncftqScHJrfVfrrRZ\\nDTTsDvvlBbTGrWBwwsWDBbWdVpZjjZjpVPPGhRRVjVZNRPNN\\nlsWdWDbrTLBsbdrmdwbMJtmHMQJccFHFnJFqFt\\nSWNPTPVSWChCSmQQhpppJdFJLpDpgLJmLd\\nNGGtNtGfHtDpdJdqLB\\nNcsNGNjHZsZGnzZfnGhQnhPClrVlQPhTVVhl\\nQDdgMBsNhhMgcWbZdzmWLzFzWH\\nfRqRJJqGCvrJGjCRRrSJlfPtHzzPmfFbtPtLZZLnmt\\nVjvwwjlwVGGqJSSqJFccshpgNhQNQTsVgBgT\\nwvDLDwCbFgSTfTSJJgfB\\nqsRhmhqchmVhPdfTHJSzpCtJpfPf\\nhmdhrWrddmhlqCRcwQjDLMQnMFDZnlLl\\ntrMWtlwwMplMZMCZWltDpzBLBnflVLBbHzbBSGlVlL\\nghhqJTfmjQjfqqznznnHnBRzBLmn\\nsQhPQsjjQcQcTsPqZWwwZcFfWrWcrZww\\nMRVpVCZZTHWVMCHvgNvVvbQSqgQSlg\\nNFmnrNDDfnjFnndfssmcStvjvQQlvzvllqvwQllj\\nGGPNmBrFNdcfcGrsGcdmDFhJHMMhHLZJMhpLHCMMMMPJ\\nDSvDGdGFlGGnDZFdVSZvfPqwnfhpnrqpPNpLPrrh\\nsWcTjtHCsTmsCNfgMPjpfPhqhP\\nBtHzBzChzBBvFSDJvVzFJJ\\nsfsNrsFFBTfjwwtNNWHPVCVWtSCDDCDmmS\\nzMdhMMZnSccMmmWVWmCPlC\\ncLSScJZQbcvLhZvnzBwfTjrpNwNrBFffpb\\nTBrCBgrTngVQBVbhrCtgJJrGssGsMGRGcjMcNjfN\\nLZdSLvHMFdzFRWsLjcGRWWNJ\\npHpzlqPqFPvdBthgMbVPDhgh\\nSZlnZZvBvvMrcBnllBMZSvhGMtQwFMGztthfwQtMwwPf\\nHLqsDgNsDLDDDjggHDHszthzFbQGTghPGQPbTfFT\\ndmLqDqCmFNjJsjHdssFNHDVWZccnRllnVZvRSBZrZlCc\\nSccnnSGGftShfHSHHhnvbMjvVlCjzbVzzbMMTbCB\\ngRpppNNQLWqZgPZwNWwwBMBbDlZCTzVTjHMMbBjV\\ndqNQPQRqrqpPcGtchhdfhHSF\\nmfDzgnNMMszBtJCpHlrjnFppCdHj\\nLLRThGGZcbClBQpdWFGl\\nbSqVTbBbMVMsNmNM\\nBTTbbLVpfchmjbsj\\nJSQJHDMHqdNZTZlhFFhCFFrNhNcsrr\\ntMwJQlwMMlQwDDJtWGLGPpWLLGnTPn\\nLcVQQCPPLqTzqQTcllTzhnHHfFJRcGHcFfwRGHwJjJ\\nstdWDDBtVgbpWgZbsNgDNdWFGMnnwHfjHFpfwwMGMMGRjJ\\nZWSDtgNdWNBdgsdsNDDsdbDlTzCVSTCqQmSqTQSvhqLVQq\\ndZbgdZbNtmqttFJtHHzcczMcFszHnsvH\\nwwpQplQQwqVVjqwPjCGCSMCMcHSHvvzHMzvcsrMc\\npfjlQRpPRRLQWtmLNdWdmqqJ\\nCPTPPmbjmVjVGCvzbjjPrGsnnMpttdtGdncdMccDRd\\nlhlHzQSHwzhJLwgWgpMDMMsDdcDQMDMMns\\nBHZghLWwSFBJJBFvzmbfjNZvZmCvmb\\nPBGcvvcRwpwNcZcNPpPNcTHGdMtrCWrCCtCLWMtWgbVdMV\\nfmsJjnqmmfsjQJnjFzSFSqsqgWrtMttZgMWVMbbVMdbSrLtr\\nqQjjZFmfjZhZmwcvPhNpTNBTwN\\nHHlVVmmsbbqMsJmVzGSBMSrQQrRrGvvnDn\\nPZcphZPPZPhjcpdWgPZhRPfcDSrtDBSGNvtggrQtnvQNGNDn\\ndcWwFjpcPhRcCpjwdCPLzHblJbLbzmsmbTwzqH\\nhRfzTTfRrTGzhGWTrRrbfcQZQSttWtwddJtvdJJvWSHq\\nnpjnDjFlpDnFFNMjljCnFMQtHHtqNHNQJwwZZqstNwJJ\\nDCjpLjjpVLDMDpVLDLQbbhzBhVrcVgVGQQcz\\nLncLBLjCSNrNrNpCLQBBBGwqQwzlzmggvqRqgllmzwtv\\nfMZPHhhHfthMdbRgHJzmVqlvwlwg\\nhfsPbZFPPDsfGLcBtSFNBSjL\\nMlZmszBMJBHrMBMbShwSFpbZSZfwwb\\nTCLCcPNGTgTPNGWtCtcWtPcSsRfRjRwjFbfpNFDjwsFspw\\nnVtqqsWsdHzJHqmM\\nRCrhSmWrmrvmrvhMvRNrRCzCJcQQbPtsMZVGJJtsZssPcQcZ\\njLFBGqLFpqBLgZVbPbsLJQcbsV\\nHjDljGFwrRHRRTrS\\nGZZhnrwZBwNjRPRCbCbn\\nfJtJJpsVfpgNTbVNFTRP\\nJJcpLJfLdcWLdplwRdQMBvSqwRhvrG\\nwmZDPlRlCDwglgsHtsBvdBHLFLSddr\\nVbVMnMftfVjQWFFHdMBdBFMFHr\\nzfjtnGqqnjGqfjPcDPlZPlRDzccw\\nBRjhfhvRgnTMlFDDJfZzZFFQDZ\\nqLdqcNttwwcwwSPSpqLNmrwmrZsGzzDFZGZFzVssrzJGnsQG\\nwSNdHScScdmwHSpdNcmmtLMvChRHbvBMTBnCBBvhvlCh\\nJgWTPfFPgCPPlCntQSGghHvQnSdQ\\nBzvMZvLVQpdQpSZh\\nRwVVjRDVcRDNDTlJPqTv\\nSGHSrBBRPhPPHQcTccQTRRQjTN\\nvvWvspCbzWVWVrWdjj\\nwZpDzCDgDbCZJZzJGlrlqPqnqPllmH\\nFCncCrDWMLCbjMCcFpLdzZfmZzwwWzdzNRZdWB\\nsqsgTqHSqllNldMwlZzJ\\nMtHPTgQhvhhqcrDrrDpjLCQc\\npPPvmPWSClqqPvqCmSwqmgGBWDjhGLHfjhDLJGjBBhNj\\nzrbdcdMndcRdTrsMcbTRdzRFVHjLjDjNLNHsfDhNGjhJNhDj\\nRdFFcnTdZcTrRRdFFbZtwQCPQglvPlwJwQPZSqqP\\nwlmbvwmvQvWQsvmbsSsQbswlRCNPfCTcTRVCffPtTSCPNRVP\\nFhJJJFgFqJGBtDpJhTTcVcVhdcCdCdTV\\nGDFtgLFnqqDGqGZsQvsllrjbLjbrvw\\nlnFSnJvmgvLlfnJpgnsjnjgfDQWqCJqZdDtDCtCtCdDrtDDQ\\nVTBBMPFcNNtMZDMW\\nVTGbzGGhTbTGHwVPvvFnfpvjgHnfjppp\\nJJwHqvlvDjljDwJFlZjZDwHNNsMqhNpphNpmNVzpsnsnRV\\nmTLgrLLcLSTTTdmPPfrrrnssNhRNWhgngzMWzgzVnM\\nSmTfdSBbBJbtjJvljl\\nbPNLwTCLLQQqtJsf\\nzdnnZVlWWGGRWGWdgdSStQMqJSMRptftbsMf\\nFWbvgvZZZZgnTmwrrhrFPCrP\\nHcGzzszFGllHWHbZspHbHGsHTwwrTrLLCNjSZwNjNjjCCNLj\\nPBJMJQJDDDnDggRhMdRSLmjTmTwwVjVQSvvwvC\\nRqfdhgDPDJDqJJnBdfzWWHcstslcbtStfHzl\\nzvRRlCqrdNdZcZpjBpVwjsmjsm\\nfgbTDqbhGfDnLDnLLqLhFmsHpTPHjHppppBwpwws\\nnhnnnDDngDtDbfSbDnGhhgRlNvQdQqNvQvtcQQNJRNJN\\ncZbCcbbScCbcmPGjPfSBQQSq\\nlnMnnVsMVvmzzGMDzPDf\\nLhrTsTTglrnsrrWWVvlwTnNtcpZRCmhtbCZFdttZbRCp\\nNWrFPZVWNVrvvrhtnNdddtpldmjm\\nDcBQBDsJbCwQnbtdzmjjjljbpjbz\\nqCDcGsDJGCcBDBcswJnBJQDfWfqgvZSvgZPfrVSWvPvZZZ\\nvcsdHdGtHtMHMFtVsddsWCcbppZwjScLpWhbjRWR\\nNTwrnzJrgTPrDwnlphRpjSpWbJJLLZWj\\nTlDPfPnzzlzTBzzvQFFBHMtVtqBqqw\\nNHnqqfZvZBNHHvgfrSlJrJCSllJRVrCn\\nTDTdhLMWjFcddMJPSSPJRmlCPz\\nbljWFdLLTDLtdFtLlwZvqfbgwwHfwqHNvw\\nBRRjhRQndRNVqBjRVhFLccjpwMmLmjHmgFHH\\nfZJfJvzPPWtWWlltZzZPpcgFMsFFwwFdpHdgwtdw\\nPCrdrzzfWCPdvSlqTqNSDnnQVVQQGT\\nDjbfBMDSfBljBsLSjSZbzrGtPtMCPtVPvvqrzqzG\\nmWdJWcppcNTdpppjzjRRVrPRpq\\nQncmnHwmdTmwQcmjNTfgfhlBShshhsffnfbB\\nWGDsMJsrjHCWtDMGDDVQqSvZqfSJzSnvnvvv\\nLgLFLFBFLVVzfBzMqZ\\nlgmFcwLhNcwdwwMLwhmcRDjNpCWRsWRspGGssHCp\\nPnPzNccnjFfvCvhbSBVcWqdhSVhV\\npsGMDQJDDDJgQNDHHJbwqwBsVqqZVWBBhBdd\\nDlDJDQGptpgpGDfTRnrTrFPnNTlf\\nMSSSMLLmFHcDScSq\\nppZnCsbjPZpnnJcbRDmzHJqRRD\\npmNmnGnQNnClZGMVMdBGrMgVWg\\nlsTTGcQzBcljCcQzGcGjGptttpmvSJtmggtwwswwtS\\nqZRnrhMbRVdhZRhhdnnVRPbmwSNwNNHtmJBvwpvtwNSvSb\\nVnMrqrrdqhZrnrBLLlzzlQjQjLfTcGfFDF\\ndJJTlHvhZqZlQTJnSgQDzgsSbScsSBzc\\nRRNtGjCCpRPPpRtjfrttRzmbscLsLZLgcsbmLzSGLB\\nwfNttfNrtWwPNNFfRtpfrdJMTTTZTMZTTVTlVwTlvM\\nPQTGLmdNTgPmGgNNdCPLQlrMqBrDzMCMFqDqFqjVCBCD\\nhhRwwvpSFmzDrmFh\\nvwwZfSfsmvtSspnZLLLdLGWPTGTQtTWG\\npMcWzWFvWhFpPMWzvvhpdprHTZTQrHrQdZTJdfTgQTnJ\\nCGbjBbNjjDmRHJDgrTVVZg\\nNNttGlGqNLsbtlhMFMFcMLwMvvZz\\nCGSCBNCQBtBCQttBwCGtGtQrqrLrJqZHLHbqHvLDHLrq\\nnVVhPMfVdfVPbfqLLqgDDqPvgZsv\\ncpVncbfnhFcBltTplpmTBC\\nMrdcdStbMnddtRBdqMnFmbqGCwqCVHVsNHwPfGVPqsCsCs\\nDBLllzWWQQzlZVVVCsGWHfsH\\nJQphjTgBjlLgjjpTpLgvTjQnnnSJJRRFmdbRRSdMRtmdMc\\nQbRZMSWMblwLsgpwZzqZ\\nBFncBrfcdNrrnVrNjsFzFTJpJLGJsGqLTp\\nVjhDDBdrfdhQMllzHmPQMh\\nLdVVjFVFbpVGRQGllG\\ncNMcJNHzJWJtCWHNJHcHczWpGmmhMQmBBqrlRhBmpGpGBQ\\nJZzTTtCZtHCJnNnNwPfbFpnfdDdLdnvP\\nTpMlrWTTddjmlmDmgQgRtw\\nMNNVMSsVSNSnNVMFLDqwtGgRRtGbgFRwtR\\nCCLSCPSCZZHVCfZscBJJhPphpdpprdhjJM\\ngSMSHJHsMMpzRgHzsRMPPSzsPhtZtZdqdDqQDhdCdZmQldht\\nFCcCnrGcNTfvvtqqfvlflQ\\nTrTrWNWwrTJLMzJCzWLL\\nTpTzwMrfbrpFpMbFrrrzbPSdZmtSZRTlTZRlmdCVlCtJ\\nvqvWgqDJQJsQCVtZgdZdRRGd\\nvsvLJLchWBcqnvczwjLfzPjfrjzPrz\\nzqzbqCFZgmzzmNmf\\nvpRWSbRVbVWddVpwvwdRSwnSNgLHsnfNgMmgMLMmnrns\\nDwWVpJRlpdbpRDWdGJGcGlhFtPPCqCCBFqZPQttlqFBq\\nwQRlwtBJBDwttJdGvLfBvHLLfTLz\\nMMmNZcMrcMFnRHzfjjvvHfvc\\nFggpbFnhrNNrrMrMbMbnhQVJVhstJwqWCVCRsQJQ\\nDQbCGblQlpQFQlHjCbjwDQQMggNmJmgnnpRBngfZmNgJMf\\nzvhWccWVdWBchdssPrrWZZZfmsmmmgsnZZJRsRTf\\nzBdtqPccWPHFCqCCqljq\\nttrbRMmgtHgfmHSfBpLfnBBZBppB\\nCVTJDCCNPwCPDwcqzmddQZdTQdnLBQThWp\\nzwFDjwDJJPzjzVNcVJwCcbRHGmbbMrFHgHvrsgbblG\\ngZjjwHqHCzrMZVVR\\nhhzcdTzPrVhVCGMb\\nfPcmLPNffsccJDdNDjBnpwzmHqgWjHwwvg\\nSJQFSvQBlzbSCgdPPddPPPSN\\npcrjcWLwwcHcgPNgTPLMNTCB\\npRsjsWRnrpHRmrBrHrjlbJFvvzQFnzQblQDDbJ\\nVjQVMQPVMfVPPbGPHHbGJD\\npcqSttltsbDGddsCJG\\nTSchqLtTLFhgQbMMQMrr\\ntrqzMRwNTtDzLPJQgWmjmjrf\\nlbBQdpZbsmhGmZhmmG\\nllVbpCplvvHBBHpnRDcDRRqnRRQnFRzT\\nSLSSFFmzLShsVSSHnLnrJdbnRdZZbrRw\\nqCfWBftpNWNNlqvTpwrRbGGCnwGmgRJGZn\\nNcTBNpvWvBWpMftNffpqWlTpmzPDQPSzFVMsFQVhHsjHszss\\nVtJtNBRBGDpdpNbC\\nQgLncnttvFcwwhLvFjSGsSbmmQCSDdpCmpdG\\nvLgjLhhrctMvLFFjLtMTLMgfPZqBZPZzJBBfWZZPRZZTRV\\nmJzDJJpJBvfsGMQnBM\\nCwPWCLRRWwRqwPqhPsrZrnrlhhQrMTrvZl\\ndCdLLSPRLSqWqVSLqLjgJDzDmtbngFVtJtzz\\nmtgWtMWrqjzQTTjghwwfczlNJdlcJnlc\\nFvRsDPPFGRBFvvslwDnTlcTTdwndlh\\nSGBZRBTsFGBRvLpvSCmgQWQjgggMrQjmmSmW\\nGcsRrQhrVVjhRcWlnDFGGmvntDWZ\\nTPbSgJJgBSCbCTbLHMCMTTZdFHvtZlWZDZFzmzZHZmmF\\ngBCMCSpbPMMPjcjqQQpqQprv\\nnZJcnZwvwzvTTTVtpDFnHH\\nDQPBqGGGdMdTRHRBpNgFNR\\ndCGPfhPWQdWWWCWShWPqrChWLLwLswjcvSJbvbLjJLbzJbJD\\nQrBQtdtrQBrdtFHPrdQBDvGhLGnPnCWnmpDmLpmD\\nNjlRJRlNzJJVbSSRVZwwJcmpWDGCWnbchnLCCmnWCG\\nllSJzsZzMMlsSZjSjZwJNQqtHHdBFsqdfTHhqFftQB\\nzdTJFHTdDBzrNdMnhNnNdM\\nZlLZZcLtVtcWtGjtzLjLZjCrnVNrnRbrQQbQSRVrRnSNqS\\nlZtGtCvjZPCGCctPpsDDBzTHFmPmFszD\\nmQSMvdMQtQdZhQrPWCPqPQrN\\nRwjwnZGzJFTZgzggzJDDwJnCPPhNNqPrLhrGNcWcWNPqCq\\nZTzDfnwFzTngTwJvfSlMtMMlmsHmHt\\nlZlmFRVZWmgQWhRsRpJsCJpJct\\nPTbPTGTGwwGrbdfjNNZJvcCsCZtvpTsh\\nbGdBBqGrdBPjDMzzVFZgqQzFFL\\nszvsmLvppPPtzGLGWpVdTSHTNgjHQRmHTgSH\\nFnBMBNZwZNcnDZMcnZlZgwgdQTTHjVJjHHVRQHJj\\nDnZrFCMZMNffrLPbLsfW\\nrJvmnBgnrCrGRSGNQR\\nhthjNfhwctwpjTLtVLjTGSpldSCGSPdlPSRzSqSz\\nTVcTfHNFcwtjMhTvgbHZsBbWmmZbnH\\nWsQgstQmvQJnssWsWPzhRzhBjZBSBRZSnj\\nqwCNqFwDrrlDrFPvRhTSPPzLRz\\nbppqwppCddlvfbDNVgmMmtMfVVmfmVWW'"
      ]
     },
     "execution_count": 5,
     "metadata": {},
     "output_type": "execute_result"
    }
   ],
   "source": [
    "payload = load_unaltered(\"d3.txt\")\n",
    "payload"
   ]
  },
  {
   "cell_type": "code",
   "execution_count": 6,
   "metadata": {},
   "outputs": [
    {
     "data": {
      "text/plain": [
       "8298"
      ]
     },
     "execution_count": 6,
     "metadata": {},
     "output_type": "execute_result"
    }
   ],
   "source": [
    "from string import ascii_lowercase, ascii_uppercase\n",
    "priority = {l: n+1 for n, l in enumerate(ascii_lowercase+ascii_uppercase)}\n",
    "\n",
    "duplicate_item = [] \n",
    "for rucksack in payload.splitlines():\n",
    "    split = len(rucksack) // 2\n",
    "    r1, r2 = set(rucksack[:split]), set(rucksack[split:])\n",
    "\n",
    "    common = r1.intersection(r2)\n",
    "    common = list(common)[0]\n",
    "    duplicate_item.append(common)\n",
    "\n",
    "prio_scores = [priority[l] for l in duplicate_item]\n",
    "score = sum(prio_scores)\n",
    "score"
   ]
  },
  {
   "cell_type": "code",
   "execution_count": 7,
   "metadata": {},
   "outputs": [
    {
     "data": {
      "text/plain": [
       "2708"
      ]
     },
     "execution_count": 7,
     "metadata": {},
     "output_type": "execute_result"
    }
   ],
   "source": [
    "duplicate_item = [] \n",
    "N = len(payload.splitlines())\n",
    "\n",
    "for ind in list(range(N))[::3]:\n",
    "    r1 = set(payload.splitlines()[ind])\n",
    "    r2 = set(payload.splitlines()[ind+1])\n",
    "    r3 = set(payload.splitlines()[ind+2])\n",
    "\n",
    "    common = r1.intersection(r2).intersection(r3)\n",
    "    common = list(common)[0]\n",
    "    duplicate_item.append(common)\n",
    "\n",
    "prio_scores = [priority[l] for l in duplicate_item]\n",
    "score = sum(prio_scores)\n",
    "score"
   ]
  },
  {
   "cell_type": "markdown",
   "metadata": {},
   "source": [
    "## Day 4"
   ]
  },
  {
   "cell_type": "code",
   "execution_count": 21,
   "metadata": {},
   "outputs": [
    {
     "data": {
      "text/plain": [
       "'33-62,26-62\\n49-89,49-88\\n2-4,3-92\\n7-98,7-98\\n6-74,6-73\\n78-79,13-78\\n90-95,95-95\\n62-66,56-67\\n2-93,4-92\\n12-64,11-11\\n7-83,5-91\\n20-87,20-88\\n29-93,26-92\\n19-20,20-31\\n62-62,7-63\\n9-83,9-84\\n8-27,28-95\\n6-49,6-48\\n7-71,65-71\\n90-96,19-89\\n13-97,98-99\\n17-75,75-76\\n90-91,44-90\\n5-62,24-92\\n45-76,46-76\\n9-22,23-23\\n93-94,35-93\\n32-34,33-48\\n43-44,6-44\\n79-86,80-86\\n7-7,6-93\\n77-82,83-91\\n59-60,32-59\\n7-27,7-7\\n2-23,22-23\\n35-35,6-36\\n32-34,11-33\\n24-35,28-34\\n37-62,62-64\\n9-18,18-18\\n8-53,2-7\\n2-99,1-99\\n15-95,65-94\\n17-71,6-18\\n38-71,13-63\\n6-77,4-9\\n1-99,2-98\\n13-67,13-66\\n45-87,45-86\\n13-59,12-82\\n18-79,17-19\\n83-83,36-83\\n38-77,38-76\\n17-17,16-41\\n78-94,79-94\\n36-87,6-91\\n30-38,29-29\\n54-56,22-55\\n43-43,37-43\\n2-99,1-1\\n16-88,15-17\\n13-14,2-14\\n26-57,26-58\\n19-86,19-86\\n97-98,67-97\\n1-92,2-92\\n1-3,3-77\\n25-54,54-54\\n44-53,46-60\\n16-74,74-74\\n4-7,8-28\\n96-99,95-99\\n37-70,36-80\\n59-68,60-60\\n47-95,29-87\\n91-91,68-91\\n18-91,19-90\\n16-27,5-28\\n94-96,63-95\\n3-20,19-73\\n18-74,8-80\\n6-71,3-72\\n52-71,53-93\\n6-8,7-97\\n68-77,22-78\\n29-76,30-30\\n13-98,13-99\\n7-73,3-74\\n64-98,16-74\\n20-78,9-21\\n17-65,18-18\\n71-96,27-96\\n55-91,46-56\\n93-96,5-92\\n15-15,14-77\\n18-49,17-49\\n77-78,70-77\\n31-88,31-87\\n38-85,57-86\\n39-87,87-87\\n26-77,76-77\\n1-1,3-47\\n5-96,95-96\\n25-78,15-60\\n11-84,84-84\\n22-30,22-30\\n6-85,83-86\\n32-40,32-39\\n4-97,4-97\\n34-90,26-91\\n23-68,23-67\\n41-51,30-33\\n21-83,22-82\\n21-85,1-74\\n72-74,6-73\\n6-6,5-94\\n10-83,10-83\\n11-85,5-12\\n81-82,82-82\\n4-82,82-82\\n25-89,25-25\\n70-79,74-78\\n17-51,26-50\\n7-70,6-70\\n21-81,21-80\\n72-88,71-71\\n68-72,21-73\\n74-95,73-75\\n15-94,12-13\\n47-96,48-96\\n58-70,10-58\\n69-69,63-69\\n7-95,7-94\\n13-66,13-65\\n1-18,2-18\\n4-90,4-89\\n24-84,23-23\\n89-90,14-89\\n8-10,7-16\\n16-18,21-96\\n19-30,1-29\\n78-99,9-97\\n2-9,6-19\\n58-82,53-85\\n51-96,51-97\\n11-70,69-70\\n1-2,2-95\\n93-95,41-94\\n95-95,10-96\\n18-18,17-48\\n1-99,2-2\\n66-68,67-98\\n5-7,6-90\\n49-94,50-66\\n12-41,2-91\\n10-93,93-94\\n27-51,27-52\\n9-15,15-99\\n16-47,15-48\\n11-89,25-85\\n39-77,7-64\\n9-91,91-92\\n65-66,22-66\\n9-83,9-31\\n8-78,8-77\\n2-98,2-99\\n33-53,25-50\\n11-91,9-97\\n46-90,2-91\\n69-70,70-95\\n39-53,15-39\\n63-85,64-85\\n15-82,13-13\\n38-55,56-56\\n14-34,14-33\\n28-47,24-46\\n8-98,7-98\\n24-35,27-98\\n44-67,45-64\\n65-90,65-91\\n23-89,21-24\\n1-2,4-48\\n12-97,13-89\\n11-91,41-90\\n72-72,11-72\\n5-61,6-75\\n25-77,25-78\\n1-98,5-96\\n22-57,22-56\\n69-92,25-69\\n6-85,5-85\\n46-48,19-47\\n19-25,24-94\\n6-96,3-12\\n18-67,67-68\\n42-43,42-96\\n95-95,74-95\\n20-38,37-68\\n2-72,2-73\\n21-23,25-71\\n4-29,4-29\\n87-88,41-88\\n59-66,66-92\\n54-95,54-96\\n5-88,88-88\\n73-74,46-74\\n12-13,12-41\\n5-11,7-12\\n62-64,18-63\\n98-98,2-98\\n69-77,28-70\\n7-62,29-61\\n7-7,6-98\\n35-94,9-35\\n77-78,77-90\\n10-10,9-86\\n26-32,4-26\\n79-92,27-85\\n40-88,41-82\\n20-58,15-59\\n64-97,63-65\\n6-23,2-24\\n11-15,13-14\\n16-88,15-26\\n35-77,36-77\\n47-94,25-48\\n17-54,5-53\\n97-98,98-98\\n9-87,35-86\\n46-89,2-46\\n11-49,33-48\\n41-80,40-98\\n11-95,10-10\\n22-71,11-71\\n14-63,64-64\\n49-51,50-97\\n1-81,82-82\\n36-93,1-93\\n38-80,38-39\\n41-66,10-65\\n20-44,19-21\\n42-98,41-98\\n65-78,66-77\\n2-5,4-96\\n15-62,62-63\\n7-85,6-8\\n46-82,45-81\\n45-47,46-85\\n18-39,37-44\\n40-64,63-64\\n24-49,24-48\\n64-94,63-63\\n22-23,5-23\\n13-96,12-12\\n43-75,43-75\\n15-96,70-95\\n42-43,42-53\\n64-66,42-77\\n86-94,88-93\\n35-94,9-93\\n5-98,6-6\\n21-97,20-20\\n7-99,8-8\\n12-12,11-88\\n6-48,7-48\\n60-73,61-73\\n28-56,27-79\\n39-61,2-64\\n78-78,28-79\\n35-97,13-96\\n8-97,9-90\\n6-96,4-4\\n23-98,22-97\\n11-78,11-79\\n37-92,37-92\\n33-66,32-67\\n27-88,87-88\\n32-89,90-90\\n7-96,7-97\\n10-98,10-10\\n2-83,82-84\\n2-13,13-82\\n23-27,22-24\\n46-85,47-89\\n16-71,70-71\\n4-79,3-76\\n96-96,1-96\\n15-89,15-88\\n22-32,26-82\\n21-21,20-21\\n5-67,6-68\\n46-60,25-61\\n56-95,34-99\\n11-74,11-75\\n2-14,14-97\\n4-97,11-92\\n19-34,18-18\\n4-20,5-33\\n91-91,68-91\\n2-99,1-2\\n68-87,68-86\\n3-98,3-3\\n91-99,9-90\\n21-58,26-56\\n33-70,34-64\\n81-81,82-83\\n49-66,48-50\\n10-11,11-62\\n7-92,29-83\\n19-89,88-89\\n7-42,42-90\\n60-76,76-99\\n51-53,52-91\\n33-56,34-57\\n5-88,46-87\\n15-96,15-95\\n8-27,27-95\\n96-98,38-96\\n9-40,41-43\\n68-83,68-82\\n5-11,7-93\\n50-50,8-50\\n26-69,68-70\\n23-44,13-82\\n90-94,93-95\\n1-95,1-96\\n29-31,30-83\\n49-81,48-50\\n41-70,42-70\\n10-73,11-72\\n9-10,16-18\\n72-73,1-73\\n47-71,47-48\\n4-97,23-96\\n10-96,10-96\\n15-43,43-80\\n57-82,18-57\\n4-19,2-2\\n46-81,38-82\\n55-72,24-55\\n63-64,60-64\\n12-99,22-97\\n31-62,53-67\\n41-87,67-86\\n30-30,31-82\\n20-34,19-35\\n76-77,43-77\\n25-52,32-53\\n50-95,51-98\\n50-50,49-75\\n4-91,90-90\\n61-89,60-89\\n4-93,4-94\\n22-93,22-94\\n50-66,49-58\\n22-89,23-88\\n20-94,33-93\\n12-30,11-71\\n11-54,11-75\\n6-60,5-6\\n36-45,3-46\\n84-96,31-83\\n25-25,25-29\\n17-18,17-30\\n45-69,45-70\\n64-98,65-65\\n5-60,16-59\\n81-81,25-81\\n23-69,66-70\\n34-97,35-96\\n7-90,6-97\\n76-79,75-75\\n27-97,27-96\\n14-34,23-32\\n28-95,94-96\\n36-68,36-67\\n25-27,26-96\\n93-95,67-94\\n29-91,30-30\\n57-58,29-58\\n44-65,43-45\\n2-16,16-34\\n15-99,16-43\\n33-62,33-62\\n1-79,1-80\\n60-96,60-97\\n28-28,28-50\\n90-94,33-89\\n14-51,13-15\\n3-76,3-77\\n21-48,25-87\\n23-25,24-97\\n74-76,74-75\\n34-36,35-74\\n78-96,79-96\\n3-94,5-90\\n81-95,81-94\\n62-70,61-73\\n55-55,20-55\\n88-90,6-89\\n88-88,3-89\\n14-99,13-15\\n6-78,29-77\\n63-73,72-73\\n38-38,38-87\\n5-93,5-94\\n66-90,45-94\\n42-68,41-43\\n62-90,86-90\\n16-50,15-31\\n80-81,63-81\\n49-62,38-50\\n70-90,53-96\\n19-19,20-81\\n7-16,15-75\\n9-98,92-97\\n29-95,28-95\\n99-99,1-97\\n39-96,40-40\\n1-1,2-99\\n24-28,7-23\\n9-57,8-74\\n27-31,26-27\\n6-93,5-93\\n39-89,38-40\\n43-84,84-85\\n3-69,2-2\\n24-88,87-88\\n6-97,2-96\\n5-93,4-5\\n43-43,44-86\\n17-73,17-72\\n85-86,28-85\\n9-35,35-36\\n14-93,13-22\\n62-64,30-63\\n71-71,48-71\\n48-88,49-78\\n13-57,58-96\\n21-81,10-19\\n37-39,36-37\\n14-17,10-15\\n23-74,73-75\\n4-29,1-5\\n2-96,95-99\\n13-82,12-13\\n51-98,51-97\\n21-21,20-37\\n17-68,17-69\\n32-49,68-74\\n55-73,49-74\\n11-53,10-12\\n2-4,3-99\\n55-56,53-56\\n14-24,13-25\\n19-58,18-58\\n62-87,62-86\\n11-93,93-94\\n44-64,43-80\\n2-82,3-82\\n37-38,33-38\\n97-98,18-98\\n12-47,46-47\\n5-95,4-96\\n22-98,16-21\\n1-70,69-70\\n8-93,8-92\\n36-89,36-90\\n84-96,82-86\\n38-38,37-89\\n77-96,96-96\\n80-82,23-81\\n48-92,14-49\\n80-80,5-80\\n49-80,20-81\\n77-85,76-78\\n6-6,5-90\\n42-97,42-96\\n98-99,45-99\\n25-95,94-96\\n1-66,7-66\\n43-44,44-65\\n14-71,3-82\\n4-11,4-49\\n31-43,33-42\\n65-99,9-66\\n48-98,98-98\\n4-78,5-77\\n21-38,22-22\\n5-99,99-99\\n1-1,3-17\\n53-97,17-54\\n8-57,7-7\\n83-95,25-96\\n43-49,42-42\\n80-90,81-90\\n33-65,34-60\\n48-65,11-66\\n4-99,6-92\\n7-60,6-60\\n3-47,47-85\\n27-59,26-28\\n57-76,73-77\\n52-60,51-72\\n2-99,98-99\\n37-70,70-70\\n19-95,5-12\\n1-98,1-2\\n84-89,39-85\\n24-89,89-98\\n15-16,15-24\\n10-10,9-77\\n9-39,8-58\\n13-73,13-74\\n32-60,13-61\\n55-70,57-65\\n54-56,42-55\\n2-27,11-26\\n9-83,8-85\\n39-40,12-39\\n50-52,15-51\\n97-97,4-97\\n58-59,2-58\\n36-37,37-85\\n32-77,31-33\\n73-96,6-94\\n84-86,52-85\\n24-26,25-75\\n2-79,1-2\\n36-36,35-68\\n6-50,5-50\\n6-94,94-95\\n6-28,3-29\\n53-53,33-53\\n5-98,95-97\\n33-91,34-34\\n18-83,84-98\\n41-41,3-41\\n34-90,89-90\\n73-73,4-73\\n56-57,57-78\\n2-4,4-94\\n61-70,53-71\\n73-74,74-74\\n3-99,5-98\\n7-66,66-73\\n4-13,12-13\\n71-79,70-80\\n58-93,57-59\\n7-90,8-90\\n53-94,22-53\\n9-47,10-47\\n19-99,37-98\\n55-55,55-55\\n48-84,28-85\\n57-90,57-88\\n70-70,3-71\\n6-68,6-68\\n1-4,5-97\\n12-42,13-13\\n2-78,2-77\\n29-61,7-86\\n71-71,43-71\\n63-74,42-75\\n83-83,58-83\\n4-20,3-4\\n30-92,31-31\\n2-15,8-40\\n13-69,12-14\\n81-82,21-81\\n33-45,33-44\\n87-92,18-88\\n52-96,95-96\\n10-53,11-52\\n81-95,81-96\\n8-8,4-7\\n4-99,3-5\\n51-77,52-76\\n17-89,16-16\\n19-21,20-80\\n1-3,2-94\\n96-97,3-97\\n50-58,57-86\\n38-98,38-39\\n8-97,5-9\\n11-96,95-97\\n28-43,27-44\\n21-26,20-25\\n58-97,12-92\\n1-3,3-88\\n11-47,10-72\\n1-71,3-85\\n40-40,39-97\\n3-89,3-90\\n7-92,37-91\\n73-89,61-90\\n61-80,28-92\\n61-62,11-61\\n19-80,19-80\\n4-6,5-78\\n6-54,16-81\\n92-97,20-91\\n61-62,5-62\\n40-65,39-39\\n57-66,54-67\\n2-98,3-76\\n13-99,12-88\\n96-97,2-97\\n46-56,56-57\\n7-94,11-94\\n5-78,4-5\\n31-71,31-79\\n47-47,48-83\\n72-91,72-92\\n36-37,37-70\\n57-98,98-98\\n7-99,7-98\\n2-99,2-98\\n27-96,95-96\\n19-27,28-93\\n1-9,8-52\\n92-92,1-92\\n38-84,84-85\\n94-97,22-95\\n19-37,32-36\\n4-17,17-96\\n27-80,28-99\\n40-60,59-60\\n8-96,8-97\\n16-75,15-36\\n33-73,34-73\\n54-76,75-76\\n49-87,86-87\\n11-38,38-91\\n40-69,68-69\\n39-41,40-40\\n90-90,64-90\\n11-82,12-56\\n28-90,89-90\\n90-95,8-91\\n9-92,10-91\\n10-98,28-97\\n29-30,30-91\\n26-91,26-27\\n7-91,69-92\\n21-93,22-63\\n6-8,7-35\\n71-71,63-71\\n39-47,13-48\\n15-79,15-15\\n9-73,9-73\\n46-69,17-88\\n16-97,18-86\\n8-65,64-65\\n1-44,2-43\\n33-78,32-32\\n23-97,40-97\\n21-22,21-74\\n93-93,10-93\\n21-22,21-42\\n2-5,5-18\\n21-51,18-37\\n38-92,47-77\\n83-84,3-83\\n16-94,15-95\\n1-92,92-93\\n1-98,98-98\\n48-89,34-47\\n9-44,10-45\\n88-90,43-89\\n3-16,17-29\\n39-44,1-40\\n41-67,38-75\\n2-6,1-7\\n8-67,9-55\\n42-60,42-61\\n18-52,31-51\\n46-47,47-74\\n24-69,23-24\\n30-30,30-31\\n1-84,83-84\\n2-87,1-87\\n9-50,9-51\\n28-83,20-34\\n19-47,40-51\\n3-86,4-4\\n17-79,1-2\\n26-75,25-75\\n8-16,17-54\\n35-90,42-97\\n1-18,23-62\\n2-12,1-39\\n13-90,12-96\\n71-91,71-91\\n23-60,12-24\\n26-84,54-83\\n18-24,18-25\\n18-56,23-55\\n32-59,31-33\\n35-52,34-81\\n22-72,22-71\\n8-38,7-37\\n34-69,69-69\\n10-79,15-68\\n16-87,24-28\\n20-50,8-51\\n6-52,52-84\\n86-86,21-87\\n26-94,26-93\\n63-82,63-81\\n5-18,17-91\\n7-18,7-28\\n10-36,10-95\\n44-96,9-84\\n48-51,49-62\\n90-98,89-98\\n31-31,32-56\\n75-75,74-75\\n28-80,79-92\\n7-63,26-62\\n4-5,5-18\\n40-84,21-85\\n43-51,42-44\\n4-91,35-95\\n51-73,51-52\\n4-51,51-51\\n80-80,52-80\\n46-85,19-84\\n9-11,10-36\\n32-33,33-90\\n3-92,4-92\\n6-96,5-99\\n77-78,66-78\\n7-31,9-87\\n11-70,32-69\\n46-57,25-74\\n4-42,41-42\\n28-92,91-92\\n7-23,21-22\\n7-97,17-97\\n12-94,6-13\\n59-84,59-83\\n46-46,47-78\\n10-99,9-99\\n1-73,13-72\\n1-73,2-2\\n15-91,16-84\\n4-84,1-85\\n3-98,2-98\\n89-89,2-90\\n16-96,16-96\\n30-69,31-70\\n16-68,73-89\\n13-30,12-29\\n27-97,98-99\\n58-95,8-94\\n18-18,17-83\\n1-55,3-55\\n37-43,42-89\\n1-89,1-90\\n51-53,23-52\\n50-57,58-91\\n95-96,25-96\\n41-41,27-41\\n26-76,59-77\\n85-87,25-86\\n14-62,15-63\\n98-98,51-98\\n81-98,50-97\\n1-72,2-73\\n1-4,3-64\\n12-82,11-97\\n6-24,24-24\\n55-85,54-65\\n6-68,67-69\\n2-3,3-73\\n4-91,4-86\\n36-99,35-99\\n10-79,21-78\\n20-39,39-97\\n7-82,6-8\\n58-91,38-58\\n13-63,14-39\\n42-44,43-96\\n84-95,82-84\\n29-65,30-65\\n44-58,57-58\\n8-34,34-35\\n11-36,11-35\\n26-94,72-93\\n12-26,14-88\\n3-91,4-89\\n6-6,5-99\\n96-97,95-96\\n38-51,30-45\\n20-98,21-77\\n16-98,16-97\\n5-97,12-12\\n14-25,25-92\\n30-65,30-31\\n52-53,35-53\\n71-73,22-94\\n6-96,3-99\\n8-42,7-7\\n28-96,29-97\\n67-91,90-92\\n3-95,12-95\\n8-98,9-9\\n27-27,26-87\\n7-79,78-79\\n36-90,36-89\\n84-85,21-84\\n69-69,68-92\\n19-98,61-99\\n16-98,98-99\\n1-96,95-96\\n16-84,16-85\\n18-87,87-88\\n92-97,85-95\\n13-83,83-84\\n20-67,3-21\\n23-71,55-72\\n62-97,61-61\\n82-91,51-81\\n24-25,25-93\\n58-58,59-99\\n39-93,38-93\\n7-64,14-63\\n35-99,36-98\\n89-89,29-90\\n77-78,67-78\\n3-90,89-90\\n26-90,26-89\\n22-38,22-37\\n66-66,65-94\\n71-75,68-74\\n47-93,7-93\\n9-90,73-87\\n39-39,38-82\\n27-40,33-39\\n66-93,67-92\\n9-86,86-87\\n13-95,34-94\\n47-78,14-46\\n2-96,2-96\\n4-30,23-29\\n9-88,21-89\\n2-61,2-60\\n15-69,15-68\\n20-91,20-90\\n38-77,70-76\\n8-65,9-9\\n96-97,14-97\\n55-67,67-67\\n12-78,26-83\\n1-95,1-1\\n56-99,64-98\\n1-56,13-57\\n14-84,8-96\\n37-38,38-76\\n4-99,5-5\\n46-87,27-86\\n80-80,4-80\\n9-25,25-78\\n33-85,34-35\\n26-77,70-76\\n68-98,67-98\\n8-12,17-66\\n2-41,2-42\\n8-46,47-47\\n8-92,5-8\\n1-5,5-98\\n6-94,7-7\\n96-97,73-96\\n19-51,50-51\\n30-95,31-85\\n16-91,17-91\\n11-13,12-62\\n2-99,3-99\\n44-91,58-90\\n28-63,1-18\\n46-92,19-52\\n37-54,3-55\\n67-68,68-82\\n2-99,98-99\\n8-40,40-40\\n7-58,6-58\\n9-75,9-75\\n4-39,39-39\\n16-70,16-71\\n27-82,81-82\\n38-83,38-82\\n4-76,75-97\\n5-42,6-41\\n43-82,82-82\\n27-27,26-77\\n14-14,13-74\\n17-87,87-94\\n14-78,13-62\\n54-85,53-86\\n1-15,1-95\\n69-79,70-74\\n5-86,10-85\\n29-39,49-78\\n41-99,41-42\\n15-95,14-15\\n32-78,33-78\\n16-94,21-93\\n5-5,4-94\\n1-65,8-64\\n2-99,5-98\\n34-59,38-58\\n36-43,7-36\\n5-21,20-62\\n11-92,7-7\\n23-91,24-91\\n6-90,5-91\\n18-60,15-64\\n40-87,39-41\\n58-81,57-58\\n3-88,4-88\\n49-50,32-49\\n28-34,27-90\\n30-38,5-31\\n8-91,7-92\\n43-81,44-81\\n10-97,9-99\\n3-86,2-3\\n80-98,4-92\\n2-2,1-99\\n15-41,15-42\\n27-28,27-83\\n9-83,4-10\\n48-90,47-90\\n31-67,2-32\\n80-80,5-80\\n10-85,10-84\\n30-84,29-29\\n16-45,17-45\\n34-35,34-41\\n28-30,29-68\\n9-25,25-69\\n65-66,56-66\\n19-36,20-20\\n53-53,53-98\\n6-22,10-60\\n29-29,28-93\\n20-56,54-55\\n8-83,8-83\\n13-87,87-88\\n40-81,24-66\\n82-83,30-82\\n68-70,1-69\\n88-89,20-88\\n1-99,2-99\\n4-73,5-55\\n71-72,18-72\\n47-47,28-47\\n53-69,52-69\\n14-29,28-29\\n53-82,83-87\\n3-4,10-19\\n59-93,1-92\\n23-94,23-95\\n27-56,26-26\\n58-94,57-59\\n87-87,49-88\\n75-78,69-89\\n18-96,19-87\\n3-98,90-99\\n29-45,45-58\\n2-66,58-65\\n15-76,14-88\\n2-92,92-92\\n31-79,32-79\\n9-98,9-99\\n7-90,6-99\\n19-19,18-72\\n86-86,85-98\\n10-13,12-93\\n2-47,48-51\\n9-62,1-9\\n6-95,6-94\\n4-98,7-97\\n80-99,99-99\\n34-71,50-57\\n48-67,31-66\\n53-88,53-53\\n5-55,5-54\\n56-60,55-55\\n13-45,12-45\\n4-78,5-45\\n52-84,84-84\\n52-98,52-97\\n7-8,9-92\\n1-98,2-17\\n42-79,9-80\\n57-64,38-59\\n31-37,37-72\\n21-99,1-25'"
      ]
     },
     "execution_count": 21,
     "metadata": {},
     "output_type": "execute_result"
    }
   ],
   "source": [
    "payload = load_unaltered(\"d4.txt\")\n",
    "payload"
   ]
  },
  {
   "cell_type": "code",
   "execution_count": 41,
   "metadata": {},
   "outputs": [
    {
     "data": {
      "text/plain": [
       "588"
      ]
     },
     "execution_count": 41,
     "metadata": {},
     "output_type": "execute_result"
    }
   ],
   "source": [
    "# step 1\n",
    "\n",
    "def vec_str_to_int(num_list: list[str]) -> list[int]:\n",
    "    return [int(num) for num in num_list]\n",
    "\n",
    "\n",
    "def turn_raw_into_num(payload: str) -> list[list[int]]:\n",
    "    pairs = [pair.replace(\"-\", \",\").split(\",\") for pair in payload.splitlines()]\n",
    "    pairs = [vec_str_to_int(num_list) for num_list in pairs]\n",
    "    return pairs\n",
    "\n",
    "def check_over_lap(range1, range2):\n",
    "    # count only full overlap\n",
    "    return all(e in range2 for e in range1) or all(e in range1 for e in range2)\n",
    "\n",
    "\n",
    "\n",
    "def count_overlaps(num_list: list[list[int]]) -> int:\n",
    "    counter = 0\n",
    "    for num in num_list:\n",
    "        n1, n2, n3, n4 = num\n",
    "        range1 = list(range(n1, n2+1))\n",
    "        range2 = list(range(n3, n4+1))\n",
    "\n",
    "        overlap = check_over_lap(range1, range2)\n",
    "        counter += int(overlap)\n",
    "    return counter\n",
    "\n",
    "\n",
    "nums = turn_raw_into_num(payload)\n",
    "count_overlaps(nums)"
   ]
  },
  {
   "cell_type": "code",
   "execution_count": 42,
   "metadata": {},
   "outputs": [
    {
     "data": {
      "text/plain": [
       "911"
      ]
     },
     "execution_count": 42,
     "metadata": {},
     "output_type": "execute_result"
    }
   ],
   "source": [
    "# step 2\n",
    "\n",
    "def count_overlaps(num_list: list[list[int]]) -> int:\n",
    "    # count any overlap\n",
    "    counter = 0\n",
    "    for num in num_list:\n",
    "        n1, n2, n3, n4 = num\n",
    "        range1 = set(range(n1, n2+1))\n",
    "        range2 = set(range(n3, n4+1))\n",
    "\n",
    "        overlap = range1.intersection(range2)\n",
    "        if len(overlap) > 0:\n",
    "            counter += 1\n",
    "\n",
    "    return counter\n",
    "\n",
    "count_overlaps(nums)"
   ]
  },
  {
   "cell_type": "markdown",
   "metadata": {},
   "source": [
    "## Day 5"
   ]
  },
  {
   "cell_type": "code",
   "execution_count": 228,
   "metadata": {},
   "outputs": [],
   "source": [
    "payload =load_unaltered(\"d5.txt\")"
   ]
  },
  {
   "cell_type": "code",
   "execution_count": 229,
   "metadata": {},
   "outputs": [
    {
     "data": {
      "text/plain": [
       "{'1': ['G', 'D', 'V', 'Z', 'J', 'S', 'B'],\n",
       " '2': ['Z', 'S', 'M', 'G', 'V', 'P'],\n",
       " '3': ['C', 'L', 'B', 'S', 'W', 'T', 'Q', 'F'],\n",
       " '4': ['H', 'J', 'G', 'W', 'M', 'R', 'V', 'Q'],\n",
       " '5': ['C', 'L', 'S', 'N', 'F', 'M', 'D'],\n",
       " '6': ['R', 'G', 'C', 'D'],\n",
       " '7': ['H', 'G', 'T', 'R', 'J', 'D', 'S', 'Q'],\n",
       " '8': ['P', 'F', 'V'],\n",
       " '9': ['D', 'R', 'S', 'T', 'J']}"
      ]
     },
     "execution_count": 229,
     "metadata": {},
     "output_type": "execute_result"
    }
   ],
   "source": [
    "def get_stacks(payload):\n",
    "    columns = list(reversed(payload.splitlines()[:9]))[0]\n",
    "    stack_dict = {}\n",
    "    indexes = []\n",
    "    for ind, ele in enumerate(columns):\n",
    "        if ele != \" \":\n",
    "            stack_dict[ele] = []\n",
    "            indexes.append(ind)\n",
    "\n",
    "    stack_map = dict(zip(indexes, stack_dict.keys()))\n",
    "\n",
    "    stacks = list(reversed(payload.splitlines()[:9]))[1:]\n",
    "\n",
    "    for row in stacks:\n",
    "        for ind, st in enumerate(list(row)):\n",
    "            if st not in (\"[\", \"]\", \" \"):\n",
    "                stack_dict[stack_map[ind]].append(st)\n",
    "\n",
    "    return stack_dict\n",
    "\n",
    "def get_instructions(payload):\n",
    "    raw_instructions = payload.splitlines()[10:]\n",
    "    refined_instructions = []\n",
    "    for instr in raw_instructions:\n",
    "        instr = instr.split(\" \")\n",
    "        amt = int(instr[1])\n",
    "        src = instr[3]\n",
    "        trg = instr[5]\n",
    "        refined_instructions.append((amt, src, trg))\n",
    "    return refined_instructions\n",
    "\n",
    "\n",
    "def validate_amount(stacks):\n",
    "    total_crates = 0\n",
    "    for v in stacks.values():\n",
    "        total_crates += len(v)\n",
    "    return total_crates\n",
    "\n",
    "\n",
    "stacks = get_stacks(payload)\n",
    "instructions = get_instructions(payload)\n",
    "\n",
    "stacks"
   ]
  },
  {
   "cell_type": "code",
   "execution_count": 234,
   "metadata": {},
   "outputs": [
    {
     "data": {
      "text/plain": [
       "{'1': ['D', 'F', 'M', 'L', 'V', 'C', 'C', 'B'],\n",
       " '2': ['L'],\n",
       " '3': ['S'],\n",
       " '4': ['B', 'N', 'V', 'P', 'S', 'R', 'G'],\n",
       " '5': ['J'],\n",
       " '6': ['S'],\n",
       " '7': ['G',\n",
       "  'V',\n",
       "  'R',\n",
       "  'Q',\n",
       "  'R',\n",
       "  'C',\n",
       "  'M',\n",
       "  'G',\n",
       "  'T',\n",
       "  'D',\n",
       "  'T',\n",
       "  'J',\n",
       "  'W',\n",
       "  'Q',\n",
       "  'H',\n",
       "  'H',\n",
       "  'J',\n",
       "  'R',\n",
       "  'J',\n",
       "  'Z',\n",
       "  'D',\n",
       "  'D'],\n",
       " '8': ['F', 'W', 'V', 'Z', 'P', 'G', 'T'],\n",
       " '9': ['D', 'Q', 'M', 'S', 'G', 'F', 'S', 'S']}"
      ]
     },
     "execution_count": 234,
     "metadata": {},
     "output_type": "execute_result"
    }
   ],
   "source": [
    "stacks = get_stacks(payload)\n",
    "instructions = get_instructions(payload)\n",
    "\n",
    "def execute_instructions(stacks, instructions):\n",
    "    for instr in instructions:\n",
    "\n",
    "        amt = instr[0]\n",
    "        src = instr[1]\n",
    "        trg = instr[2]\n",
    "\n",
    "        # load cargo onto crane\n",
    "        cargo = stacks[src][-amt:]\n",
    "        # CrateMover 9000\n",
    "        # cargo = reversed(cargo)\n",
    "        # delete cargo from current stack\n",
    "        for _ in range(amt):\n",
    "            stacks[src].pop()\n",
    "        # load cargo onto next stack\n",
    "        stacks[trg] += cargo\n",
    "\n",
    "    return stacks\n",
    "\n",
    "def get_top_of_each(stacks):\n",
    "    top_crates = \"\"\n",
    "    for v in stacks.values():\n",
    "        top_crates+=f\"{v[-1]}\"\n",
    "    return \"\".join(top_crates)\n",
    "\n",
    "\n",
    "stacks = execute_instructions(stacks, instructions)\n",
    "assert validate_amount(stacks) == 56\n",
    "stacks"
   ]
  },
  {
   "cell_type": "code",
   "execution_count": 235,
   "metadata": {},
   "outputs": [
    {
     "data": {
      "text/plain": [
       "'BLSGJSDTS'"
      ]
     },
     "execution_count": 235,
     "metadata": {},
     "output_type": "execute_result"
    }
   ],
   "source": [
    "get_top_of_each(stacks)"
   ]
  },
  {
   "cell_type": "markdown",
   "metadata": {},
   "source": [
    "## Day 6"
   ]
  },
  {
   "cell_type": "code",
   "execution_count": 5,
   "metadata": {},
   "outputs": [
    {
     "data": {
      "text/plain": [
       "'qvllndllhzhfzhhdzhddhjdjggvnvhvccmffwllqgqmmfjfqfhhtrrzczjczzlplddfpptqqfbqffmnmjnnqppfjfccgnnmqqsvvdbbgppjvpjvpjjctjjttwtrrdldlcddrvddqndqnqwqwzwfwwzczggcppgzpzhpzhppprfffbhhwmhhtftstrsrvsrvsrvvshvssnwwpllhfhnnfflcltlblzlqlvqlvlcldcccpptggtdgdjdbbrggmbmnncscbssqrrjddvcvgvfflpppgpvphvphhpcpzpzvvctvctvthtwtfwwbrrhhlplmlwwlqlnlhhtmhmmqlqplllrvrgvrvrffzfgfjfjtjmjvmjmwmvvjffmpfphfhvfvmfvmmhpphhltthgttgccqggpzpfpqpcpvcpvcvvqtqvqbbrlrtllmrmllhmhvmhhvzhvzvrrrzjzbbtvvbgvbbfnnqndqnnpnbnbnlnggwqggmgmqmgmbbmccgqcqbccpvcvnnhvvrvlrrcwrcwrcwrwbrwwzbwbdbfddpttntzzjszsnznbndnzngzgccjrcjchcffmlmqqlrqqzsqzzsbsnsttzpztpzpggzrrttbqqplpqlqjjqcqvccdzdccthccvfcvvqvhqhfhhzwzpzwppgpttntssflfjjrwrqrjrppptlltptpvttpfpwpswpppzzsrzssqllbnlljpllrjllsrlrhrdrmdrmrrpsrprnrffgrffdqdhdqhhrhggwqqlddsbsqbqtqdtdhdvhhbdhdzhdhhtrrppzddgfgzgpzpvpfpnpptggltggbnbppqffzfrzzzsbsrrdgrddwsdsqddhpdpbpvpfvppfsfgfngffzmzbzlblclsccvqvqmmjtjqtjjlcjllsddjqddhldlvlrrbgbrgbrrdzzpfpggqnqbqrrqbbgjgppqgpgwgqqndncndnpdnnbvbnvnwnjjgppzlplqqdgqghqgqzggjssqmmwwcfcpptrpprggrppgbplmzwmdtnpqwzcrthqbppwbgcvgqrpfpnbscnhvrllpvpqwnsslcjrqtvdccprvqfrpswtpvzdzlgtmmvppdmhgdbbsmrbqpqspdhpqgfjznqzphrnggcbzhdqrgvzcfzrhtrlssgmjjghqsjtghhnwjffqrrfslfnsvvdvfjqbfpffrrstdhggvbfwtfpfgswqlfdrnjpjmwzptlbmwgghgwqrphcrvfmhrplllgbnjlprllmjwccphsflntgpnbmdbfqcdsbgvrnfznfrlcfvswqfrqvdnbjsflnsmlcrdstzppmcvbgdtcvgztbdzqbwhmwcfvbwjjcdgbnwjwzrrdqhpgscwtnztjsfstzfwftcldjgvdvwbzrlbdslwttbqpnlwbjcjwqgtrgcglsgtdqbqbnqznptzzbwffwlwzvvtdpcjbvhnswzptclpbndcdvsfmcrmwwgzdfsszqjjdztmtsqgfqzjpctfdpwnzbpnzzwngqnghntblndfrnjzdrmgbqmzbdqfzctrgshwqgfgqssqjltrqlzjswjhmpgwwjdwcjpnsvgrvbfpmlmmwzmbdjwsrjthppfrccjgnmwlvqlprgslbwtbbzlqbznczmsmhsfdcqnwblprcpbzzwfllbnldvpjcwsdhglrzjsptmsjdjqzsmgvhjfjrrtvvbjlmzjsntnrggwbpjlrjggfgqzvswtggthzfmfjnmrzrttbzqpwpsnmdtnbfblpfgslgcmjlbdpshnnrbhvwsbrnvdmjqhvhdjhbfzjmqrmqmdthhzvnrmqcnbtwcdjdqfvdgvmfbhrfqnmdncrddggtcppjlznbsnntppjtnsqsrjwvfrzpnzqcrzhhdflfmmtmwcvtpzbqhdwsczffcqhtdbdjblmgnrmhlqcsvcpgghhvwqhdtzpzlpfllchzltqgcwgfqnbzhgzmdwqdlwnvhqmpqjqnjbhjctslghdqvctdmjfwdfpdjnhdndzwsfjzlmsbmfmzvnvpqgqhtngvgqmlrrzsfmwlcwsscvghjvrzjjqbnplnjzqswpblwzwczhwbhhnjmctnmwlbqqfmnlwdcrptlmfjpjrnpcvmhffjhwhmntdzpdjzwzhrrsdvmjlwdtcpvjfmfzfsrgjghhlvmjjjczgmhvrfpgqbnhldwbrjgzmnszzbssfzcggrwmdfvddwsdmnwtwfwlfnwlvzlctfblbtrjvcwjjdljplcrjhwqslppwwtvfqwsjlfmdznmcdzdmgvmmsrfcclcvhtrhlsjzrbjwrjlfnvqhqvmpzmdttnbhfcvnqlrqbcsvtvwfccjstjpmhqgwlnrzjjmfdszflmglrdbpqhqhqsdfzrcljbdvvnlcqfllmnqcjfzjppdsjwshfschzqbnwfqnpwhqnmwsjbtcgvrljsrtzvcvghcjjlqsngglcggqpntrrhbjpbfhmvpltmnfmfdtwnczwfbvjcqnhvppjftwvwsrlhvvcjtsfptpqgrmrqwwddnqmnmfgrlnphbpqhhhvglqgtwvnwvnbssftmwttmfrffwtzhrpqspclvgchwqwcsgwqwwvpgcwngrcfmhbhflwfbfchlphdzdcrflfmfclsngtlwrqcrsgrdzcpdsvvcdbhgtljmbntbbcqgjqfsbfwzlfsnljpjdcnmjlqrwpmlvwgdlrrdgfhdqhzgltmclzgzzhmrbggsmgtpqdrgmjtlzwstrwbpvhppvsmdqvvwwglzjgdswjszqmrdbmshbhhcstpcsjdbvgjnvcmvhbtclrlmlgnvppgvncsrfchdbqjrclwwlnchmcgvshfsbsvvcvjrsgjlnsfqtqmgntffwnqjtldcqbcqhsgztllstswwqnfrswpchqhnfzzzszqjztzfrgrbjdbjlpvqfqrlrmmpbfbbcclrgmnlzwqrjhqrstswjpgsrtnlwsbqthzpvdzllzqmdmbvvtcztftvlwphhjzbfnrvccfmhmvmzlbrzlnppfzcsffjvjmbgpvlwgwszpztjpsrbnftqtdrbnljtbrjzzbwlsvtwtlwptdtnmtncvcblcmdngjzmctlqtzchncccnwjzrrmmmnllbhrnhwtqjsnvcslrqjfbfndqvdlrjshdzmlprtzbtnhthdqhplwzdbnjmgzlzrbzrvrqnflwfmsmbssqnbcddnvdpltpmplpdzvtjrslcdcnrdplwtjtvctwfzhlvwwqqtbqcjjwhhnpmvgzhqmqfgthwbphrmrtdghchsmwghdqjgjgmpddbrtngtvhqgjfrplrdgpbnhqvswrmqhcmsqvsqmqsgwjndwjrbrhvrctmmrmfwpsgfgdlrzpslpflgvwrgcthgcrnhgrzsmqdgdssjgspfhmqfmjfpmwqhnfjdvqzhpndvnbmqglbrjmdrwgmgctrgzpsdvfbmcstcslblmvnprphntgslmlrqwthrndrhtbccgzzfsglhgqztcsnqjwfzbzlvrpbvswbhrwdsrhrrpnrmsbvbvjccbdsdcfrrzpgwjtnnnvjwlcppwzdqsbdzpfjplrlfgvjpsmbzwpwlghnvqgddfjvrsztrpzlfgmqqzrfcgglghndbhgbmldglclhldljjdslvhzshshtqwhqnbzhvqrcmwdmcmhjcrmdmhrwnwcbhvbbrwrbtfdnztwnbpdfjfhgrmcpngftsvbsmsptnwcvvllnmbnsntbzmwnhfdptbtzswtjzdqwjdhprnjwvhzpscjvlsgrhdrmmrmhzhwwtslzdjqmzfncnmgplhnmwrvqhslvchtjcmpzpjpnpfbjptvvwcsmhgdjtsqrjlfpnfdncpqqmpgpvtlvwljlsqbnhtsqgfwlsmdjpgtvgjvjcrnnzmbllqzlrfdnlffgmtphhhgbcjgdlpzqpwmjwtcmdrsmtnmddftwczbsddtppsptbwfvpnfnsqmsgcfqfmnzffzqgcdvwzrgdwhmnzmrlhcdpdsltnsmjzdqwmmpwvjqbbwsrfgzh'"
      ]
     },
     "execution_count": 5,
     "metadata": {},
     "output_type": "execute_result"
    }
   ],
   "source": [
    "payload = load_unaltered(\"d06.txt\")\n",
    "payload"
   ]
  },
  {
   "cell_type": "code",
   "execution_count": 9,
   "metadata": {},
   "outputs": [
    {
     "data": {
      "text/plain": [
       "1034"
      ]
     },
     "execution_count": 9,
     "metadata": {},
     "output_type": "execute_result"
    }
   ],
   "source": [
    "# step 1\n",
    "def process_step(payload: str, size: int = 4):\n",
    "    for i in range(size, len(payload) +1):\n",
    "        if len(set(payload[i - size : i])) == size:\n",
    "            return i\n",
    "    return None\n",
    "\n",
    "process_step(payload)"
   ]
  },
  {
   "cell_type": "code",
   "execution_count": 10,
   "metadata": {},
   "outputs": [
    {
     "data": {
      "text/plain": [
       "2472"
      ]
     },
     "execution_count": 10,
     "metadata": {},
     "output_type": "execute_result"
    }
   ],
   "source": [
    "# step 2\n",
    "process_step(payload, 14)"
   ]
  },
  {
   "cell_type": "markdown",
   "metadata": {},
   "source": [
    "## Day 7"
   ]
  },
  {
   "cell_type": "code",
   "execution_count": 11,
   "metadata": {},
   "outputs": [
    {
     "data": {
      "text/plain": [
       "1367870"
      ]
     },
     "execution_count": 11,
     "metadata": {},
     "output_type": "execute_result"
    }
   ],
   "source": [
    "from collections import defaultdict \n",
    "from pathlib import Path\n",
    "\n",
    "# step 1\n",
    "def process_step1(payload):\n",
    "    # this simulates a file system\n",
    "    current_dir = Path(\"/\")\n",
    "    dir_sizes = defaultdict(int)\n",
    "\n",
    "    for line in payload.splitlines():\n",
    "        if line.startswith(\"$ cd\"):\n",
    "            # this navigates the file system\n",
    "            current_dir = (current_dir / line[5:]).resolve()\n",
    "        \n",
    "        elif line.startswith(\"$ ls\"):\n",
    "            continue\n",
    "\n",
    "        elif line.startswith(\"dir\"):\n",
    "            continue\n",
    "\n",
    "        else:\n",
    "            size = int(line.split(\" \")[0])\n",
    "            dir_sizes[current_dir] += size\n",
    "            for parent in current_dir.parents:\n",
    "                dir_sizes[parent] += size\n",
    "\n",
    "\n",
    "    return dir_sizes\n",
    "\n",
    "\n",
    "payload = load_unaltered(\"d07.txt\")\n",
    "all_directories = process_step1(payload)\n",
    "\n",
    "sum(v for v in all_directories.values() if v <= 100000)"
   ]
  },
  {
   "cell_type": "code",
   "execution_count": 16,
   "metadata": {},
   "outputs": [
    {
     "data": {
      "text/plain": [
       "40528671"
      ]
     },
     "execution_count": 16,
     "metadata": {},
     "output_type": "execute_result"
    }
   ],
   "source": [
    " # root, since we're on windows\n",
    "all_directories[Path('C:/')]"
   ]
  },
  {
   "cell_type": "code",
   "execution_count": 17,
   "metadata": {},
   "outputs": [
    {
     "data": {
      "text/plain": [
       "549173"
      ]
     },
     "execution_count": 17,
     "metadata": {},
     "output_type": "execute_result"
    }
   ],
   "source": [
    "# step 2\n",
    "total = 70000000\n",
    "update = 30000000\n",
    "used = all_directories[Path(\"C:/\")]\n",
    "required = update - (total - used)\n",
    "\n",
    "min(v for v in all_directories.values() if v >= required)"
   ]
  },
  {
   "cell_type": "markdown",
   "metadata": {},
   "source": [
    "## Day 8"
   ]
  },
  {
   "cell_type": "code",
   "execution_count": 26,
   "metadata": {},
   "outputs": [
    {
     "data": {
      "text/plain": [
       "array([[1, 1, 1, ..., 1, 1, 2],\n",
       "       [1, 0, 0, ..., 0, 0, 1],\n",
       "       [1, 0, 0, ..., 0, 0, 1],\n",
       "       ...,\n",
       "       [1, 0, 0, ..., 0, 0, 1],\n",
       "       [1, 0, 0, ..., 0, 0, 1],\n",
       "       [2, 1, 1, ..., 1, 1, 1]], dtype=int16)"
      ]
     },
     "execution_count": 26,
     "metadata": {},
     "output_type": "execute_result"
    }
   ],
   "source": [
    "import numpy as np\n",
    "\n",
    "payload = load_unaltered(\"d08.txt\")\n",
    "\n",
    "payload = payload.splitlines()\n",
    "nrows, ncols = len(payload), len(payload[0])\n",
    "forest = np.zeros((nrows, ncols), dtype=np.int16)\n",
    "counter = forest.copy()\n",
    "\n",
    "for i, row in enumerate(payload):\n",
    "    for j, col in enumerate(list(row)):\n",
    "        forest[i,j] = col\n",
    "\n",
    "counter "
   ]
  }
 ],
 "metadata": {
  "kernelspec": {
   "display_name": "base",
   "language": "python",
   "name": "python3"
  },
  "language_info": {
   "codemirror_mode": {
    "name": "ipython",
    "version": 3
   },
   "file_extension": ".py",
   "mimetype": "text/x-python",
   "name": "python",
   "nbconvert_exporter": "python",
   "pygments_lexer": "ipython3",
   "version": "3.9.7"
  }
 },
 "nbformat": 4,
 "nbformat_minor": 2
}
