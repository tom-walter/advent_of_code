{
 "cells": [
  {
   "cell_type": "markdown",
   "metadata": {},
   "source": [
    "## Day 1"
   ]
  },
  {
   "cell_type": "code",
   "execution_count": 5,
   "metadata": {},
   "outputs": [
    {
     "name": "stdout",
     "output_type": "stream",
     "text": [
      "step 1 = 72602\n",
      "step 2 = 207410\n"
     ]
    },
    {
     "data": {
      "text/plain": [
       "()"
      ]
     },
     "execution_count": 5,
     "metadata": {},
     "output_type": "execute_result"
    }
   ],
   "source": [
    "use std::fs::File;\n",
    "use std::io::Read;\n",
    "\n",
    "fn load_unaltered(filepath: &str) -> String {\n",
    "    let mut file = File::open(filepath).expect(\"Error reading file\");\n",
    "    let mut payload = String::new();\n",
    "    file.read_to_string(&mut payload).unwrap();\n",
    "    payload\n",
    "}\n",
    "\n",
    "\n",
    "fn process_part1(payload: &str) -> String {\n",
    "    let result = payload\n",
    "        .replace('\\r', \"\") // somehow they sneak in somewhere?\n",
    "        .split(\"\\n\\n\")\n",
    "        .map(|elf_load| {\n",
    "            elf_load\n",
    "            .lines()\n",
    "            .map(|item| item.parse::<u32>().unwrap())\n",
    "            .sum::<u32>()\n",
    "        })\n",
    "        .max()\n",
    "        .unwrap();\n",
    "    result.to_string()\n",
    "}\n",
    "\n",
    "\n",
    "fn process_part2(payload: &str) -> String {\n",
    "    let mut result = payload\n",
    "        .replace('\\r', \"\")\n",
    "        .split(\"\\n\\n\")\n",
    "        .map(|elf_load| {\n",
    "            elf_load\n",
    "            .lines()\n",
    "            .map(|item| item.parse::<u32>().unwrap())\n",
    "            .sum::<u32>()\n",
    "        })\n",
    "        .collect::<Vec<u32>>();\n",
    "\n",
    "    result.sort_by(|a, b| b.cmp(a));\n",
    "    let sum: u32 = result.iter().take(3).sum();\n",
    "    sum.to_string()\n",
    "}\n",
    "\n",
    "fn day01() {\n",
    "    let payload = load_unaltered(\"./d01.txt\");\n",
    "    let result1 = process_part1(&payload);\n",
    "    let result2 = process_part2(&payload);\n",
    "    println!(\"step 1 = {}\", result1);\n",
    "    println!(\"step 2 = {}\", result2);\n",
    "}\n",
    "\n",
    "day01()"
   ]
  },
  {
   "cell_type": "markdown",
   "metadata": {},
   "source": [
    "## Day 2"
   ]
  },
  {
   "cell_type": "code",
   "execution_count": null,
   "metadata": {},
   "outputs": [
    {
     "name": "stdout",
     "output_type": "stream",
     "text": [
      "11876\n"
     ]
    },
    {
     "data": {
      "text/plain": [
       "()"
      ]
     },
     "execution_count": 3,
     "metadata": {},
     "output_type": "execute_result"
    }
   ],
   "source": [
    "use std::str::FromStr;\n",
    "use std::cmp::Ordering;\n",
    "\n",
    "#[derive(PartialEq, Copy, Clone)]\n",
    "enum Move {\n",
    "    Rock = 1, \n",
    "    Paper = 2, \n",
    "    Scissor = 3,\n",
    "}\n",
    "\n",
    "\n",
    "impl PartialOrd for Move {\n",
    "    fn partial_cmp(&self, other: &Self) -> Option<std::cmp::Ordering> {\n",
    "        if self == &Move::Scissor && other == &Move::Rock {\n",
    "           Some(Ordering::Greater)\n",
    "        } else if self == &Move::Rock && other == &Move::Scissor {\n",
    "            Some(Ordering::Less)\n",
    "        } else {\n",
    "            Some({*self as u8}.cmp(&(*other as u8)))\n",
    "        }\n",
    "    }\n",
    "}\n",
    "\n",
    "impl FromStr for Move {\n",
    "    type Err = String;\n",
    "\n",
    "    fn from_str(s: &str) -> Result<Self, Self::Err> {\n",
    "        match s {\n",
    "            \"A\" | \"X\" => Ok(Move::Rock),\n",
    "            \"B\" | \"Y\" => Ok(Move::Paper),\n",
    "            \"C\" | \"Z\" => Ok(Move::Scissor),\n",
    "            _ => Err(\"Move unknown\".to_string())\n",
    "        }\n",
    "    }\n",
    "}\n",
    "\n",
    "fn process_part1(payload: &str) -> String {\n",
    "    let result: u32 = payload\n",
    "        .lines()\n",
    "        .map(|line| {\n",
    "            let moves: Vec<Move> = line\n",
    "                .split(\" \")\n",
    "                .map(|s| s.parse::<Move>().unwrap())\n",
    "                .collect();\n",
    "            match moves[0].partial_cmp(&moves[1]) {\n",
    "                Some(Ordering::Equal) => {3 + moves[1] as u32}\n",
    "                Some(Ordering::Less) => {6 + moves[1] as u32}\n",
    "                Some(Ordering::Greater) => {0 + moves[1] as u32}\n",
    "                None => panic!(\"moves should be comparable\")\n",
    "            }\n",
    "        })\n",
    "        .sum();\n",
    "    result.to_string()\n",
    "\n",
    "}\n",
    "\n",
    "\n",
    "// fn process_part2(){}\n",
    "\n",
    "fn day02(){\n",
    "    let payload = load_unaltered(\"./d02.txt\");\n",
    "    let result = process_part1(&payload);\n",
    "    println!(\"{}\", result)\n",
    "}\n",
    "\n",
    "day02()"
   ]
  },
  {
   "cell_type": "markdown",
   "metadata": {
    "vscode": {
     "languageId": "rust"
    }
   },
   "source": [
    "## Day 03"
   ]
  },
  {
   "cell_type": "code",
   "execution_count": null,
   "metadata": {},
   "outputs": [
    {
     "name": "stdout",
     "output_type": "stream",
     "text": [
      "8298\n"
     ]
    },
    {
     "data": {
      "text/plain": [
       "()"
      ]
     },
     "execution_count": 14,
     "metadata": {},
     "output_type": "execute_result"
    }
   ],
   "source": [
    "use std::collections::{HashMap, HashSet};\n",
    "\n",
    "fn build_priority_map() -> HashMap<char, i32> {\n",
    "    let mut priority = HashMap::new();\n",
    "    for (index, letter) in ('a'..='z').chain('A'..='Z').enumerate() {\n",
    "        priority.insert(letter, (index + 1) as i32);\n",
    "    }\n",
    "    priority\n",
    "}\n",
    "\n",
    "fn process_part1(payload: &str) -> String {\n",
    "    let priority = build_priority_map();\n",
    "\n",
    "    let mut duplicate_items: Vec<char> = Vec::new();\n",
    "\n",
    "    for rucksack in payload.lines() {\n",
    "        let split_len = rucksack.len() / 2;\n",
    "        let (r1, r2) = rucksack.split_at(split_len);\n",
    "\n",
    "        let set1: HashSet<char> = r1.chars().collect();\n",
    "        let set2: HashSet<char> = r2.chars().collect();\n",
    "\n",
    "        if let Some(&common) = set1.intersection(&set2).next() {\n",
    "            duplicate_items.push(common);\n",
    "        }\n",
    "    }\n",
    "\n",
    "    let score: i32 = duplicate_items\n",
    "        .iter()\n",
    "        .map(|l| priority.get(l).unwrap_or(&0))\n",
    "        .sum();\n",
    "\n",
    "    score.to_string()\n",
    "}\n",
    "\n",
    "\n",
    "fn day03() {\n",
    "    let payload = load_unaltered(\"./d03.txt\");\n",
    "    let result = process_part1(&payload);\n",
    "    println!(\"Result: {}\", result)\n",
    "}\n",
    "\n",
    "day03()"
   ]
  },
  {
   "cell_type": "code",
   "execution_count": null,
   "metadata": {},
   "outputs": [
    {
     "name": "stdout",
     "output_type": "stream",
     "text": [
      "Result: 2708\n"
     ]
    },
    {
     "data": {
      "text/plain": [
       "()"
      ]
     },
     "execution_count": 28,
     "metadata": {},
     "output_type": "execute_result"
    }
   ],
   "source": [
    "fn process_part2(payload: &str) -> String {\n",
    "    let priority = build_priority_map();\n",
    "    let mut duplicate_items: Vec<char> = Vec::new();\n",
    "\n",
    "    let lines: Vec<&str> = payload.lines().collect();\n",
    "\n",
    "    // takes 3 elements from iterable at iteration\n",
    "    for chunk in lines.chunks(3) { \n",
    "\n",
    "        let set1: HashSet<char> = chunk[0].chars().collect();\n",
    "        let set2: HashSet<char> = chunk[1].chars().collect();\n",
    "        let set3: HashSet<char> = chunk[2].chars().collect();\n",
    "\n",
    "        if let Some(&common) = set1\n",
    "            .intersection(&set2)\n",
    "            .copied()\n",
    "            .collect::<HashSet<_>>()\n",
    "            .intersection(&set3)\n",
    "            .next() {\n",
    "                duplicate_items.push(common);\n",
    "        }\n",
    "\n",
    "    }\n",
    "\n",
    "    let score: i32 = duplicate_items\n",
    "        .iter()\n",
    "        .map(|l| priority.get(l).unwrap_or(&0))\n",
    "        .sum();\n",
    "\n",
    "    score.to_string()\n",
    "}\n",
    "\n",
    "fn day03() {\n",
    "    let payload = load_unaltered(\"./d03.txt\");\n",
    "    let result = process_part2(&payload);\n",
    "    println!(\"Result: {}\", result)\n",
    "}\n",
    "\n",
    "day03()"
   ]
  }
 ],
 "metadata": {
  "kernelspec": {
   "display_name": "Rust",
   "language": "rust",
   "name": "rust"
  },
  "language_info": {
   "codemirror_mode": "rust",
   "file_extension": ".rs",
   "mimetype": "text/rust",
   "name": "rust",
   "pygment_lexer": "rust",
   "version": ""
  }
 },
 "nbformat": 4,
 "nbformat_minor": 2
}
