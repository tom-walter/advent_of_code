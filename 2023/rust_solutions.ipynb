{
 "cells": [
  {
   "cell_type": "markdown",
   "metadata": {},
   "source": [
    "## Day 1"
   ]
  },
  {
   "cell_type": "code",
   "execution_count": 3,
   "metadata": {
    "vscode": {
     "languageId": "rust"
    }
   },
   "outputs": [
    {
     "name": "stdout",
     "output_type": "stream",
     "text": [
      "55208\n"
     ]
    },
    {
     "data": {
      "text/plain": [
       "()"
      ]
     },
     "execution_count": 3,
     "metadata": {},
     "output_type": "execute_result"
    }
   ],
   "source": [
    "use std::fs::File;\n",
    "use std::io::Read;\n",
    "\n",
    "fn load_unaltered(filepath: &str) -> String {\n",
    "    let mut file = File::open(filepath).expect(\"Error reading file\");\n",
    "    let mut payload = String::new();\n",
    "    file.read_to_string(&mut payload).unwrap();\n",
    "    payload\n",
    "}\n",
    "\n",
    "fn process_step1(payload: &str) -> String {\n",
    "    let output: u32 = payload\n",
    "        .lines()\n",
    "        .map(|line| {\n",
    "            let mut it = line.chars().filter_map(|charater|{\n",
    "                charater.to_digit(10)\n",
    "            });\n",
    "            let first = it.next().expect(\"should be a number\");\n",
    "\n",
    "            match it.last() {\n",
    "                Some(num) => format!(\"{first}{num}\"),\n",
    "                None => format!(\"{first}{first}\"),\n",
    "            }\n",
    "            .parse::<u32>()\n",
    "            .expect(\"should be a valid number\")\n",
    "        }) \n",
    "        .sum();\n",
    "        output.to_string()\n",
    "}\n",
    "\n",
    "fn day1() {\n",
    "    let payload = load_unaltered(\"./d01.txt\");\n",
    "    let output: String = process_step1(&payload);\n",
    "    println!(\"{}\", output)\n",
    "}\n",
    "\n",
    "day1()"
   ]
  },
  {
   "cell_type": "markdown",
   "metadata": {},
   "source": [
    "## Day 02"
   ]
  },
  {
   "cell_type": "code",
   "execution_count": 10,
   "metadata": {
    "vscode": {
     "languageId": "rust"
    }
   },
   "outputs": [
    {
     "name": "stdout",
     "output_type": "stream",
     "text": [
      "Result: 5050\n"
     ]
    }
   ],
   "source": [
    "use std::collections::HashMap;\n",
    "\n",
    "/// Helper function: `all`\n",
    "fn all<I, F>(iter: I, predicate: F) -> bool\n",
    "where\n",
    "    I: IntoIterator,\n",
    "    F: Fn(I::Item) -> bool,\n",
    "{\n",
    "    iter.into_iter().all(predicate)\n",
    "}\n",
    "\n",
    "fn process_step1(payload: &str) -> String {\n",
    "    let possible_games_set: HashMap<&str, i32> = [\n",
    "        (\"red\", 12),\n",
    "        (\"green\", 13),\n",
    "        (\"blue\", 14),\n",
    "    ]\n",
    "    .iter()\n",
    "    .cloned()\n",
    "    .collect();\n",
    "\n",
    "    let mut possible_games_solution: Vec<i32> = Vec::new();\n",
    "\n",
    "    for line in payload.lines() {\n",
    "        if let Some((game_id_part, game_part)) = line.split_once(\":\") {\n",
    "            // Parse the game ID\n",
    "            let game_id = game_id_part\n",
    "                .split_whitespace()\n",
    "                .last()\n",
    "                .unwrap_or(\"0\")\n",
    "                .parse::<i32>()\n",
    "                .unwrap_or(0);\n",
    "\n",
    "            // Check if all roles in the game are valid\n",
    "            let is_game_valid = all(game_part.split(\";\"), |sets| {\n",
    "                all(sets.split(\",\"), |role| {\n",
    "                    if let Some((num_part, color)) = role.rsplit_once(\" \") {\n",
    "                        let num = num_part.parse::<i32>().unwrap_or(0);\n",
    "                        if let Some(&max_allowed) = possible_games_set.get(color) {\n",
    "                            num <= max_allowed\n",
    "                        } else {\n",
    "                            false // Invalid color\n",
    "                        }\n",
    "                    } else {\n",
    "                        false // Malformed role\n",
    "                    }\n",
    "                })\n",
    "            });\n",
    "\n",
    "            // If the game is valid, add the game ID to the solution\n",
    "            if is_game_valid {\n",
    "                possible_games_solution.push(game_id);\n",
    "            }\n",
    "        }\n",
    "    }\n",
    "\n",
    "    let sum: i32 = possible_games_solution.iter().sum();\n",
    "    sum.to_string()\n",
    "}\n",
    "\n",
    "fn day2() {\n",
    "    let payload = load_unaltered(\"./d02.txt\"); // Replace with your file loading implementation\n",
    "    let result: String = process_step1(&payload);\n",
    "    println!(\"Result: {}\", result);\n",
    "}\n",
    "\n",
    "day2();\n"
   ]
  },
  {
   "cell_type": "markdown",
   "metadata": {},
   "source": [
    "## Day 03 "
   ]
  },
  {
   "cell_type": "code",
   "execution_count": null,
   "metadata": {
    "vscode": {
     "languageId": "rust"
    }
   },
   "outputs": [],
   "source": []
  },
  {
   "cell_type": "markdown",
   "metadata": {},
   "source": [
    "## Day 05"
   ]
  },
  {
   "cell_type": "code",
   "execution_count": null,
   "metadata": {
    "vscode": {
     "languageId": "rust"
    }
   },
   "outputs": [],
   "source": [
    "use std::fs::File;\n",
    "use std::io::Read;\n",
    "\n",
    "fn load_unaltered(filepath: &str) -> String {\n",
    "    let mut file = File::open(filepath).expect(\"Error reading file\");\n",
    "    let mut payload = String::new();\n",
    "    file.read_to_string(&mut payload).unwrap();\n",
    "    payload\n",
    "}"
   ]
  }
 ],
 "metadata": {
  "kernelspec": {
   "display_name": "Rust",
   "language": "rust",
   "name": "rust"
  },
  "language_info": {
   "codemirror_mode": "rust",
   "file_extension": ".rs",
   "mimetype": "text/rust",
   "name": "Rust",
   "pygment_lexer": "rust",
   "version": ""
  }
 },
 "nbformat": 4,
 "nbformat_minor": 2
}
